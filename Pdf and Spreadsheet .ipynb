{
 "cells": [
  {
   "cell_type": "markdown",
   "id": "f4b64fff-cc2e-496e-9f9f-26b0cfcb793d",
   "metadata": {},
   "source": [
    "## CSV Files"
   ]
  },
  {
   "cell_type": "code",
   "execution_count": 1,
   "id": "99792ac0-2f15-473e-b06e-219135df556e",
   "metadata": {},
   "outputs": [],
   "source": [
    "import csv"
   ]
  },
  {
   "cell_type": "code",
   "execution_count": 5,
   "id": "8634d661-3aa1-4255-ad6a-2a1a8d7c0894",
   "metadata": {},
   "outputs": [],
   "source": [
    "# open the file \n",
    "data = open('example.csv', encoding='utf-8')\n",
    "# csv.reader\n",
    "# reform it into python object list of lists"
   ]
  },
  {
   "cell_type": "code",
   "execution_count": 6,
   "id": "be923305-8e30-4939-9684-1b8f3706acae",
   "metadata": {},
   "outputs": [],
   "source": [
    "#csv. reader\n",
    "csv_data = csv.reader(data)"
   ]
  },
  {
   "cell_type": "code",
   "execution_count": 7,
   "id": "8a175846-5717-4b35-9167-cd9583723357",
   "metadata": {},
   "outputs": [],
   "source": [
    "data_lines = list(csv_data)"
   ]
  },
  {
   "cell_type": "code",
   "execution_count": 11,
   "id": "9358b4aa-1267-4130-9472-e43e980aa207",
   "metadata": {},
   "outputs": [
    {
     "data": {
      "text/plain": [
       "['id', 'first_name', 'last_name', 'email', 'gender', 'ip_address', 'city']"
      ]
     },
     "execution_count": 11,
     "metadata": {},
     "output_type": "execute_result"
    }
   ],
   "source": [
    "data_lines[0]"
   ]
  },
  {
   "cell_type": "code",
   "execution_count": 12,
   "id": "4afd29a4-f4e9-4502-9b4a-21956e618282",
   "metadata": {},
   "outputs": [
    {
     "data": {
      "text/plain": [
       "1001"
      ]
     },
     "execution_count": 12,
     "metadata": {},
     "output_type": "execute_result"
    }
   ],
   "source": [
    "len(data_lines)"
   ]
  },
  {
   "cell_type": "code",
   "execution_count": 13,
   "id": "9daf9301-383d-4892-b91f-c28da2fe3dd3",
   "metadata": {},
   "outputs": [
    {
     "name": "stdout",
     "output_type": "stream",
     "text": [
      "['id', 'first_name', 'last_name', 'email', 'gender', 'ip_address', 'city']\n",
      "['1', 'Joseph', 'Zaniolini', 'jzaniolini0@simplemachines.org', 'Male', '163.168.68.132', 'Pedro Leopoldo']\n",
      "['2', 'Freida', 'Drillingcourt', 'fdrillingcourt1@umich.edu', 'Female', '97.212.102.79', 'Buri']\n",
      "['3', 'Nanni', 'Herity', 'nherity2@statcounter.com', 'Female', '145.151.178.98', 'Claver']\n",
      "['4', 'Orazio', 'Frayling', 'ofrayling3@economist.com', 'Male', '25.199.143.143', 'Kungur']\n"
     ]
    }
   ],
   "source": [
    "for line in data_lines[:5]:\n",
    "    print(line)"
   ]
  },
  {
   "cell_type": "code",
   "execution_count": 16,
   "id": "46682ab5-b7d8-4bf3-8a74-16af2dff7a57",
   "metadata": {},
   "outputs": [
    {
     "data": {
      "text/plain": [
       "'hgasquoine9@google.ru'"
      ]
     },
     "execution_count": 16,
     "metadata": {},
     "output_type": "execute_result"
    }
   ],
   "source": [
    "data_lines[0]\n",
    "data_lines[10][3]"
   ]
  },
  {
   "cell_type": "code",
   "execution_count": 17,
   "id": "61317143-bf2b-4bf0-b6ff-9edbec42ccb9",
   "metadata": {},
   "outputs": [],
   "source": [
    "all_emails = []\n"
   ]
  },
  {
   "cell_type": "code",
   "execution_count": 18,
   "id": "a97066a8-e171-40e8-93be-a15aab15a690",
   "metadata": {},
   "outputs": [],
   "source": [
    "for line in data_lines[1:15]:\n",
    "    all_emails.append(line[3])"
   ]
  },
  {
   "cell_type": "code",
   "execution_count": 19,
   "id": "66e1309b-7de6-466a-92e5-b616ab5f0ad7",
   "metadata": {},
   "outputs": [
    {
     "data": {
      "text/plain": [
       "['jzaniolini0@simplemachines.org',\n",
       " 'fdrillingcourt1@umich.edu',\n",
       " 'nherity2@statcounter.com',\n",
       " 'ofrayling3@economist.com',\n",
       " 'jmurrison4@cbslocal.com',\n",
       " 'lgamet5@list-manage.com',\n",
       " 'dhowatt6@amazon.com',\n",
       " 'kherion7@amazon.com',\n",
       " 'chedworth8@china.com.cn',\n",
       " 'hgasquoine9@google.ru',\n",
       " 'ftarra@shareasale.com',\n",
       " 'abathb@umn.edu',\n",
       " 'lchastangc@goo.gl',\n",
       " 'cceried@yale.edu']"
      ]
     },
     "execution_count": 19,
     "metadata": {},
     "output_type": "execute_result"
    }
   ],
   "source": [
    "all_emails"
   ]
  },
  {
   "cell_type": "code",
   "execution_count": 20,
   "id": "3333f3db-ff0a-4006-a79f-7411be6f56d9",
   "metadata": {},
   "outputs": [
    {
     "data": {
      "text/plain": [
       "['10',\n",
       " 'Hyatt',\n",
       " 'Gasquoine',\n",
       " 'hgasquoine9@google.ru',\n",
       " 'Male',\n",
       " '221.155.106.39',\n",
       " 'Złoty Stok']"
      ]
     },
     "execution_count": 20,
     "metadata": {},
     "output_type": "execute_result"
    }
   ],
   "source": [
    "data_lines[10]"
   ]
  },
  {
   "cell_type": "code",
   "execution_count": 27,
   "id": "80c56cf0-edd3-478e-9460-87ec5773fed2",
   "metadata": {},
   "outputs": [],
   "source": [
    "full_name = []"
   ]
  },
  {
   "cell_type": "code",
   "execution_count": 28,
   "id": "1a8152b2-5f83-42e3-bcec-008168e2dc2b",
   "metadata": {},
   "outputs": [
    {
     "data": {
      "text/plain": [
       "['Joseph Zaniolini',\n",
       " 'Freida Drillingcourt',\n",
       " 'Nanni Herity',\n",
       " 'Orazio Frayling',\n",
       " 'Julianne Murrison',\n",
       " 'Lucy Gamet',\n",
       " 'Dyana Howatt',\n",
       " 'Kassey Herion',\n",
       " 'Chrissy Hedworth',\n",
       " 'Hyatt Gasquoine',\n",
       " 'Felicdad Tarr',\n",
       " 'Andrew Bath',\n",
       " 'Lucais Chastang',\n",
       " 'Car Cerie']"
      ]
     },
     "execution_count": 28,
     "metadata": {},
     "output_type": "execute_result"
    }
   ],
   "source": [
    "for name in data_lines[1:15]:\n",
    "    full_name.append(name[1] + ' ' + name[2])\n",
    "full_name"
   ]
  },
  {
   "cell_type": "code",
   "execution_count": 29,
   "id": "58a30dc1-9fd3-437a-89e5-5b578f74018e",
   "metadata": {},
   "outputs": [],
   "source": [
    "file_to_output = open('my_to_save_file.csv', mode='w', newline =\"\")"
   ]
  },
  {
   "cell_type": "code",
   "execution_count": 30,
   "id": "e86d5639-3eb9-4fbb-9633-dc771716de59",
   "metadata": {},
   "outputs": [],
   "source": [
    "csv_writer = csv.writer(file_to_output, delimiter=',')"
   ]
  },
  {
   "cell_type": "code",
   "execution_count": 32,
   "id": "1b3312c3-124b-4b57-b9ed-5e26a98c9095",
   "metadata": {},
   "outputs": [
    {
     "data": {
      "text/plain": [
       "9"
      ]
     },
     "execution_count": 32,
     "metadata": {},
     "output_type": "execute_result"
    }
   ],
   "source": [
    "csv_writer.writerow(['a','b','c','d'])"
   ]
  },
  {
   "cell_type": "code",
   "execution_count": 33,
   "id": "2de07da8-1e04-4a4c-a39c-fcc908a1b36f",
   "metadata": {},
   "outputs": [],
   "source": [
    "csv_writer.writerows([['1','2','3'],['4','5','6']])"
   ]
  },
  {
   "cell_type": "code",
   "execution_count": 34,
   "id": "4ca3c5b0-9ae7-4041-b007-95ecae1b8e94",
   "metadata": {},
   "outputs": [],
   "source": [
    "file_to_output.close()"
   ]
  },
  {
   "cell_type": "code",
   "execution_count": 35,
   "id": "32811c73-2f85-4089-a571-ed312e4ce6f1",
   "metadata": {},
   "outputs": [],
   "source": [
    "with open('my_to_save_file.csv', mode='a', newline='') as f:\n",
    "    csv_writer = csv.writer(f)\n",
    "    csv_writer.writerow(['x','y','z'])"
   ]
  },
  {
   "cell_type": "markdown",
   "id": "c9b447b7-d28a-4780-989d-b2d556d7fd89",
   "metadata": {},
   "source": [
    "## Working with Pdf files"
   ]
  },
  {
   "cell_type": "code",
   "execution_count": 36,
   "id": "09ac7312-9ac8-45a8-b6f3-85eab8360ac6",
   "metadata": {},
   "outputs": [],
   "source": [
    "import PyPDF2"
   ]
  },
  {
   "cell_type": "code",
   "execution_count": 37,
   "id": "aabd84c2-be4e-4e7f-a683-13f1ca6ca99c",
   "metadata": {},
   "outputs": [],
   "source": [
    "f = open('Working_Business_Proposal.pdf', 'rb')"
   ]
  },
  {
   "cell_type": "code",
   "execution_count": 38,
   "id": "ac15cedd-5c4f-47df-8ab8-2b36838d27b7",
   "metadata": {},
   "outputs": [],
   "source": [
    "pdf_reader = PyPDF2.PdfFileReader(f)"
   ]
  },
  {
   "cell_type": "code",
   "execution_count": 39,
   "id": "919f17cc-cdcc-4086-b33e-89b5a5695a8f",
   "metadata": {},
   "outputs": [
    {
     "data": {
      "text/plain": [
       "5"
      ]
     },
     "execution_count": 39,
     "metadata": {},
     "output_type": "execute_result"
    }
   ],
   "source": [
    "pdf_reader.numPages"
   ]
  },
  {
   "cell_type": "code",
   "execution_count": 40,
   "id": "f8c780d1-8a15-4032-906e-c7863ffc38b6",
   "metadata": {},
   "outputs": [],
   "source": [
    "page_one = pdf_reader.getPage(0)"
   ]
  },
  {
   "cell_type": "code",
   "execution_count": 41,
   "id": "4c7d64a0-4516-4fc8-bb1d-f512ac51d754",
   "metadata": {},
   "outputs": [],
   "source": [
    "page_one_text = page_one.extractText()"
   ]
  },
  {
   "cell_type": "code",
   "execution_count": 42,
   "id": "4797c1c1-cc82-425c-9368-3144857c33d4",
   "metadata": {},
   "outputs": [
    {
     "data": {
      "text/plain": [
       "'Business Proposal\\n \\nThe Revolution is Coming\\n \\nLeverageagileframeworkstoprovidearobustsynopsisforhighlevel \\noverviews.Iterativeapproachestocorporatestrategyfostercollaborative \\nthinking to further the overall value proposition. Organically grow the \\nholisticworldviewofdisruptiveinnovationviaworkplacediversityand \\nempowerment. \\nBring to the table win-win survival strategies to ensure proactive \\ndomination.Attheendoftheday,goingforward,anewnormalthathas \\nevolvedfromgenerationXisontherunwayheadingtowardsastreamlined \\ncloud solution. User generated content in real-time will have multiple \\ntouchpoints for offshoring. \\nCapitalizeonlowhangingfruittoidentifyaballparkvalueaddedactivityto \\nbetatest.Overridethedigitaldividewithadditionalclickthroughsfrom \\nDevOps.Nanotechnologyimmersionalongtheinformationhighwaywill \\nclose the loop on focusing solely on the bottom line. \\nPodcasting operational change management inside of workßows to \\nestablishaframework.Takingseamlesskeyperformanceindicatorsofßine \\ntomaximisethelongtail.Keepingyoureyeontheballwhileperforminga \\ndeep dive on the start-up mentality to derive convergence on cross-\\nplatform integration. \\nCollaboratively administrate empowered markets via plug-and-play \\nnetworks. Dynamically procrastinate B2C users after installed base \\nbeneÞts. Dramatically visualize customer directed convergence without \\nrevolutionary ROI. \\nEfÞciently unleash cross-media information without cross-media value. \\nQuicklymaximizetimelydeliverablesforreal-timeschemas.Dramatically \\nmaintain clicks-and-mortar solutions without functional solutions. \\nBUSINESS PROPOSAL\\n!\\n1\\n'"
      ]
     },
     "execution_count": 42,
     "metadata": {},
     "output_type": "execute_result"
    }
   ],
   "source": [
    "page_one_text"
   ]
  },
  {
   "cell_type": "code",
   "execution_count": 43,
   "id": "af2843aa-5ce1-4f78-9767-ab848e8d6309",
   "metadata": {},
   "outputs": [],
   "source": [
    "f.close()"
   ]
  },
  {
   "cell_type": "code",
   "execution_count": 44,
   "id": "424f2c70-8223-4eb0-a83f-9d82d8470a79",
   "metadata": {},
   "outputs": [],
   "source": [
    "with open('Working_Business_Proposal.pdf', 'rb') as f:\n",
    "    pdf_reader =PyPDF2.PdfFileReader(f)\n",
    "    first_page = pdf_reader.getPage(0)\n",
    "    pdf_writer = PyPDF2.PdfFileWriter()\n",
    "    pdf_writer.addPage(first_page)\n",
    "    with open('testing.pdf', 'wb') as pdf_output:\n",
    "        pdf_writer.write(pdf_output)"
   ]
  },
  {
   "cell_type": "code",
   "execution_count": 45,
   "id": "2df88993-7008-40b6-9c24-3b70277dac13",
   "metadata": {},
   "outputs": [],
   "source": [
    "with open('Working_Business_Proposal.pdf', 'rb') as f:\n",
    "    \n",
    "    pdf_text = []\n",
    "    \n",
    "    pdf_reader = PyPDF2.PdfFileReader(f)\n",
    "    \n",
    "    for num in range(pdf_reader.numPages):\n",
    "        \n",
    "        page = pdf_reader.getPage(num)\n",
    "        \n",
    "        pdf_text.append(page.extractText())"
   ]
  },
  {
   "cell_type": "code",
   "execution_count": 46,
   "id": "ba8be773-3312-466f-977b-a7fce1a8e0bf",
   "metadata": {},
   "outputs": [
    {
     "data": {
      "text/plain": [
       "['Business Proposal\\n \\nThe Revolution is Coming\\n \\nLeverageagileframeworkstoprovidearobustsynopsisforhighlevel \\noverviews.Iterativeapproachestocorporatestrategyfostercollaborative \\nthinking to further the overall value proposition. Organically grow the \\nholisticworldviewofdisruptiveinnovationviaworkplacediversityand \\nempowerment. \\nBring to the table win-win survival strategies to ensure proactive \\ndomination.Attheendoftheday,goingforward,anewnormalthathas \\nevolvedfromgenerationXisontherunwayheadingtowardsastreamlined \\ncloud solution. User generated content in real-time will have multiple \\ntouchpoints for offshoring. \\nCapitalizeonlowhangingfruittoidentifyaballparkvalueaddedactivityto \\nbetatest.Overridethedigitaldividewithadditionalclickthroughsfrom \\nDevOps.Nanotechnologyimmersionalongtheinformationhighwaywill \\nclose the loop on focusing solely on the bottom line. \\nPodcasting operational change management inside of workßows to \\nestablishaframework.Takingseamlesskeyperformanceindicatorsofßine \\ntomaximisethelongtail.Keepingyoureyeontheballwhileperforminga \\ndeep dive on the start-up mentality to derive convergence on cross-\\nplatform integration. \\nCollaboratively administrate empowered markets via plug-and-play \\nnetworks. Dynamically procrastinate B2C users after installed base \\nbeneÞts. Dramatically visualize customer directed convergence without \\nrevolutionary ROI. \\nEfÞciently unleash cross-media information without cross-media value. \\nQuicklymaximizetimelydeliverablesforreal-timeschemas.Dramatically \\nmaintain clicks-and-mortar solutions without functional solutions. \\nBUSINESS PROPOSAL\\n!\\n1\\n',\n",
       " 'Completely synergize resource taxing relationships via premier niche \\nmarkets.Professionallycultivateone-to-onecustomerservicewithrobust \\nideas.Dynamicallyinnovateresource-levelingcustomerserviceforstateof \\nthe art customer service. \\nObjectivelyinnovateempoweredmanufacturedproductswhereasparallel \\nplatforms.Holisticlypredominateextensibletestingproceduresforreliable \\nsupply chains. Dramatically engage top-line web services vis-a-vis \\ncutting-edge deliverables. \\nProactively envisioned multimedia based expertise and cross-media \\ngrowthstrategies.Seamlesslyvisualizequalityintellectualcapitalwithout \\nsuperior collaboration and idea-sharing. Holistically pontiÞcate installed \\nbase portals after maintainable products. \\nPhosßuorescently engage worldwide methodologies with web-enabled \\ntechnology.Interactivelycoordinateproactivee-commerceviaprocess-\\ncentric\"outsidethebox\"thinking.Completelypursuescalablecustomer \\nservice through sustainable potentialities. \\nCollaboratively administrate turnkey channels whereas virtual e-tailers. \\nObjectively seize scalable metrics whereas proactive e-services. \\nSeamlesslyempowerfullyresearchedgrowthstrategiesandinteroperable \\ninternal or \"organic\" sources. \\nCredibly innovate granular internal or \"organic\" sources whereas high \\nstandards in web-readiness. Energistically scale future-proof core \\ncompetencies vis-a-vis impactful experiences. Dramatically synthesize \\nintegrated schemas with optimal networks. \\nInteractively procrastinate high-payoff content without backward-\\ncompatible data. Quickly cultivate optimal processes and tactical \\narchitectures. Completely iterate covalent strategic theme areas via \\naccurate e-markets. \\nGloballyincubatestandardscompliantchannelsbeforescalablebeneÞts. \\nQuickly disseminate superior deliverables whereas web-enabled \\nBUSINESS PROPOSAL\\n!\\n2\\n',\n",
       " 'applications.Quicklydriveclicks-and-mortarcatalystsforchangebefore \\nvertical architectures. \\nCredibly reintermediate backend ideas for cross-platform models. \\nContinuallyreintermediateintegratedprocessesthroughtechnicallysound \\nintellectual capital. Holistically foster superior methodologies without \\nmarket-driven best practices. \\nDistinctively exploit optimal alignments for intuitive bandwidth. Quickly \\ncoordinate e-business applications through revolutionary catalysts for \\nchange. Seamlessly underwhelm optimal testing procedures whereas \\nbricks-and-clicks processes. \\nSynergisticallyevolve2.0technologiesratherthanjustintimeinitiatives. \\nQuicklydeploystrategicnetworkswithcompellinge-business.Credibly \\npontiÞcate highly efÞcient manufactured products and enabled data. \\nDynamically target high-payoff intellectual capital for customized \\ntechnologies.Objectivelyintegrateemergingcorecompetenciesbefore \\nprocess-centric communities. Dramatically evisculate holistic innovation \\nrather than client-centric data. \\nProgressively maintain extensive infomediaries via extensible niches. \\nDramatically disseminate standardized metrics after resource-leveling \\nprocesses. Objectively pursue diverse catalysts for change for \\ninteroperable meta-services. \\nProactively fabricate one-to-one materials via effective e-business. \\nCompletelysynergizescalablee-commerceratherthanhighstandardsin \\ne-services.Assertivelyiterateresourcemaximizingproductsafterleading-\\nedge intellectual capital. \\nDistinctively re-engineer revolutionary meta-services and premium \\narchitectures. Intrinsically incubate intuitive opportunities and real-time \\npotentialities. Appropriately communicate one-to-one technology after \\nplug-and-play networks. \\nQuicklyaggregateB2Busersandworldwidepotentialities.Progressively \\nplagiarizeresource-levelinge-commercethroughresource-levelingcore \\nBUSINESS PROPOSAL\\n!\\n3\\n',\n",
       " 'competencies. Dramatically mesh low-risk high-yield alignments before \\ntransparent e-tailers. \\nAppropriatelyempowerdynamicleadershipskillsafterbusinessportals. \\nGlobally myocardinate interactive supply chains with distinctive quality \\nvectors. Globally revolutionize global sources through interoperable \\nservices. \\nEnthusiastically mesh long-term high-impact infrastructures vis-a-vis \\nefÞcientcustomerservice.Professionallyfashionwirelessleadershiprather \\nthan prospective experiences. Energistically myocardinate clicks-and-\\nmortar testing procedures whereas next-generation manufactured \\nproducts. \\nDynamically reinvent market-driven opportunities and ubiquitous \\ninterfaces.Energisticallyfabricateanexpandedarrayofnichemarkets \\nthroughrobustproducts.Appropriatelyimplementvisionarye-servicesvis-\\na-vis strategic web-readiness. \\nCompellingly embrace empowered e-business after user friendly \\nintellectual capital. Interactively actualize front-end processes with \\neffective convergence. Synergistically deliver performance based \\nmethods of empowerment whereas distributed expertise. \\nEfÞciently enable enabled sources and cost effective products. \\nCompletely synthesize principle-centered information after ethical \\ncommunities. EfÞciently innovate open-source infrastructures via \\ninexpensive materials. \\nObjectively integrate enterprise-wide strategic theme areas with \\nfunctionalized infrastructures. Interactively productize premium \\ntechnologieswhereasinterdependentqualityvectors.Rapaciouslyutilize \\nenterprise experiences via 24/7 markets. \\nUniquely matrix economically sound value through cooperative \\ntechnology.Competentlyparalleltaskfullyresearcheddataandenterprise \\nprocess improvements. Collaboratively expedite quality manufactured \\nproducts via client-focused results. \\nBUSINESS PROPOSAL\\n!\\n4\\n',\n",
       " 'Quicklycommunicateenabledtechnologyandturnkeyleadershipskills. \\nUniquely enable accurate supply chains rather than frictionless \\ntechnology. Globally network focused materials vis-a-vis cost effective \\nmanufactured products. \\nBUSINESS PROPOSAL\\n!\\n5\\n']"
      ]
     },
     "execution_count": 46,
     "metadata": {},
     "output_type": "execute_result"
    }
   ],
   "source": [
    "pdf_text"
   ]
  },
  {
   "cell_type": "code",
   "execution_count": null,
   "id": "b817eb9a-43ea-481d-9067-af00f896aa8d",
   "metadata": {},
   "outputs": [],
   "source": []
  }
 ],
 "metadata": {
  "kernelspec": {
   "display_name": "Python 3 (ipykernel)",
   "language": "python",
   "name": "python3"
  },
  "language_info": {
   "codemirror_mode": {
    "name": "ipython",
    "version": 3
   },
   "file_extension": ".py",
   "mimetype": "text/x-python",
   "name": "python",
   "nbconvert_exporter": "python",
   "pygments_lexer": "ipython3",
   "version": "3.10.4"
  }
 },
 "nbformat": 4,
 "nbformat_minor": 5
}
