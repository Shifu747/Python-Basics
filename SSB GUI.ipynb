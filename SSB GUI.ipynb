{
 "cells": [
  {
   "cell_type": "code",
   "execution_count": 1,
   "id": "1925885d",
   "metadata": {},
   "outputs": [
    {
     "name": "stdout",
     "output_type": "stream",
     "text": [
      "12.0 8.0\n"
     ]
    }
   ],
   "source": [
    "p= 20\n",
    "x = 10\n",
    "y= 6\n",
    "z = x-y\n",
    "\n",
    "r1 = p*y/x\n",
    "r2 = p-r1\n",
    "\n",
    "print(r1,r2)"
   ]
  },
  {
   "cell_type": "code",
   "execution_count": 11,
   "id": "567d19ed",
   "metadata": {},
   "outputs": [],
   "source": [
    "def ssb(p,x,y):\n",
    "    return p*y/x, p-r1"
   ]
  },
  {
   "cell_type": "code",
   "execution_count": 12,
   "id": "7f871663",
   "metadata": {},
   "outputs": [],
   "source": [
    "r1, r2 = ssb(20,10,6)\n"
   ]
  },
  {
   "cell_type": "code",
   "execution_count": 13,
   "id": "377b88a5",
   "metadata": {},
   "outputs": [],
   "source": [
    "from ipywidgets import interact, interactive\n",
    "from IPython.display import clear_output, display, HTML"
   ]
  },
  {
   "cell_type": "code",
   "execution_count": 15,
   "id": "5dc273c4",
   "metadata": {},
   "outputs": [],
   "source": [
    "w = interactive(ssb, p=(-100.,100,), x=(0.,100.),y=(1.,99.))"
   ]
  },
  {
   "cell_type": "code",
   "execution_count": 16,
   "id": "9fe1ea03",
   "metadata": {},
   "outputs": [
    {
     "data": {
      "text/plain": [
       "ipywidgets.widgets.interaction.interactive"
      ]
     },
     "execution_count": 16,
     "metadata": {},
     "output_type": "execute_result"
    }
   ],
   "source": [
    "type(w)"
   ]
  },
  {
   "cell_type": "code",
   "execution_count": 18,
   "id": "326359a6",
   "metadata": {},
   "outputs": [
    {
     "data": {
      "application/vnd.jupyter.widget-view+json": {
       "model_id": "66147e28d32944dbbafd02505608aa4d",
       "version_major": 2,
       "version_minor": 0
      },
      "text/plain": [
       "interactive(children=(FloatSlider(value=1.4, description='p', min=-100.0), FloatSlider(value=54.4, description…"
      ]
     },
     "metadata": {},
     "output_type": "display_data"
    }
   ],
   "source": [
    "display(w)"
   ]
  },
  {
   "cell_type": "code",
   "execution_count": null,
   "id": "55da061d",
   "metadata": {},
   "outputs": [],
   "source": []
  }
 ],
 "metadata": {
  "kernelspec": {
   "display_name": "Python 3 (ipykernel)",
   "language": "python",
   "name": "python3"
  },
  "language_info": {
   "codemirror_mode": {
    "name": "ipython",
    "version": 3
   },
   "file_extension": ".py",
   "mimetype": "text/x-python",
   "name": "python",
   "nbconvert_exporter": "python",
   "pygments_lexer": "ipython3",
   "version": "3.10.4"
  }
 },
 "nbformat": 4,
 "nbformat_minor": 5
}
