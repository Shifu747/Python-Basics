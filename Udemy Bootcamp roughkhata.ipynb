{
 "cells": [
  {
   "cell_type": "code",
   "execution_count": 1,
   "id": "0791aa48-9cd5-4eef-ba07-79ef7d401e62",
   "metadata": {},
   "outputs": [],
   "source": [
    "my_dict = {\"key1\": 12, \"key2\": 31, \"key3\": 42}"
   ]
  },
  {
   "cell_type": "code",
   "execution_count": 6,
   "id": "0c25198a-801f-4981-a7c4-9cbb3d5ff8ad",
   "metadata": {},
   "outputs": [],
   "source": [
    "your_dict =my_dict.copy()"
   ]
  },
  {
   "cell_type": "code",
   "execution_count": 9,
   "id": "74f04de2-fc2d-4f7e-8cef-d7a37ae1ab5c",
   "metadata": {},
   "outputs": [],
   "source": [
    "your_dict['key3'] = 56"
   ]
  },
  {
   "cell_type": "code",
   "execution_count": 14,
   "id": "4b185fad-ef5e-4b63-bd5c-74ece62bab82",
   "metadata": {},
   "outputs": [],
   "source": [
    "your_tup = your_dict.items()"
   ]
  },
  {
   "cell_type": "code",
   "execution_count": 13,
   "id": "50b7184d-3cad-4d76-baed-e449d5ce0749",
   "metadata": {},
   "outputs": [
    {
     "data": {
      "text/plain": [
       "{'key1': 12, 'key2': 31, 'key3': 56}"
      ]
     },
     "execution_count": 13,
     "metadata": {},
     "output_type": "execute_result"
    }
   ],
   "source": [
    "your_dict"
   ]
  },
  {
   "cell_type": "code",
   "execution_count": 20,
   "id": "d74a042d-0400-4da5-b8db-8df03ec7119c",
   "metadata": {},
   "outputs": [],
   "source": [
    "your_tup = (1,2,3,4,5)"
   ]
  },
  {
   "cell_type": "code",
   "execution_count": 22,
   "id": "19203003-d40d-466c-8a5a-5c6876942803",
   "metadata": {},
   "outputs": [
    {
     "data": {
      "text/plain": [
       "(1, 2, 3, 4, 5)"
      ]
     },
     "execution_count": 22,
     "metadata": {},
     "output_type": "execute_result"
    }
   ],
   "source": [
    "your_tup"
   ]
  },
  {
   "cell_type": "code",
   "execution_count": 23,
   "id": "9aa9bfa8-ffbd-475d-b3e0-46391347ba70",
   "metadata": {},
   "outputs": [
    {
     "data": {
      "text/plain": [
       "3"
      ]
     },
     "execution_count": 23,
     "metadata": {},
     "output_type": "execute_result"
    }
   ],
   "source": [
    "your_tup[2]"
   ]
  },
  {
   "cell_type": "code",
   "execution_count": 26,
   "id": "42f40668-a047-4011-bf0f-13a79df11cf0",
   "metadata": {},
   "outputs": [
    {
     "data": {
      "text/plain": [
       "1"
      ]
     },
     "execution_count": 26,
     "metadata": {},
     "output_type": "execute_result"
    }
   ],
   "source": [
    "your_tup.count(1)"
   ]
  },
  {
   "cell_type": "code",
   "execution_count": 28,
   "id": "c5961081-f8dc-409c-8090-f496322e46d3",
   "metadata": {},
   "outputs": [
    {
     "data": {
      "text/plain": [
       "2"
      ]
     },
     "execution_count": 28,
     "metadata": {},
     "output_type": "execute_result"
    }
   ],
   "source": [
    "your_tup.index(3)"
   ]
  },
  {
   "cell_type": "code",
   "execution_count": 30,
   "id": "8113d3f0-cbcd-44e2-9315-57cb74ef1eff",
   "metadata": {},
   "outputs": [
    {
     "data": {
      "text/plain": [
       "(3, 4)"
      ]
     },
     "execution_count": 30,
     "metadata": {},
     "output_type": "execute_result"
    }
   ],
   "source": [
    "your_tup[2:-1]"
   ]
  },
  {
   "cell_type": "code",
   "execution_count": 32,
   "id": "736e9f29-02ab-438e-8e92-ae671354c3d4",
   "metadata": {},
   "outputs": [
    {
     "name": "stdout",
     "output_type": "stream",
     "text": [
      "Writing myfile.txt\n"
     ]
    }
   ],
   "source": [
    "%%writefile myfile.txt\n",
    "Akash eto meghla\n",
    "jeo nako ekla\n",
    "ekhoni nambe brishti\n"
   ]
  },
  {
   "cell_type": "code",
   "execution_count": 33,
   "id": "979d54b2-8ecb-4273-88fc-23fbbe40d033",
   "metadata": {},
   "outputs": [],
   "source": [
    "myfile = open('myfile.txt')"
   ]
  },
  {
   "cell_type": "code",
   "execution_count": 39,
   "id": "09b0f8cb-11f0-4341-bd54-cb1911ff9fc7",
   "metadata": {},
   "outputs": [],
   "source": [
    "myfile.seek(0)\n",
    "contents = myfile.read()\n",
    "\n"
   ]
  },
  {
   "cell_type": "code",
   "execution_count": 43,
   "id": "cba3955d-356c-46d0-b3f2-1916cd8aa781",
   "metadata": {},
   "outputs": [
    {
     "data": {
      "text/plain": [
       "['Akash eto meghla\\n', 'jeo nako ekla\\n', 'ekhoni nambe brishti\\n']"
      ]
     },
     "execution_count": 43,
     "metadata": {},
     "output_type": "execute_result"
    }
   ],
   "source": [
    "myfile.seek(0)\n",
    "myfile.readlines()"
   ]
  },
  {
   "cell_type": "code",
   "execution_count": 49,
   "id": "e49477c8-35f2-4fe1-85f8-13b6b990e4d8",
   "metadata": {},
   "outputs": [],
   "source": [
    "myfile.close()"
   ]
  },
  {
   "cell_type": "code",
   "execution_count": 50,
   "id": "cdd35582-d56b-4218-af53-12598c2e5b06",
   "metadata": {},
   "outputs": [],
   "source": [
    "with open(\"myfile.txt\") as my_new_file:\n",
    "    contents = my_new_file.read()"
   ]
  },
  {
   "cell_type": "code",
   "execution_count": 51,
   "id": "fe370bad-de38-4bbd-8fa3-0429c5e2774a",
   "metadata": {},
   "outputs": [
    {
     "data": {
      "text/plain": [
       "'Akash eto meghla\\njeo nako ekla\\nekhoni nambe brishti\\n'"
      ]
     },
     "execution_count": 51,
     "metadata": {},
     "output_type": "execute_result"
    }
   ],
   "source": [
    "contents"
   ]
  },
  {
   "cell_type": "code",
   "execution_count": 55,
   "id": "cb73ef8e-09e6-402b-84d0-0a89dc11e030",
   "metadata": {},
   "outputs": [],
   "source": [
    "with open(\"myfile.txt\", mode='r') as myfile:\n",
    "    content = myfile.read()"
   ]
  },
  {
   "cell_type": "code",
   "execution_count": 53,
   "id": "9e9ba100-a645-4c9a-b3d2-1b0bef920980",
   "metadata": {},
   "outputs": [
    {
     "data": {
      "text/plain": [
       "'Akash eto meghla\\njeo nako ekla\\nekhoni nambe brishti\\n'"
      ]
     },
     "execution_count": 53,
     "metadata": {},
     "output_type": "execute_result"
    }
   ],
   "source": [
    "content"
   ]
  },
  {
   "cell_type": "code",
   "execution_count": 57,
   "id": "f6dd88b7-052d-4235-96c3-7504dde7955f",
   "metadata": {},
   "outputs": [
    {
     "name": "stdout",
     "output_type": "stream",
     "text": [
      "Overwriting my_new_file.txt\n"
     ]
    }
   ],
   "source": [
    "%%writefile my_new_file.txt\n",
    "this is line 1\n",
    "line 2\n",
    "l3\n"
   ]
  },
  {
   "cell_type": "code",
   "execution_count": 62,
   "id": "321991b0-4047-4789-a063-b63832d48dd2",
   "metadata": {},
   "outputs": [],
   "source": [
    "with open(\"my_new_file.txt\", mode = 'a') as f:\n",
    "    f.write(\"four on fourth\")"
   ]
  },
  {
   "cell_type": "code",
   "execution_count": 63,
   "id": "632ef22d-1e4e-454e-b0f6-360a2ffc3c18",
   "metadata": {},
   "outputs": [
    {
     "name": "stdout",
     "output_type": "stream",
     "text": [
      "this is line 1\n",
      "line 2\n",
      "l3\n",
      "\n",
      "four on fourthfour on fourth\n"
     ]
    }
   ],
   "source": [
    "with open(\"my_new_file.txt\", 'r') as r:\n",
    "    print(r.read())"
   ]
  },
  {
   "cell_type": "code",
   "execution_count": 65,
   "id": "1ca56c59-76d5-4993-bdba-754e046eb6f8",
   "metadata": {},
   "outputs": [
    {
     "name": "stdout",
     "output_type": "stream",
     "text": [
      "1\n",
      "2\n",
      "3\n"
     ]
    }
   ],
   "source": [
    "lst = [1,2,3]\n",
    "\n",
    "for n in lst:\n",
    "    print(n)"
   ]
  },
  {
   "cell_type": "code",
   "execution_count": 67,
   "id": "171a65b9-c26b-4287-8eb2-5d982ef23c7c",
   "metadata": {},
   "outputs": [
    {
     "data": {
      "text/plain": [
       "[0, 1, 2, 3, 4, 5, 6, 7, 8, 9, 10, 11, 12, 13, 14, 15, 16, 17, 18, 19]"
      ]
     },
     "execution_count": 67,
     "metadata": {},
     "output_type": "execute_result"
    }
   ],
   "source": [
    "lst = []\n",
    "i = 0\n",
    "for i in range(20):\n",
    "    lst.append(i)\n",
    "lst"
   ]
  },
  {
   "cell_type": "code",
   "execution_count": 70,
   "id": "fee805ef-8e61-4c77-a528-9212b4451889",
   "metadata": {},
   "outputs": [
    {
     "name": "stdout",
     "output_type": "stream",
     "text": [
      "hater lekha practice\n",
      "hater lekha practice\n",
      "hater lekha practice\n",
      "hater lekha practice\n",
      "hater lekha practice\n",
      "hater lekha practice\n",
      "hater lekha practice\n",
      "hater lekha practice\n",
      "hater lekha practice\n",
      "hater lekha practice\n",
      "hater lekha practice\n",
      "hater lekha practice\n",
      "hater lekha practice\n",
      "hater lekha practice\n",
      "hater lekha practice\n",
      "hater lekha practice\n",
      "hater lekha practice\n",
      "hater lekha practice\n",
      "hater lekha practice\n",
      "hater lekha practice\n"
     ]
    }
   ],
   "source": [
    "for num in lst:\n",
    "    print('hater lekha practice')"
   ]
  },
  {
   "cell_type": "code",
   "execution_count": 74,
   "id": "6ff982b4-cbe1-470a-8df7-d42baa0f0c57",
   "metadata": {},
   "outputs": [
    {
     "name": "stdout",
     "output_type": "stream",
     "text": [
      "0\n",
      "Odd number: 1\n",
      "2\n",
      "Odd number: 3\n",
      "4\n",
      "Odd number: 5\n",
      "6\n",
      "Odd number: 7\n",
      "8\n",
      "Odd number: 9\n",
      "10\n",
      "Odd number: 11\n",
      "12\n",
      "Odd number: 13\n",
      "14\n",
      "Odd number: 15\n",
      "16\n",
      "Odd number: 17\n",
      "18\n",
      "Odd number: 19\n"
     ]
    }
   ],
   "source": [
    "for n in lst:\n",
    "    if n % 2 == 0:\n",
    "        print(n)\n",
    "    else:\n",
    "        print(f'Odd number: {n}')"
   ]
  },
  {
   "cell_type": "code",
   "execution_count": 80,
   "id": "5295a494-2afe-4911-93de-b6e074b7435b",
   "metadata": {},
   "outputs": [
    {
     "name": "stdout",
     "output_type": "stream",
     "text": [
      "0\n",
      "1\n",
      "3\n",
      "6\n",
      "10\n",
      "15\n",
      "21\n",
      "28\n",
      "36\n",
      "45\n",
      "55\n",
      "66\n",
      "78\n",
      "91\n",
      "105\n",
      "120\n",
      "136\n",
      "153\n",
      "171\n",
      "190\n",
      "190\n"
     ]
    }
   ],
   "source": [
    "total = 0\n",
    "for n in lst:\n",
    "    total +=n \n",
    "    print(total)\n",
    "print(total)"
   ]
  },
  {
   "cell_type": "code",
   "execution_count": 91,
   "id": "06c7049e-b463-4325-8116-62f3394c8fc9",
   "metadata": {},
   "outputs": [
    {
     "name": "stdout",
     "output_type": "stream",
     "text": [
      "Maya Cycle!!\n",
      "Maya Cycle!!\n",
      "Maya Cycle!!\n",
      "Maya Cycle!!\n",
      "NIJHUM BRINDABON\n",
      "Maya Cycle!!\n",
      "Maya Cycle!!\n",
      "Maya Cycle!!\n",
      "Maya Cycle!!\n",
      "Maya Cycle!!\n"
     ]
    }
   ],
   "source": [
    "mystring = 'Maya Cycle'\n",
    "new = []\n",
    "\n",
    "\n",
    "for _ in \"Maya Cycle\":\n",
    "    if _ == ' ':\n",
    "        print(\"NIJHUM BRINDABON\")\n",
    "    else:\n",
    "        print('Maya Cycle!!')\n",
    "    "
   ]
  },
  {
   "cell_type": "code",
   "execution_count": 94,
   "id": "4a36eddf-74bb-4a41-882a-d90e91230f8a",
   "metadata": {},
   "outputs": [
    {
     "data": {
      "text/plain": [
       "(0, 1, 2, 3, 4, 5, 6, 7, 8, 9, 10, 11, 12, 13, 14, 15)"
      ]
     },
     "execution_count": 94,
     "metadata": {},
     "output_type": "execute_result"
    }
   ],
   "source": [
    "tup = ()\n",
    "i = 0\n",
    "for i in range(16):\n",
    "    tup = tup + (i,)\n",
    "    i +=1\n",
    "tup"
   ]
  },
  {
   "cell_type": "code",
   "execution_count": 96,
   "id": "f002d0be-8cc0-4183-bcc7-8bda89b3ec09",
   "metadata": {},
   "outputs": [
    {
     "name": "stdout",
     "output_type": "stream",
     "text": [
      "0\n",
      "1\n",
      "2\n",
      "3\n",
      "4\n",
      "5\n",
      "6\n",
      "7\n",
      "8\n",
      "9\n",
      "10\n",
      "11\n",
      "12\n",
      "13\n",
      "14\n",
      "15\n"
     ]
    }
   ],
   "source": [
    "for items in tup:\n",
    "    print(items)"
   ]
  },
  {
   "cell_type": "code",
   "execution_count": 97,
   "id": "c40baa56-1152-4b81-b2ef-2ec86180dda2",
   "metadata": {},
   "outputs": [],
   "source": [
    "lstTUP = [(1,2), (3,4), (5,6), (7,8)]"
   ]
  },
  {
   "cell_type": "code",
   "execution_count": 99,
   "id": "70d61252-71e8-4dd8-9bed-f16f3bf28e7a",
   "metadata": {},
   "outputs": [
    {
     "name": "stdout",
     "output_type": "stream",
     "text": [
      "(1, 2)\n",
      "(3, 4)\n",
      "(5, 6)\n",
      "(7, 8)\n"
     ]
    }
   ],
   "source": [
    "for tup in lstTUP:\n",
    "    print(tup)"
   ]
  },
  {
   "cell_type": "code",
   "execution_count": 102,
   "id": "52ee2070-483d-46d6-a448-5f11f1cdf6f9",
   "metadata": {},
   "outputs": [
    {
     "name": "stdout",
     "output_type": "stream",
     "text": [
      "1\n",
      "2\n",
      "3\n",
      "4\n",
      "5\n",
      "6\n",
      "7\n",
      "8\n"
     ]
    }
   ],
   "source": [
    "for (a,b) in lstTUP:\n",
    "    print(a)\n",
    "    print(b)"
   ]
  },
  {
   "cell_type": "code",
   "execution_count": 113,
   "id": "eedfa1b6-f889-495a-b4c5-91ea855431f5",
   "metadata": {},
   "outputs": [
    {
     "name": "stdout",
     "output_type": "stream",
     "text": [
      "[(0, 1), (1, 2), (2, 3), (3, 4), (4, 5), (5, 6), (6, 7), (7, 8), (8, 9), (9, 10), (10, 11), (11, 12), (12, 13), (13, 14), (14, 15), (15, 16), (16, 17), (17, 18), (18, 19), (19, 20), (20, 21)]\n"
     ]
    }
   ],
   "source": [
    "a = []\n",
    "i = 0\n",
    "for i in range(21):\n",
    "    t = (i, i+1)\n",
    "    a.append(t)\n",
    "    i +=2\n",
    "print(a)"
   ]
  },
  {
   "cell_type": "code",
   "execution_count": 127,
   "id": "0d53e8a8-d389-4206-900c-aa93fbcba731",
   "metadata": {},
   "outputs": [
    {
     "name": "stdout",
     "output_type": "stream",
     "text": [
      "k1\n",
      "1\n",
      "k2\n",
      "2\n",
      "k3\n",
      "3\n"
     ]
    }
   ],
   "source": [
    "d = {'k1': 1, \"k2\":2, \"k3\": 3}\n",
    "\n",
    "for key, value in d.items():\n",
    "    print(key)\n",
    "    print(value)"
   ]
  },
  {
   "cell_type": "code",
   "execution_count": 136,
   "id": "f3f732fc-9094-46ff-85fd-4df58b46667d",
   "metadata": {},
   "outputs": [
    {
     "name": "stdout",
     "output_type": "stream",
     "text": [
      "s\n",
      "m\n",
      "m\n"
     ]
    }
   ],
   "source": [
    "x = [1,2,3]\n",
    "\n",
    "for item in x:\n",
    "    pass\n",
    "\n",
    "m = 'sammy'\n",
    "\n",
    "for letter in m:\n",
    "    if letter == 'a':\n",
    "        continue\n",
    "    elif letter == 'y':\n",
    "        break\n",
    "    print(letter)\n"
   ]
  },
  {
   "cell_type": "code",
   "execution_count": 139,
   "id": "98451346-de6c-43ca-9db1-10fc342fbe13",
   "metadata": {},
   "outputs": [
    {
     "name": "stdout",
     "output_type": "stream",
     "text": [
      "At index 0 the letter is a\n",
      "At index 1 the letter is b\n",
      "At index 2 the letter is c\n",
      "At index 3 the letter is d\n",
      "At index 4 the letter is e\n"
     ]
    }
   ],
   "source": [
    "index_count = 0\n",
    "for letter in 'abcde':\n",
    "    print('At index {} the letter is {}'.format(index_count, letter))\n",
    "    index_count +=1"
   ]
  },
  {
   "cell_type": "code",
   "execution_count": 146,
   "id": "f4c5b6b7-7655-465f-b02f-92dc58456974",
   "metadata": {},
   "outputs": [
    {
     "name": "stdout",
     "output_type": "stream",
     "text": [
      "0\n",
      "a \n",
      "\n",
      "1\n",
      "b \n",
      "\n",
      "2\n",
      "c \n",
      "\n",
      "3\n",
      "d \n",
      "\n",
      "4\n",
      "e \n",
      "\n"
     ]
    }
   ],
   "source": [
    "word = 'abcde'\n",
    "\n",
    "for index,letter in enumerate(word):\n",
    "    print(index)\n",
    "    print(letter, '\\n')"
   ]
  },
  {
   "cell_type": "code",
   "execution_count": 7,
   "id": "f80a2329-0084-4acc-bdeb-3f26f696ffd0",
   "metadata": {},
   "outputs": [
    {
     "name": "stdout",
     "output_type": "stream",
     "text": [
      "(1, 'a', 3)\n",
      "(2, 'b', 2)\n",
      "(3, 'c', 1)\n"
     ]
    },
    {
     "data": {
      "text/plain": [
       "[(1, 'a', 3), (2, 'b', 2), (3, 'c', 1)]"
      ]
     },
     "execution_count": 7,
     "metadata": {},
     "output_type": "execute_result"
    }
   ],
   "source": [
    "lst1 = [1,2,3]\n",
    "lst2 = ['a','b','c']\n",
    "lst3 = [3,2,1]\n",
    "\n",
    "\n",
    "for item in zip(lst1, lst2, lst3):\n",
    "    print(item)\n",
    "    \n",
    "x =zip(lst1,lst2,lst3)\n",
    "list(x)"
   ]
  },
  {
   "cell_type": "code",
   "execution_count": 9,
   "id": "ceedb640-5131-4307-b26a-a7ef2825bd7f",
   "metadata": {},
   "outputs": [
    {
     "data": {
      "text/plain": [
       "True"
      ]
     },
     "execution_count": 9,
     "metadata": {},
     "output_type": "execute_result"
    }
   ],
   "source": [
    "'x' in [1,2,3,'x']"
   ]
  },
  {
   "cell_type": "code",
   "execution_count": 13,
   "id": "af321d86-e2b5-429b-8d72-6a6eb2b7f527",
   "metadata": {},
   "outputs": [
    {
     "data": {
      "text/plain": [
       "True"
      ]
     },
     "execution_count": 13,
     "metadata": {},
     "output_type": "execute_result"
    }
   ],
   "source": [
    "'k1' in {'k1': 4}\n"
   ]
  },
  {
   "cell_type": "code",
   "execution_count": 14,
   "id": "1df4d002-a2aa-4948-b2e3-0fc7016342ab",
   "metadata": {},
   "outputs": [],
   "source": [
    "from random import shuffle\n"
   ]
  },
  {
   "cell_type": "code",
   "execution_count": 19,
   "id": "d906a8b2-028b-4d31-9bf4-5e6ee7de8dfb",
   "metadata": {},
   "outputs": [
    {
     "name": "stdout",
     "output_type": "stream",
     "text": [
      "[5, 6, 7, 4, 8, 2, 1, 3]\n"
     ]
    }
   ],
   "source": [
    "lst = [1,2,3,4,5,6,7,8]\n",
    "rlst = shuffle(lst)\n",
    "print(lst)"
   ]
  },
  {
   "cell_type": "code",
   "execution_count": 25,
   "id": "6cf9f65f-dc30-46b5-971f-3cf085e04032",
   "metadata": {},
   "outputs": [
    {
     "data": {
      "text/plain": [
       "1978"
      ]
     },
     "execution_count": 25,
     "metadata": {},
     "output_type": "execute_result"
    }
   ],
   "source": [
    "from random import randint\n",
    "randint(0,3000)"
   ]
  },
  {
   "cell_type": "code",
   "execution_count": 27,
   "id": "e3fd9e10-9d48-49b1-b2c4-56430a202145",
   "metadata": {},
   "outputs": [
    {
     "data": {
      "text/plain": [
       "['H', 'e', 'l', 'l', 'o']"
      ]
     },
     "execution_count": 27,
     "metadata": {},
     "output_type": "execute_result"
    }
   ],
   "source": [
    "mystring = \"Hello\"\n",
    "t = []\n",
    "for char in mystring:\n",
    "    t.append(char)\n",
    "t"
   ]
  },
  {
   "cell_type": "code",
   "execution_count": 30,
   "id": "6e231552-1b23-4279-8ea1-ef15c6502bd7",
   "metadata": {},
   "outputs": [
    {
     "data": {
      "text/plain": [
       "['H', 'e', 'l', 'l', 'o']"
      ]
     },
     "execution_count": 30,
     "metadata": {},
     "output_type": "execute_result"
    }
   ],
   "source": [
    "#alt\n",
    "\n",
    "t =[letter for letter in mystring]\n",
    "t"
   ]
  },
  {
   "cell_type": "code",
   "execution_count": 32,
   "id": "3f582a25-2ec5-4a95-abfb-1a28a21792c2",
   "metadata": {},
   "outputs": [
    {
     "data": {
      "text/plain": [
       "['w', 'o', 'r', 'd']"
      ]
     },
     "execution_count": 32,
     "metadata": {},
     "output_type": "execute_result"
    }
   ],
   "source": [
    "t1 = [x for x in 'word']\n",
    "t1"
   ]
  },
  {
   "cell_type": "code",
   "execution_count": 37,
   "id": "41a9f974-984f-484c-b1bb-2bc209840126",
   "metadata": {},
   "outputs": [
    {
     "data": {
      "text/plain": [
       "[0, 1, 4, 9, 16]"
      ]
     },
     "execution_count": 37,
     "metadata": {},
     "output_type": "execute_result"
    }
   ],
   "source": [
    "t2 =[x**2 for x in range(5)]\n",
    "t2"
   ]
  },
  {
   "cell_type": "code",
   "execution_count": 38,
   "id": "8f1c05de-fb24-4ead-80a2-803cd8d717ed",
   "metadata": {},
   "outputs": [
    {
     "data": {
      "text/plain": [
       "[0, 2, 4, 6, 8, 10]"
      ]
     },
     "execution_count": 38,
     "metadata": {},
     "output_type": "execute_result"
    }
   ],
   "source": [
    "mylist =[x for x in range(11) if x%2==0]\n",
    "mylist"
   ]
  },
  {
   "cell_type": "code",
   "execution_count": 40,
   "id": "2f1dc786-b8bd-4413-aaf1-0421b635c0e0",
   "metadata": {},
   "outputs": [
    {
     "data": {
      "text/plain": [
       "[32.0, 50.0, 68.0, 94.1]"
      ]
     },
     "execution_count": 40,
     "metadata": {},
     "output_type": "execute_result"
    }
   ],
   "source": [
    "celcius = [0,10,20,34.5]\n",
    "\n",
    "farhenheit = [((9/5)*temp +32) for temp in celcius]\n",
    "farhenheit"
   ]
  },
  {
   "cell_type": "code",
   "execution_count": 42,
   "id": "62acdd2d-f731-4519-843c-67569c1444ea",
   "metadata": {},
   "outputs": [
    {
     "data": {
      "text/plain": [
       "[0, 'ODD', 2, 'ODD', 4, 'ODD', 6, 'ODD', 8, 'ODD', 10]"
      ]
     },
     "execution_count": 42,
     "metadata": {},
     "output_type": "execute_result"
    }
   ],
   "source": [
    "results = [x if x%2==0 else \"ODD\" for x in range(11)]\n",
    "results"
   ]
  },
  {
   "cell_type": "code",
   "execution_count": 44,
   "id": "95bab81d-3d16-439a-9fcb-1e3e9bfdded4",
   "metadata": {},
   "outputs": [
    {
     "data": {
      "text/plain": [
       "[200, 400, 600, 400, 800, 1200, 600, 1200, 1800]"
      ]
     },
     "execution_count": 44,
     "metadata": {},
     "output_type": "execute_result"
    }
   ],
   "source": [
    "mylist =[]\n",
    "\n",
    "for x in [2,4,6]:\n",
    "    for y in [100,200,300]:\n",
    "        mylist.append(x*y)\n",
    "        \n",
    "mylist"
   ]
  },
  {
   "cell_type": "code",
   "execution_count": 46,
   "id": "c0e5da76-22ec-4dc3-b23b-b25f407dff53",
   "metadata": {},
   "outputs": [
    {
     "data": {
      "text/plain": [
       "[2, 20, 2000, 4, 40, 4000, 6, 60, 6000]"
      ]
     },
     "execution_count": 46,
     "metadata": {},
     "output_type": "execute_result"
    }
   ],
   "source": [
    "mylist = [x*y for x in [2,4,6] for y in [1,10,1000]]\n",
    "mylist"
   ]
  },
  {
   "cell_type": "code",
   "execution_count": 47,
   "id": "906bbab7-b9c3-47ea-931c-b6863b891264",
   "metadata": {},
   "outputs": [],
   "source": [
    "mylist = [1,2,4]"
   ]
  },
  {
   "cell_type": "code",
   "execution_count": 50,
   "id": "b4370237-0430-4442-998a-afb9267a8858",
   "metadata": {},
   "outputs": [],
   "source": [
    "mylist.insert(1,3)"
   ]
  },
  {
   "cell_type": "code",
   "execution_count": 52,
   "id": "6b7d39d2-f4f9-47be-b3a1-22f0d1950c84",
   "metadata": {},
   "outputs": [
    {
     "data": {
      "text/plain": [
       "[1, 3, 3, 2, 4]"
      ]
     },
     "execution_count": 52,
     "metadata": {},
     "output_type": "execute_result"
    }
   ],
   "source": [
    "mylist"
   ]
  },
  {
   "cell_type": "code",
   "execution_count": 58,
   "id": "974aa8d5-2ac3-4bbd-998b-26a233593adb",
   "metadata": {},
   "outputs": [
    {
     "data": {
      "text/plain": [
       "[2, 4, 6]"
      ]
     },
     "execution_count": 58,
     "metadata": {},
     "output_type": "execute_result"
    }
   ],
   "source": [
    "def even_list(num_list):\n",
    "    \n",
    "    evn =[]\n",
    "    \n",
    "    for num in num_list:\n",
    "        if num %2 ==0:\n",
    "            evn.append(num)\n",
    "            \n",
    "        else:\n",
    "            pass\n",
    "    return evn\n",
    "\n",
    "a= [1,2,4,5,6]\n",
    "\n",
    "even_list(a)"
   ]
  },
  {
   "cell_type": "code",
   "execution_count": 62,
   "id": "04bbc265-354f-4949-a2bc-40fda87149b6",
   "metadata": {},
   "outputs": [
    {
     "name": "stdout",
     "output_type": "stream",
     "text": [
      "('Apple', 200)\n",
      "('google', 400)\n",
      "('OS', 100)\n",
      "Apple\n",
      "220.0\n",
      "google\n",
      "440.0\n",
      "OS\n",
      "110.0\n"
     ]
    }
   ],
   "source": [
    "stock_prices = [('Apple', 200),(\"google\", 400), (\"OS\", 100)]\n",
    "\n",
    "for item in stock_prices:\n",
    "    print(item)\n",
    "    \n",
    "for ticker,price in stock_prices:\n",
    "    print(ticker)\n",
    "    print(price+(0.1*price))"
   ]
  },
  {
   "cell_type": "code",
   "execution_count": 63,
   "id": "80379c05-47f4-4aae-90f7-38120c6d101d",
   "metadata": {},
   "outputs": [],
   "source": [
    "work_hours = [('ABBY', 100 ), ('BILLY', 400), (\"CASSIE\", 800)]"
   ]
  },
  {
   "cell_type": "code",
   "execution_count": 64,
   "id": "97918571-a656-4aaf-b42a-46a248de3cb8",
   "metadata": {},
   "outputs": [],
   "source": [
    "def employee_check(work_hours):\n",
    "    current_max = 0\n",
    "    employe_of_month = ''\n",
    "    \n",
    "    for employee, hours in work_hours:\n",
    "        if hours > current_max:\n",
    "            current_max = hours\n",
    "            employe_of_month = employee\n",
    "        else:\n",
    "            pass\n",
    "        \n",
    "    \n",
    "    return(employe_of_month, current_max)"
   ]
  },
  {
   "cell_type": "code",
   "execution_count": 66,
   "id": "588fb396-a3d7-444b-9b1a-e7e5b7495635",
   "metadata": {},
   "outputs": [],
   "source": [
    "name, hours =employee_check(work_hours)"
   ]
  },
  {
   "cell_type": "code",
   "execution_count": 69,
   "id": "9448af75-18f6-4d04-8461-1b7e666ff6f7",
   "metadata": {},
   "outputs": [],
   "source": [
    "example = [1,2,3,4,5,6,7]"
   ]
  },
  {
   "cell_type": "code",
   "execution_count": 70,
   "id": "029d6139-c762-41e1-a4ac-0b00bc5cbc5a",
   "metadata": {},
   "outputs": [],
   "source": [
    "from random import shuffle"
   ]
  },
  {
   "cell_type": "code",
   "execution_count": 71,
   "id": "f978afb0-d219-4dcf-a4f9-8c57a69f4758",
   "metadata": {},
   "outputs": [],
   "source": [
    "shuffle(example)"
   ]
  },
  {
   "cell_type": "code",
   "execution_count": 72,
   "id": "09a4c2cf-8131-42ce-a24b-af6c3785de37",
   "metadata": {},
   "outputs": [
    {
     "data": {
      "text/plain": [
       "[5, 6, 1, 3, 7, 2, 4]"
      ]
     },
     "execution_count": 72,
     "metadata": {},
     "output_type": "execute_result"
    }
   ],
   "source": [
    "example"
   ]
  },
  {
   "cell_type": "code",
   "execution_count": 73,
   "id": "d056bab5-1f8b-4540-8779-acd81513596f",
   "metadata": {},
   "outputs": [],
   "source": [
    "def shuffle_list(mylist):\n",
    "    shuffle(mylist)\n",
    "    return mylist"
   ]
  },
  {
   "cell_type": "code",
   "execution_count": 77,
   "id": "9d7ae20e-359f-4af8-ab5c-9966fd88dc49",
   "metadata": {},
   "outputs": [
    {
     "data": {
      "text/plain": [
       "[1, 5, 3, 2, 4, 6, 7]"
      ]
     },
     "execution_count": 77,
     "metadata": {},
     "output_type": "execute_result"
    }
   ],
   "source": [
    "result = shuffle_list(example)\n",
    "result"
   ]
  },
  {
   "cell_type": "code",
   "execution_count": 78,
   "id": "47819fc6-987d-4830-8a22-e9b9a9e08a26",
   "metadata": {},
   "outputs": [],
   "source": [
    "mylist =[\" \", '0', ' ']"
   ]
  },
  {
   "cell_type": "code",
   "execution_count": 82,
   "id": "943d7ad9-de03-4298-bd08-aade887b7b17",
   "metadata": {},
   "outputs": [
    {
     "data": {
      "text/plain": [
       "[' ', ' ', '0']"
      ]
     },
     "execution_count": 82,
     "metadata": {},
     "output_type": "execute_result"
    }
   ],
   "source": [
    "shuffle_list(mylist)"
   ]
  },
  {
   "cell_type": "code",
   "execution_count": 92,
   "id": "e80f1494-6cbe-4ec5-9653-ce79d591db2c",
   "metadata": {},
   "outputs": [],
   "source": [
    "def player_guess():\n",
    "    guess =''\n",
    "    while guess not in ['0','1','2']:\n",
    "        guess = input(\"pick a number 0 to 2>\")\n",
    "    return int(guess)"
   ]
  },
  {
   "cell_type": "code",
   "execution_count": 93,
   "id": "e924fb62-1dce-485d-aa0e-dc7e93daa585",
   "metadata": {},
   "outputs": [
    {
     "name": "stdin",
     "output_type": "stream",
     "text": [
      "pick a number 0 to 2> 0\n"
     ]
    },
    {
     "data": {
      "text/plain": [
       "0"
      ]
     },
     "execution_count": 93,
     "metadata": {},
     "output_type": "execute_result"
    }
   ],
   "source": [
    "player_guess()"
   ]
  },
  {
   "cell_type": "code",
   "execution_count": 89,
   "id": "ddff1140-9a06-417c-a84e-d1ab00f6e2bd",
   "metadata": {},
   "outputs": [
    {
     "name": "stdin",
     "output_type": "stream",
     "text": [
      "pick a number 1 to 3 5\n",
      "pick a number 1 to 3 2\n"
     ]
    }
   ],
   "source": [
    "myindex= player_guess()"
   ]
  },
  {
   "cell_type": "code",
   "execution_count": 90,
   "id": "0e348963-582f-45d5-9925-f5f7613f2f66",
   "metadata": {},
   "outputs": [],
   "source": [
    "def check_guess(mylist,guess):\n",
    "    if mylist[guess] == \"0\":\n",
    "        print(\"Correct!!\")\n",
    "    else:\n",
    "        print(\"Wrong!!\")\n",
    "        print(mylist)\n",
    "        "
   ]
  },
  {
   "cell_type": "code",
   "execution_count": 94,
   "id": "31e25285-4e09-4112-8d68-047a18d3c8fb",
   "metadata": {},
   "outputs": [
    {
     "name": "stdin",
     "output_type": "stream",
     "text": [
      "pick a number 0 to 2> 0\n"
     ]
    },
    {
     "name": "stdout",
     "output_type": "stream",
     "text": [
      "Wrong!!\n",
      "[' ', '0', ' ']\n"
     ]
    }
   ],
   "source": [
    "#initial list\n",
    "mylist = [' ', '0', ' ']\n",
    "#shuffle list\n",
    "mixedup_list = shuffle_list(mylist)\n",
    "#user guess\n",
    "guess = player_guess()\n",
    "#check guess\n",
    "check_guess(mixedup_list, guess)"
   ]
  },
  {
   "cell_type": "code",
   "execution_count": 98,
   "id": "250f57a2-c3e9-4add-9f81-c3820bd4f634",
   "metadata": {},
   "outputs": [],
   "source": [
    "#*args  and **kwargs\n",
    "def myfunc(a,b, c=0, d=0):\n",
    "    #returns 5% of the sum a and b\n",
    "    return sum((a,b,c,d)) * 0.05"
   ]
  },
  {
   "cell_type": "code",
   "execution_count": 100,
   "id": "d575f6aa-fbbc-4993-b730-065d024d71a5",
   "metadata": {},
   "outputs": [
    {
     "data": {
      "text/plain": [
       "50.0"
      ]
     },
     "execution_count": 100,
     "metadata": {},
     "output_type": "execute_result"
    }
   ],
   "source": [
    "myfunc(40,60,900)"
   ]
  },
  {
   "cell_type": "code",
   "execution_count": 107,
   "id": "5627a995-8c64-42f2-8cfc-5054ea02782a",
   "metadata": {},
   "outputs": [],
   "source": [
    "def myfunc(*args):\n",
    "    for i in args:\n",
    "        print(i)"
   ]
  },
  {
   "cell_type": "code",
   "execution_count": 108,
   "id": "846fc470-a27e-4705-b8ad-84493180ad39",
   "metadata": {},
   "outputs": [
    {
     "name": "stdout",
     "output_type": "stream",
     "text": [
      "40\n",
      "60\n",
      "900\n"
     ]
    }
   ],
   "source": [
    "myfunc(40,60,900)"
   ]
  },
  {
   "cell_type": "code",
   "execution_count": 111,
   "id": "9221b2ca-680b-4665-a46b-800c0710b50e",
   "metadata": {},
   "outputs": [],
   "source": [
    "def myfunc(**kwargs):\n",
    "    if 'fruit' in kwargs:\n",
    "        print('My fruit of choice is {}'.format(kwargs['fruit']))\n",
    "    else:\n",
    "        print('i did not find any fruit')\n",
    "        "
   ]
  },
  {
   "cell_type": "code",
   "execution_count": 113,
   "id": "82ba82f8-1d14-450c-aa87-d9f30ea51deb",
   "metadata": {},
   "outputs": [
    {
     "name": "stdout",
     "output_type": "stream",
     "text": [
      "My fruit of choice is apple\n"
     ]
    }
   ],
   "source": [
    "myfunc(fruit = 'apple', veggie = 'lettuce')"
   ]
  },
  {
   "cell_type": "code",
   "execution_count": 119,
   "id": "542e3e1f-56c4-4268-b744-3155d7c9c1a5",
   "metadata": {},
   "outputs": [],
   "source": [
    "def myfunc(*args, **kwargs):\n",
    "    print(args)\n",
    "    print(kwargs)\n",
    "    print(\"I would like {} {}\".format(args[0],kwargs[\"food\"]))"
   ]
  },
  {
   "cell_type": "code",
   "execution_count": 120,
   "id": "1ee4385c-1e61-4e03-8a02-7f070f325e47",
   "metadata": {},
   "outputs": [
    {
     "name": "stdout",
     "output_type": "stream",
     "text": [
      "(10, 20, 40)\n",
      "{'fruit': 'orange', 'food': 'eggs', 'animal': 'dog'}\n",
      "I would like 10 eggs\n"
     ]
    }
   ],
   "source": [
    "myfunc(10,20,40, fruit = 'orange', food='eggs', animal='dog')"
   ]
  },
  {
   "cell_type": "code",
   "execution_count": 122,
   "id": "0e5ea063-d2b3-46e0-84eb-ebb7cf7e995f",
   "metadata": {},
   "outputs": [],
   "source": [
    "## LAMBDA EXPRESSION"
   ]
  },
  {
   "cell_type": "code",
   "execution_count": 123,
   "id": "7eb15779-d49f-4740-9952-a8c994fab8cc",
   "metadata": {},
   "outputs": [],
   "source": [
    "def square(x):\n",
    "    return x**2"
   ]
  },
  {
   "cell_type": "code",
   "execution_count": 124,
   "id": "4fbfe18f-e327-401f-a60f-bb5c391c3978",
   "metadata": {},
   "outputs": [],
   "source": [
    "nums =[1,2,3,4,5]"
   ]
  },
  {
   "cell_type": "code",
   "execution_count": 128,
   "id": "d4fed5ae-328a-4241-aeab-f93887cc79be",
   "metadata": {},
   "outputs": [
    {
     "name": "stdout",
     "output_type": "stream",
     "text": [
      "1\n",
      "4\n",
      "9\n",
      "16\n",
      "25\n"
     ]
    }
   ],
   "source": [
    "for item in map(square, nums):\n",
    "    print(item)"
   ]
  },
  {
   "cell_type": "code",
   "execution_count": 133,
   "id": "27e9ed0d-a11a-4a13-bfe4-94e9df40f638",
   "metadata": {},
   "outputs": [
    {
     "data": {
      "text/plain": [
       "[1, 4, 9, 16, 25]"
      ]
     },
     "execution_count": 133,
     "metadata": {},
     "output_type": "execute_result"
    }
   ],
   "source": [
    "list(map(square,nums))"
   ]
  },
  {
   "cell_type": "code",
   "execution_count": 134,
   "id": "dd0c5989-c3b0-4bab-8245-aff097cafa21",
   "metadata": {},
   "outputs": [
    {
     "data": {
      "text/plain": [
       "'<map object at 0x0000027A247B6AA0>'"
      ]
     },
     "execution_count": 134,
     "metadata": {},
     "output_type": "execute_result"
    }
   ],
   "source": [
    "str(map(square, nums))"
   ]
  },
  {
   "cell_type": "code",
   "execution_count": 130,
   "id": "754a62f1-496a-4bc0-818e-2d09c1091a47",
   "metadata": {},
   "outputs": [],
   "source": [
    "def splicer(mystring):\n",
    "    if len(mystring)%2 == 0:\n",
    "        return \"EVEN\"\n",
    "    else:\n",
    "        return mystring[0]"
   ]
  },
  {
   "cell_type": "code",
   "execution_count": 131,
   "id": "43cd7eac-39b6-49a0-846e-7dc8320041db",
   "metadata": {},
   "outputs": [],
   "source": [
    "names = ['ANDY', \"EVE\", \"sally\"]"
   ]
  },
  {
   "cell_type": "code",
   "execution_count": 132,
   "id": "55440c1b-a179-4da6-956a-c3821002539f",
   "metadata": {},
   "outputs": [
    {
     "data": {
      "text/plain": [
       "['EVEN', 'E', 's']"
      ]
     },
     "execution_count": 132,
     "metadata": {},
     "output_type": "execute_result"
    }
   ],
   "source": [
    "list(map(splicer, names))"
   ]
  },
  {
   "cell_type": "code",
   "execution_count": 135,
   "id": "bceda194-92d7-4287-bd9f-0b2d1eabd77a",
   "metadata": {},
   "outputs": [],
   "source": [
    "def check_even(num):\n",
    "    return num%2 ==0"
   ]
  },
  {
   "cell_type": "code",
   "execution_count": 155,
   "id": "07a894b8-b44a-4d4b-bdf2-d5798bc37548",
   "metadata": {},
   "outputs": [],
   "source": [
    "mynums= [1,2,3,4,5,6,7,8]"
   ]
  },
  {
   "cell_type": "code",
   "execution_count": 156,
   "id": "f8ffa859-9e5e-4062-9dfb-9032c2098447",
   "metadata": {},
   "outputs": [
    {
     "data": {
      "text/plain": [
       "[2, 4, 6, 8]"
      ]
     },
     "execution_count": 156,
     "metadata": {},
     "output_type": "execute_result"
    }
   ],
   "source": [
    "list(filter(check_even, mynums))"
   ]
  },
  {
   "cell_type": "code",
   "execution_count": 157,
   "id": "b4e6c5a8-6d36-4ee8-a657-243ba4d58758",
   "metadata": {},
   "outputs": [
    {
     "name": "stdout",
     "output_type": "stream",
     "text": [
      "2\n",
      "4\n",
      "6\n",
      "8\n"
     ]
    }
   ],
   "source": [
    "for n in filter(check_even, mynums):\n",
    "    print(n)"
   ]
  },
  {
   "cell_type": "code",
   "execution_count": 158,
   "id": "6c4f9447-2cd2-4fe6-8add-012d813f590c",
   "metadata": {},
   "outputs": [],
   "source": [
    "def square(num):\n",
    "    result = num **2\n",
    "    return result"
   ]
  },
  {
   "cell_type": "code",
   "execution_count": 159,
   "id": "9b36c52e-0c1b-4f1f-b859-ca0128815a74",
   "metadata": {},
   "outputs": [
    {
     "data": {
      "text/plain": [
       "9"
      ]
     },
     "execution_count": 159,
     "metadata": {},
     "output_type": "execute_result"
    }
   ],
   "source": [
    "square(3)"
   ]
  },
  {
   "cell_type": "code",
   "execution_count": 160,
   "id": "facc7e2a-f565-494c-a4c5-93f92814c53f",
   "metadata": {},
   "outputs": [],
   "source": [
    "def square1(num): return num**2"
   ]
  },
  {
   "cell_type": "code",
   "execution_count": 161,
   "id": "aba798da-0ac4-4262-aaa9-7f3e7a614b4c",
   "metadata": {},
   "outputs": [
    {
     "data": {
      "text/plain": [
       "16"
      ]
     },
     "execution_count": 161,
     "metadata": {},
     "output_type": "execute_result"
    }
   ],
   "source": [
    "square1(4)"
   ]
  },
  {
   "cell_type": "code",
   "execution_count": 162,
   "id": "713547d9-c429-4f11-8f4c-f790c0c5ec6a",
   "metadata": {},
   "outputs": [],
   "source": [
    "square3 = lambda num:num**2"
   ]
  },
  {
   "cell_type": "code",
   "execution_count": 163,
   "id": "d99409f0-c507-4481-b86c-07f02a43b44a",
   "metadata": {},
   "outputs": [
    {
     "data": {
      "text/plain": [
       "4"
      ]
     },
     "execution_count": 163,
     "metadata": {},
     "output_type": "execute_result"
    }
   ],
   "source": [
    "square3(2)"
   ]
  },
  {
   "cell_type": "code",
   "execution_count": 164,
   "id": "c62de282-3ace-41e1-8364-09694a7415cd",
   "metadata": {},
   "outputs": [
    {
     "data": {
      "text/plain": [
       "[1, 4, 9, 16, 25, 36, 49, 64]"
      ]
     },
     "execution_count": 164,
     "metadata": {},
     "output_type": "execute_result"
    }
   ],
   "source": [
    "list(map(lambda num:num**2, mynums))"
   ]
  },
  {
   "cell_type": "code",
   "execution_count": 166,
   "id": "6ba6232f-8aec-4e35-a603-01df30370232",
   "metadata": {},
   "outputs": [
    {
     "data": {
      "text/plain": [
       "[2, 4, 6, 8]"
      ]
     },
     "execution_count": 166,
     "metadata": {},
     "output_type": "execute_result"
    }
   ],
   "source": [
    "list(filter(lambda num:num%2 == 0, mynums))"
   ]
  },
  {
   "cell_type": "code",
   "execution_count": 167,
   "id": "0e52b0c2-a70a-479a-920b-3fc032d52b6b",
   "metadata": {},
   "outputs": [
    {
     "data": {
      "text/plain": [
       "['ANDY', 'EVE', 'sally']"
      ]
     },
     "execution_count": 167,
     "metadata": {},
     "output_type": "execute_result"
    }
   ],
   "source": [
    "names"
   ]
  },
  {
   "cell_type": "code",
   "execution_count": 168,
   "id": "8d4c1f11-5080-411b-8edd-35413915fb39",
   "metadata": {},
   "outputs": [
    {
     "data": {
      "text/plain": [
       "['A', 'E', 's']"
      ]
     },
     "execution_count": 168,
     "metadata": {},
     "output_type": "execute_result"
    }
   ],
   "source": [
    "list(map(lambda name: name[0], names))"
   ]
  },
  {
   "cell_type": "code",
   "execution_count": 169,
   "id": "ef8a4400-2a2e-4935-9252-524286d88f15",
   "metadata": {},
   "outputs": [
    {
     "data": {
      "text/plain": [
       "['YDNA', 'EVE', 'yllas']"
      ]
     },
     "execution_count": 169,
     "metadata": {},
     "output_type": "execute_result"
    }
   ],
   "source": [
    "list(map(lambda name: name[::-1], names))"
   ]
  },
  {
   "cell_type": "code",
   "execution_count": 6,
   "id": "03a1573f-49d3-4232-971a-782a824ada35",
   "metadata": {},
   "outputs": [
    {
     "name": "stdout",
     "output_type": "stream",
     "text": [
      "Fibonacci sequence:\n",
      "0\n",
      "1\n",
      "1\n",
      "2\n",
      "3\n",
      "5\n",
      "8\n",
      "13\n",
      "21\n",
      "34\n"
     ]
    }
   ],
   "source": [
    "# Python program to display the Fibonacci sequence\n",
    "\n",
    "def recur_fibo(n):\n",
    "   if n <= 1:\n",
    "       return n\n",
    "   else:\n",
    "       return(recur_fibo(n-1) + recur_fibo(n-2))\n",
    "\n",
    "nterms = 10\n",
    "\n",
    "# check if the number of terms is valid\n",
    "if nterms <= 0:\n",
    "   print(\"Plese enter a positive integer\")\n",
    "else:\n",
    "   print(\"Fibonacci sequence:\")\n",
    "   for i in range(nterms):\n",
    "       print(recur_fibo(i))\n"
   ]
  },
  {
   "cell_type": "code",
   "execution_count": 5,
   "id": "2b184643-33b5-4f6c-be32-17bc75a38b85",
   "metadata": {},
   "outputs": [],
   "source": [
    "def user_choice():\n",
    "    \n",
    "    choice = 'anything'\n",
    "    acceptable_range = range(0,11)\n",
    "    within_range = False\n",
    "    \n",
    "    #twocheck: digit or within range \n",
    "    while choice.isdigit() == False or within_range == False:\n",
    "        \n",
    "        choice = input(\"Please enter a number(0-10): \")\n",
    "        \n",
    "        #digit\n",
    "        if choice.isdigit() == False:\n",
    "            print(\"SOrrY dickhead that's not a DIGIT\")\n",
    "        \n",
    "        #range\n",
    "        if choice.isdigit() == True:\n",
    "            if int(choice) in acceptable_range:\n",
    "                within_range = True\n",
    "            else:\n",
    "                print(\"Hey sorry you're out of acceptable range\")\n",
    "                within_range = False\n",
    "    return choice"
   ]
  },
  {
   "cell_type": "code",
   "execution_count": 6,
   "id": "821efd5c-8b94-4363-b0ce-76efa546390e",
   "metadata": {},
   "outputs": [
    {
     "name": "stdin",
     "output_type": "stream",
     "text": [
      "Please enter a number(0-10):  10\n"
     ]
    },
    {
     "data": {
      "text/plain": [
       "'10'"
      ]
     },
     "execution_count": 6,
     "metadata": {},
     "output_type": "execute_result"
    }
   ],
   "source": [
    "user_choice()"
   ]
  },
  {
   "cell_type": "code",
   "execution_count": 34,
   "id": "bd917ac9-793d-408c-ad99-046f84fec0e7",
   "metadata": {},
   "outputs": [],
   "source": [
    "result = 'Wrong values'"
   ]
  },
  {
   "cell_type": "code",
   "execution_count": 35,
   "id": "63e064cd-c0ff-4b8d-b09d-a67dbeabb1e1",
   "metadata": {},
   "outputs": [],
   "source": [
    "acceptable_values = [range(11)]"
   ]
  },
  {
   "cell_type": "code",
   "execution_count": 42,
   "id": "332d8aee-5361-4ac5-917d-537a7fa52222",
   "metadata": {},
   "outputs": [
    {
     "name": "stdout",
     "output_type": "stream",
     "text": [
      "range(0, 11)\n"
     ]
    }
   ],
   "source": [
    "print(range(11))"
   ]
  },
  {
   "cell_type": "code",
   "execution_count": null,
   "id": "64962b83-1f84-4463-a96a-e62ba154b998",
   "metadata": {},
   "outputs": [],
   "source": []
  },
  {
   "cell_type": "code",
   "execution_count": null,
   "id": "0d979816-f431-4308-9036-17d6f44958e5",
   "metadata": {},
   "outputs": [],
   "source": []
  },
  {
   "cell_type": "code",
   "execution_count": null,
   "id": "858ba066-35c5-4056-b18c-0f0c59780633",
   "metadata": {},
   "outputs": [],
   "source": []
  },
  {
   "cell_type": "code",
   "execution_count": null,
   "id": "5c7f98a7-ebda-4638-8b04-bb2142994645",
   "metadata": {},
   "outputs": [],
   "source": []
  },
  {
   "cell_type": "code",
   "execution_count": null,
   "id": "15177c94-a3c5-4271-a4ad-4e5b5bff8e9a",
   "metadata": {},
   "outputs": [],
   "source": []
  },
  {
   "cell_type": "code",
   "execution_count": null,
   "id": "bd5f91b4-1a0b-4384-9802-6f05c5e344ab",
   "metadata": {},
   "outputs": [],
   "source": []
  },
  {
   "cell_type": "code",
   "execution_count": null,
   "id": "8da5254d-1921-4514-8914-5e14ac1049f0",
   "metadata": {},
   "outputs": [],
   "source": []
  },
  {
   "cell_type": "code",
   "execution_count": null,
   "id": "500e5373-1b34-469a-96fc-ea713f4a9616",
   "metadata": {},
   "outputs": [],
   "source": []
  },
  {
   "cell_type": "code",
   "execution_count": null,
   "id": "9a16c30e-8c8a-47e8-b3a4-3d8fd4853cc8",
   "metadata": {},
   "outputs": [],
   "source": []
  },
  {
   "cell_type": "code",
   "execution_count": 4,
   "id": "3c3ff1e7-2e96-47ea-bc13-05e2649368a4",
   "metadata": {},
   "outputs": [],
   "source": [
    "game_list = [0,1,2]"
   ]
  },
  {
   "cell_type": "code",
   "execution_count": 5,
   "id": "d499400c-9ddf-4122-9426-c9a08b6567a1",
   "metadata": {},
   "outputs": [],
   "source": [
    "def display_game(game_list):\n",
    "    print(\"Here's the current list: \")\n",
    "    print(game_list)"
   ]
  },
  {
   "cell_type": "code",
   "execution_count": 6,
   "id": "648ea82b-66a7-4634-ba54-62b0e4a7f076",
   "metadata": {},
   "outputs": [
    {
     "name": "stdin",
     "output_type": "stream",
     "text": [
      "Pick a Position(0,1,2):  1\n"
     ]
    },
    {
     "data": {
      "text/plain": [
       "1"
      ]
     },
     "execution_count": 6,
     "metadata": {},
     "output_type": "execute_result"
    }
   ],
   "source": [
    "def position_choice():\n",
    "    \n",
    "    choice = \"wrong\"\n",
    "    \n",
    "    while choice not in ['0','1','2']:\n",
    "        \n",
    "        choice = input(\"Pick a Position(0,1,2): \")\n",
    "        \n",
    "        if choice not in ['0','1','2']:\n",
    "            print(\"Sorry invalid choice!!\")\n",
    "    \n",
    "    return int(choice)\n",
    "            \n",
    "     "
   ]
  },
  {
   "cell_type": "code",
   "execution_count": 7,
   "id": "88d5ec0e-a36d-4a1b-84de-f6b685c75091",
   "metadata": {},
   "outputs": [
    {
     "name": "stdin",
     "output_type": "stream",
     "text": [
      "Type a string to place at position:  2\n"
     ]
    },
    {
     "data": {
      "text/plain": [
       "[0, '2', 2]"
      ]
     },
     "execution_count": 7,
     "metadata": {},
     "output_type": "execute_result"
    }
   ],
   "source": [
    "def replacement_choice(game_list, position):\n",
    "    \n",
    "    user_placement = input(\"Type a string to place at position: \")\n",
    "    game_list[position] = user_placement\n",
    "    return game_list\n",
    "\n",
    "replacement_choice(game_list, 1)"
   ]
  },
  {
   "cell_type": "code",
   "execution_count": 8,
   "id": "f6e919d0-486b-4d29-856c-6f4ab66ef783",
   "metadata": {},
   "outputs": [
    {
     "name": "stdin",
     "output_type": "stream",
     "text": [
      "Keep playing? (Y or N) Y\n"
     ]
    },
    {
     "data": {
      "text/plain": [
       "True"
      ]
     },
     "execution_count": 8,
     "metadata": {},
     "output_type": "execute_result"
    }
   ],
   "source": [
    "def gameon_choice():\n",
    "    \n",
    "    choice = 'wrong'\n",
    "    \n",
    "    while choice not in [\"Y\", \"N\"]:\n",
    "        \n",
    "        choice = input(\"Keep playing? (Y or N)\")\n",
    "        \n",
    "        if choice not in [\"Y\", 'N']:\n",
    "            print(\"type again\")\n",
    "            \n",
    "    if choice == 'Y':\n",
    "        return True\n",
    "    else:\n",
    "        return False\n",
    "\n",
    "gameon_choice()"
   ]
  },
  {
   "cell_type": "code",
   "execution_count": 9,
   "id": "2bb58b1c-f586-406d-ab18-67c21444d07f",
   "metadata": {},
   "outputs": [
    {
     "name": "stdout",
     "output_type": "stream",
     "text": [
      "Here's the current list: \n",
      "[0, 1, 2]\n"
     ]
    },
    {
     "name": "stdin",
     "output_type": "stream",
     "text": [
      "Pick a Position(0,1,2):  2\n",
      "Type a string to place at position:  abc\n"
     ]
    },
    {
     "name": "stdout",
     "output_type": "stream",
     "text": [
      "Here's the current list: \n",
      "[0, 1, 'abc']\n"
     ]
    },
    {
     "name": "stdin",
     "output_type": "stream",
     "text": [
      "Keep playing? (Y or N) 2\n"
     ]
    },
    {
     "name": "stdout",
     "output_type": "stream",
     "text": [
      "type again\n"
     ]
    },
    {
     "name": "stdin",
     "output_type": "stream",
     "text": [
      "Keep playing? (Y or N) abc\n"
     ]
    },
    {
     "name": "stdout",
     "output_type": "stream",
     "text": [
      "type again\n"
     ]
    },
    {
     "name": "stdin",
     "output_type": "stream",
     "text": [
      "Keep playing? (Y or N) 2\n"
     ]
    },
    {
     "name": "stdout",
     "output_type": "stream",
     "text": [
      "type again\n"
     ]
    },
    {
     "name": "stdin",
     "output_type": "stream",
     "text": [
      "Keep playing? (Y or N) Y\n"
     ]
    },
    {
     "name": "stdout",
     "output_type": "stream",
     "text": [
      "Here's the current list: \n",
      "[0, 1, 'abc']\n"
     ]
    },
    {
     "name": "stdin",
     "output_type": "stream",
     "text": [
      "Pick a Position(0,1,2):  3\n"
     ]
    },
    {
     "name": "stdout",
     "output_type": "stream",
     "text": [
      "Sorry invalid choice!!\n"
     ]
    },
    {
     "name": "stdin",
     "output_type": "stream",
     "text": [
      "Pick a Position(0,1,2):  2\n",
      "Type a string to place at position:  ami\n"
     ]
    },
    {
     "name": "stdout",
     "output_type": "stream",
     "text": [
      "Here's the current list: \n",
      "[0, 1, 'ami']\n"
     ]
    },
    {
     "name": "stdin",
     "output_type": "stream",
     "text": [
      "Keep playing? (Y or N) Y\n"
     ]
    },
    {
     "name": "stdout",
     "output_type": "stream",
     "text": [
      "Here's the current list: \n",
      "[0, 1, 'ami']\n"
     ]
    },
    {
     "name": "stdin",
     "output_type": "stream",
     "text": [
      "Pick a Position(0,1,2):  ami\n"
     ]
    },
    {
     "name": "stdout",
     "output_type": "stream",
     "text": [
      "Sorry invalid choice!!\n"
     ]
    },
    {
     "name": "stdin",
     "output_type": "stream",
     "text": [
      "Pick a Position(0,1,2):  0\n",
      "Type a string to place at position:  9\n"
     ]
    },
    {
     "name": "stdout",
     "output_type": "stream",
     "text": [
      "Here's the current list: \n",
      "['9', 1, 'ami']\n"
     ]
    },
    {
     "name": "stdin",
     "output_type": "stream",
     "text": [
      "Keep playing? (Y or N) N\n"
     ]
    }
   ],
   "source": [
    "game_on = True\n",
    "game_list = [0,1,2]\n",
    "\n",
    "while game_on:\n",
    "    \n",
    "    display_game(game_list)\n",
    "    \n",
    "    position = position_choice()\n",
    "    \n",
    "    game_list = replacement_choice(game_list, position)\n",
    "    \n",
    "    display_game(game_list)\n",
    "    \n",
    "    game_on = gameon_choice()"
   ]
  },
  {
   "cell_type": "code",
   "execution_count": null,
   "id": "62b2806d-6308-42a0-9dd5-b35f676ce328",
   "metadata": {},
   "outputs": [],
   "source": []
  }
 ],
 "metadata": {
  "kernelspec": {
   "display_name": "Python 3 (ipykernel)",
   "language": "python",
   "name": "python3"
  },
  "language_info": {
   "codemirror_mode": {
    "name": "ipython",
    "version": 3
   },
   "file_extension": ".py",
   "mimetype": "text/x-python",
   "name": "python",
   "nbconvert_exporter": "python",
   "pygments_lexer": "ipython3",
   "version": "3.10.4"
  }
 },
 "nbformat": 4,
 "nbformat_minor": 5
}
