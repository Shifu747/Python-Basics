{
 "cells": [
  {
   "cell_type": "markdown",
   "id": "68497bb7-0811-4435-8860-a805904f1ca9",
   "metadata": {},
   "source": [
    "## CARD\n",
    "#SUIT, RANK, VALUE"
   ]
  },
  {
   "cell_type": "code",
   "execution_count": 109,
   "id": "4840addf-5f86-41ff-8b04-9737678aab23",
   "metadata": {},
   "outputs": [],
   "source": [
    "import random\n",
    "suits = (\"Hearts\", \"Diamonds\", \"Spades\", \"Clubs\")\n",
    "ranks = ('Two', 'Three', 'Four', 'Five', 'Six', 'Seven',\n",
    "         'Eight', 'Nine', 'Ten', 'Jack', 'Queen', 'King', 'Ace')\n",
    "\n",
    "values = {'Two': 2, 'Three': 3, 'Four' : 4, 'Five': 5, 'Six': 6, 'Seven':7,\n",
    "         'Eight':8, 'Nine':9, 'Ten': 10, 'Jack':11, 'Queen':12, 'King':13, 'Ace': 14}"
   ]
  },
  {
   "cell_type": "code",
   "execution_count": 110,
   "id": "9a740e72-98e7-4e28-a553-588832d693b9",
   "metadata": {},
   "outputs": [],
   "source": [
    "class Card:\n",
    "    \n",
    "    def __init__(self,suit,rank):\n",
    "        self.suit = suit\n",
    "        self.rank = rank\n",
    "        self.value = values[rank.capitalize()]\n",
    "        \n",
    "    def __str__(self):\n",
    "        return self.rank + \" of \" + self.suit"
   ]
  },
  {
   "cell_type": "code",
   "execution_count": 111,
   "id": "a53c0aa9-b786-4a77-b926-efdcb70db02e",
   "metadata": {},
   "outputs": [],
   "source": [
    "class Deck:\n",
    "    \n",
    "    def __init__(self):\n",
    "        \n",
    "        self.all_cards = []\n",
    "        \n",
    "        for suit in suits:\n",
    "            for rank in ranks:\n",
    "                #create card object\n",
    "                created_card = Card(suit, rank)\n",
    "                self.all_cards.append(created_card)\n",
    "    \n",
    "    def shuffle(self):\n",
    "        random.shuffle(self.all_cards)\n",
    "        \n",
    "    def deal_one(self):\n",
    "        return self.all_cards.pop()"
   ]
  },
  {
   "cell_type": "code",
   "execution_count": 112,
   "id": "bca48db5-c968-4ffd-bdd0-f99d19231683",
   "metadata": {},
   "outputs": [],
   "source": [
    "class Player:\n",
    "    \n",
    "    def __init__(self,name):\n",
    "        self.name = name\n",
    "        self.all_cards = []\n",
    "        \n",
    "    def remove_one(self):\n",
    "        return self.all_cards.pop(0)\n",
    "    \n",
    "    def add_cards(self, new_cards):\n",
    "        if type(new_cards) == type([]):\n",
    "            self.all_cards.extend(new_cards)\n",
    "        else:\n",
    "            self.all_cards.append(new_cards)\n",
    "    \n",
    "    def __str__(self):\n",
    "        return f'Player {self.name} has {len(self.all_cards)} cards.'"
   ]
  },
  {
   "cell_type": "code",
   "execution_count": 113,
   "id": "49c1ee1b-94a4-42e4-9d91-11349e261ce8",
   "metadata": {},
   "outputs": [],
   "source": [
    "#GAmE SeTUP\n",
    "player_one = Player(\"One\")\n",
    "player_two = Player(\"Two\")\n",
    "\n",
    "new_deck = Deck()\n",
    "new_deck.shuffle()\n",
    "\n",
    "for x in range(26):\n",
    "    player_one.add_cards(new_deck.deal_one())\n",
    "    player_two.add_cards(new_deck.deal_one())"
   ]
  },
  {
   "cell_type": "code",
   "execution_count": 114,
   "id": "8b06e217-c605-4572-b624-a31f7910cd9f",
   "metadata": {},
   "outputs": [],
   "source": [
    "game_on = True"
   ]
  },
  {
   "cell_type": "code",
   "execution_count": 142,
   "id": "acb8e248-117b-4219-8f30-da4a03c3cfdc",
   "metadata": {},
   "outputs": [],
   "source": [
    "round_num = 0\n",
    " \n",
    "\n",
    "while game_on:\n",
    "    round_num +=1\n",
    "    print(f'Round > {round_num}')\n",
    "    \n",
    "    if len(player_one.all_cards) == 0:\n",
    "        print(\"Player One. out of Cards! Player Two Wins!\")\n",
    "        game_on = False\n",
    "        break\n",
    "    \n",
    "    if len(player_two.all_cards) == 0:\n",
    "        print(\"Player Two. out of Cards! Player One Wins!\")\n",
    "        game_on = False\n",
    "        break\n",
    "        \n",
    "    #START A NEW ROUND\n",
    "    \n",
    "    player_one_cards = []\n",
    "    player_one_cards.append(player_one.remove_one())\n",
    "    \n",
    "    player_two_cards = []\n",
    "    player_two_cards.append(player_two.remove_one())\n",
    "    \n",
    "    \n",
    "    at_war = True\n",
    "    \n",
    "    \n",
    "    \n",
    "    while at_war:\n",
    "        \n",
    "        \n",
    "        \n",
    "        if player_one_cards[-1].value > player_two_cards[-1].value:\n",
    "            player_one.add_cards(player_one_cards)\n",
    "            player_one.add_cards(player_two_cards)\n",
    "            \n",
    "            at_war = False\n",
    "            \n",
    "        elif player_one_cards[-1].value < player_two_cards[-1].value:\n",
    "            player_two.add_cards(player_one_cards)\n",
    "            player_two.add_cards(player_two_cards)\n",
    "            \n",
    "            at_war = False\n",
    "            \n",
    "        else: \n",
    "            print(f\"WAR! > {war}\")\n",
    "            \n",
    "            if len(player_one.all_cards) < 5:\n",
    "                print(\"Player One unable to declare WAR\")\n",
    "                print(\"Player Two Wins\")\n",
    "                game_on = False\n",
    "                break\n",
    "                \n",
    "            elif len(player_two.all_cards) < 5:\n",
    "                print(\"Player Two unable to declare WAR\")\n",
    "                print(\"Player One Wins\")\n",
    "                game_on = False\n",
    "                break\n",
    "                \n",
    "            else:\n",
    "                for num in range(5):\n",
    "                    player_one_cards.append(player_one.remove_one())\n",
    "                    player_two_cards.append(player_two.remove_one())"
   ]
  },
  {
   "cell_type": "code",
   "execution_count": null,
   "id": "69e004c7-db41-4016-b0b7-de5009a98481",
   "metadata": {},
   "outputs": [],
   "source": []
  },
  {
   "cell_type": "code",
   "execution_count": null,
   "id": "db97cc3c-7b67-4aa7-8c28-f3f631971924",
   "metadata": {},
   "outputs": [],
   "source": []
  },
  {
   "cell_type": "code",
   "execution_count": null,
   "id": "b4b28d8e-54ff-4ae0-aa3e-5e90f10e5607",
   "metadata": {},
   "outputs": [],
   "source": []
  },
  {
   "cell_type": "code",
   "execution_count": null,
   "id": "a75405fc-ced0-473e-8efc-2add31466ddc",
   "metadata": {},
   "outputs": [],
   "source": []
  },
  {
   "cell_type": "code",
   "execution_count": null,
   "id": "56602ef7-7837-4316-80b7-68711dd0a41f",
   "metadata": {},
   "outputs": [],
   "source": []
  },
  {
   "cell_type": "code",
   "execution_count": null,
   "id": "6c47efcd-ba87-48e6-919d-7c7b587ec3b0",
   "metadata": {},
   "outputs": [],
   "source": []
  },
  {
   "cell_type": "code",
   "execution_count": null,
   "id": "1fdf035e-5b06-417f-90c0-7fa323b16807",
   "metadata": {},
   "outputs": [],
   "source": []
  },
  {
   "cell_type": "code",
   "execution_count": null,
   "id": "7ddcdfb0-e3e2-419a-85c4-1a408d2f693c",
   "metadata": {},
   "outputs": [],
   "source": []
  },
  {
   "cell_type": "code",
   "execution_count": null,
   "id": "1a9f51cf-dae9-448b-aef2-794a069d9274",
   "metadata": {},
   "outputs": [],
   "source": []
  },
  {
   "cell_type": "code",
   "execution_count": null,
   "id": "2ed4a181-c580-479d-a52c-16b7561158ac",
   "metadata": {},
   "outputs": [],
   "source": []
  },
  {
   "cell_type": "code",
   "execution_count": null,
   "id": "35f8ca77-9fa1-474c-9a92-24b3df018734",
   "metadata": {},
   "outputs": [],
   "source": []
  },
  {
   "cell_type": "code",
   "execution_count": null,
   "id": "245877d1-92c9-4f46-b66b-d7159695293a",
   "metadata": {},
   "outputs": [],
   "source": []
  },
  {
   "cell_type": "code",
   "execution_count": null,
   "id": "3547c4d6-cfda-4514-9ad5-72e82f963f24",
   "metadata": {},
   "outputs": [],
   "source": []
  },
  {
   "cell_type": "code",
   "execution_count": null,
   "id": "715a37e7-12a6-4980-9213-89887afc478b",
   "metadata": {},
   "outputs": [],
   "source": []
  },
  {
   "cell_type": "code",
   "execution_count": null,
   "id": "aa81290a-abd0-49cf-928d-74cd841a7374",
   "metadata": {},
   "outputs": [],
   "source": []
  },
  {
   "cell_type": "code",
   "execution_count": null,
   "id": "76b43c94-c284-4c9e-ace6-ce04961676bb",
   "metadata": {},
   "outputs": [],
   "source": []
  },
  {
   "cell_type": "code",
   "execution_count": null,
   "id": "cb366b65-3f12-4f7d-8994-ce9733377ba0",
   "metadata": {},
   "outputs": [],
   "source": []
  },
  {
   "cell_type": "code",
   "execution_count": null,
   "id": "ca63cdd9-0654-4644-9020-1f99af1b2e1f",
   "metadata": {},
   "outputs": [],
   "source": []
  },
  {
   "cell_type": "code",
   "execution_count": null,
   "id": "77b3ec75-147c-4c56-b944-145a502a8bad",
   "metadata": {},
   "outputs": [],
   "source": []
  },
  {
   "cell_type": "code",
   "execution_count": null,
   "id": "3a4b72c6-fb93-4567-81ac-06780d33d968",
   "metadata": {},
   "outputs": [],
   "source": []
  },
  {
   "cell_type": "code",
   "execution_count": null,
   "id": "c27f18f0-5e46-4f23-8949-007c99b59a23",
   "metadata": {},
   "outputs": [],
   "source": []
  },
  {
   "cell_type": "code",
   "execution_count": null,
   "id": "d3b1d4e1-00d1-4431-89ef-5078e11f77f2",
   "metadata": {},
   "outputs": [],
   "source": []
  },
  {
   "cell_type": "code",
   "execution_count": null,
   "id": "9ff26e98-fd28-4eed-b591-e9f5dfa4a72a",
   "metadata": {},
   "outputs": [],
   "source": []
  },
  {
   "cell_type": "code",
   "execution_count": null,
   "id": "438511ff-a8fb-4c52-b4cc-c517d8cff805",
   "metadata": {},
   "outputs": [],
   "source": []
  },
  {
   "cell_type": "code",
   "execution_count": null,
   "id": "3ad12e72-1663-43c3-8fea-915b2bc26b16",
   "metadata": {},
   "outputs": [],
   "source": []
  },
  {
   "cell_type": "code",
   "execution_count": null,
   "id": "4106cff2-b315-495d-b7ce-3438b5175440",
   "metadata": {},
   "outputs": [],
   "source": []
  },
  {
   "cell_type": "code",
   "execution_count": null,
   "id": "3fde3f6c-d559-4869-b953-a77cc8c28131",
   "metadata": {},
   "outputs": [],
   "source": []
  },
  {
   "cell_type": "code",
   "execution_count": null,
   "id": "971740b5-295e-40aa-8a0c-ebbac6a62cf9",
   "metadata": {},
   "outputs": [],
   "source": []
  },
  {
   "cell_type": "code",
   "execution_count": null,
   "id": "1ce4a748-1129-49a1-8817-2f7598d9edf4",
   "metadata": {},
   "outputs": [],
   "source": []
  },
  {
   "cell_type": "code",
   "execution_count": null,
   "id": "6b7d6078-4a3c-4540-a149-676b3c11641c",
   "metadata": {},
   "outputs": [],
   "source": []
  },
  {
   "cell_type": "code",
   "execution_count": null,
   "id": "adcae276-f0e3-4db7-8066-f1cb91d29c47",
   "metadata": {},
   "outputs": [],
   "source": []
  },
  {
   "cell_type": "code",
   "execution_count": null,
   "id": "5cbd1e55-4354-444e-94c2-a09572f3cf3c",
   "metadata": {},
   "outputs": [],
   "source": []
  },
  {
   "cell_type": "code",
   "execution_count": null,
   "id": "db5c967d-3a7d-4dba-b584-55819e358fb7",
   "metadata": {},
   "outputs": [],
   "source": []
  },
  {
   "cell_type": "code",
   "execution_count": 116,
   "id": "445f76d8-bcfd-4111-836a-e84ddafb82a8",
   "metadata": {
    "tags": []
   },
   "outputs": [],
   "source": [
    "mydeck = Deck()"
   ]
  },
  {
   "cell_type": "code",
   "execution_count": 117,
   "id": "0f523bff-32c8-411d-bf05-a20529f78f62",
   "metadata": {},
   "outputs": [],
   "source": [
    "mydeck.shuffle()"
   ]
  },
  {
   "cell_type": "code",
   "execution_count": 118,
   "id": "d036c05d-e031-4ae4-9019-dac906493ef7",
   "metadata": {},
   "outputs": [
    {
     "data": {
      "text/plain": [
       "<__main__.Card at 0x20bbe65a1a0>"
      ]
     },
     "execution_count": 118,
     "metadata": {},
     "output_type": "execute_result"
    }
   ],
   "source": [
    "mydeck.deal_one()"
   ]
  },
  {
   "cell_type": "code",
   "execution_count": 119,
   "id": "60ee11cf-ecbd-40e0-92df-175949b73cda",
   "metadata": {},
   "outputs": [
    {
     "name": "stdout",
     "output_type": "stream",
     "text": [
      "Four of Clubs\n"
     ]
    }
   ],
   "source": [
    "print(mydeck.deal_one())"
   ]
  },
  {
   "cell_type": "code",
   "execution_count": 120,
   "id": "cd607e86-bdc6-4add-86b1-ef6985287234",
   "metadata": {},
   "outputs": [],
   "source": [
    "new_player = Player(\"Musta Krakish\")"
   ]
  },
  {
   "cell_type": "code",
   "execution_count": 121,
   "id": "b3123dee-2350-48b1-878f-ba665aa69f7d",
   "metadata": {},
   "outputs": [],
   "source": [
    "new_player.add_cards(mydeck.deal_one)"
   ]
  },
  {
   "cell_type": "code",
   "execution_count": 122,
   "id": "0312be2f-a4cb-49d1-8b65-86b8b9e4a698",
   "metadata": {},
   "outputs": [
    {
     "name": "stdout",
     "output_type": "stream",
     "text": [
      "Player Musta Krakish has 1 cards.\n"
     ]
    }
   ],
   "source": [
    "print(new_player)"
   ]
  },
  {
   "cell_type": "code",
   "execution_count": null,
   "id": "eee6689c-374f-4567-af7b-fd07e0c58bed",
   "metadata": {},
   "outputs": [],
   "source": []
  },
  {
   "cell_type": "code",
   "execution_count": null,
   "id": "f107591d-3547-4ffc-abc4-82c12b548698",
   "metadata": {},
   "outputs": [],
   "source": []
  },
  {
   "cell_type": "code",
   "execution_count": null,
   "id": "56980d73-92a9-4cdd-9d5d-8ecca2df8f94",
   "metadata": {},
   "outputs": [],
   "source": []
  },
  {
   "cell_type": "code",
   "execution_count": null,
   "id": "44e75856-f810-4455-8777-5dfb889c7791",
   "metadata": {},
   "outputs": [],
   "source": []
  },
  {
   "cell_type": "code",
   "execution_count": null,
   "id": "6f6b69d2-4bef-48b4-a49a-64d7925f7945",
   "metadata": {},
   "outputs": [],
   "source": []
  },
  {
   "cell_type": "code",
   "execution_count": null,
   "id": "af2b1e86-233c-40a1-986e-1566b6647441",
   "metadata": {},
   "outputs": [],
   "source": []
  },
  {
   "cell_type": "code",
   "execution_count": 123,
   "id": "aab6278e-0927-4577-a63b-ab314a3a46ba",
   "metadata": {},
   "outputs": [],
   "source": [
    "new_player = Player(\"MASTER\")"
   ]
  },
  {
   "cell_type": "code",
   "execution_count": 124,
   "id": "3d3c71ea-50c8-42e5-9e41-ae8ac90b3fa1",
   "metadata": {},
   "outputs": [
    {
     "name": "stdout",
     "output_type": "stream",
     "text": [
      "Player MASTER has 0 cards.\n"
     ]
    }
   ],
   "source": [
    "print(new_player)"
   ]
  },
  {
   "cell_type": "code",
   "execution_count": 125,
   "id": "8583c71a-5b16-4396-9241-eb7efeaf43d9",
   "metadata": {},
   "outputs": [],
   "source": [
    "new_deck = Deck()"
   ]
  },
  {
   "cell_type": "code",
   "execution_count": 126,
   "id": "192aa7de-8225-422b-a930-7d9b04f797ab",
   "metadata": {},
   "outputs": [],
   "source": [
    "new_deck.shuffle()"
   ]
  },
  {
   "cell_type": "code",
   "execution_count": 127,
   "id": "09311095-aff4-4c8f-989b-4e3b60bd3305",
   "metadata": {},
   "outputs": [],
   "source": [
    "mycard = new_deck.deal_one()"
   ]
  },
  {
   "cell_type": "code",
   "execution_count": 128,
   "id": "2a7dc250-a3c5-466b-9e08-60944333c4e0",
   "metadata": {},
   "outputs": [
    {
     "name": "stdout",
     "output_type": "stream",
     "text": [
      "Nine of Spades\n"
     ]
    }
   ],
   "source": [
    "print(mycard)"
   ]
  },
  {
   "cell_type": "code",
   "execution_count": 129,
   "id": "986ce83d-33dd-4ea4-bc0d-f64c5ad0771f",
   "metadata": {},
   "outputs": [],
   "source": [
    "new_player.add_cards(mycard)"
   ]
  },
  {
   "cell_type": "code",
   "execution_count": 130,
   "id": "bc5ac0c2-b011-4ec5-b17c-5d1379324a9f",
   "metadata": {},
   "outputs": [
    {
     "name": "stdout",
     "output_type": "stream",
     "text": [
      "Player MASTER has 1 cards.\n"
     ]
    }
   ],
   "source": [
    "print(new_player)"
   ]
  },
  {
   "cell_type": "code",
   "execution_count": 131,
   "id": "79b22eed-44d4-4113-a43d-3c0e894ef788",
   "metadata": {},
   "outputs": [
    {
     "name": "stdout",
     "output_type": "stream",
     "text": [
      "Nine of Spades\n"
     ]
    }
   ],
   "source": [
    "print(new_player.all_cards[0])"
   ]
  },
  {
   "cell_type": "code",
   "execution_count": 132,
   "id": "04efbf27-18c0-4df9-aa37-66b554f380f3",
   "metadata": {},
   "outputs": [],
   "source": [
    "new_player.add_cards([mycard,mycard,mycard])"
   ]
  },
  {
   "cell_type": "code",
   "execution_count": 133,
   "id": "652887c0-9c6c-47a3-9211-d5d489d86219",
   "metadata": {},
   "outputs": [
    {
     "name": "stdout",
     "output_type": "stream",
     "text": [
      "Player MASTER has 4 cards.\n"
     ]
    }
   ],
   "source": [
    "print(new_player)"
   ]
  },
  {
   "cell_type": "code",
   "execution_count": 134,
   "id": "612992b2-6d59-42c7-8803-6765f16cf0f0",
   "metadata": {},
   "outputs": [
    {
     "data": {
      "text/plain": [
       "<__main__.Card at 0x20bc051dc60>"
      ]
     },
     "execution_count": 134,
     "metadata": {},
     "output_type": "execute_result"
    }
   ],
   "source": [
    "new_player.remove_one()"
   ]
  },
  {
   "cell_type": "code",
   "execution_count": null,
   "id": "3ee2e73a-54b2-4bc3-8396-3c556f9cfe3e",
   "metadata": {},
   "outputs": [],
   "source": []
  },
  {
   "cell_type": "code",
   "execution_count": 135,
   "id": "3ad5e51a-ba01-4c45-bdb9-a56a6f0bc467",
   "metadata": {},
   "outputs": [
    {
     "data": {
      "text/plain": [
       "51"
      ]
     },
     "execution_count": 135,
     "metadata": {},
     "output_type": "execute_result"
    }
   ],
   "source": [
    "len(new_deck.all_cards)"
   ]
  },
  {
   "cell_type": "code",
   "execution_count": null,
   "id": "6952e3c4-076f-4702-b4ef-c01438bf7e74",
   "metadata": {},
   "outputs": [],
   "source": []
  },
  {
   "cell_type": "code",
   "execution_count": 136,
   "id": "4438828c-1d46-488d-a2bf-951838f36a94",
   "metadata": {},
   "outputs": [],
   "source": [
    "first_card = new_deck.all_cards[-1]"
   ]
  },
  {
   "cell_type": "code",
   "execution_count": 137,
   "id": "b29cd2ea-b319-42c0-a15d-7cf49b5ba108",
   "metadata": {},
   "outputs": [
    {
     "data": {
      "text/plain": [
       "3"
      ]
     },
     "execution_count": 137,
     "metadata": {},
     "output_type": "execute_result"
    }
   ],
   "source": [
    "first_card.value"
   ]
  },
  {
   "cell_type": "code",
   "execution_count": 138,
   "id": "7c32a3c5-e942-433d-8794-dc40aa8b84a7",
   "metadata": {},
   "outputs": [
    {
     "name": "stdout",
     "output_type": "stream",
     "text": [
      "Three of Clubs\n"
     ]
    }
   ],
   "source": [
    "print(first_card)"
   ]
  },
  {
   "cell_type": "code",
   "execution_count": 139,
   "id": "fb3bcbda-cd66-4443-b4d9-6bc111ab1d75",
   "metadata": {},
   "outputs": [],
   "source": [
    "new_deck.shuffle()"
   ]
  },
  {
   "cell_type": "code",
   "execution_count": 140,
   "id": "b8f3ab8e-16d8-4bc5-8657-0591d10ac2a6",
   "metadata": {},
   "outputs": [
    {
     "name": "stdout",
     "output_type": "stream",
     "text": [
      "Seven of Spades\n"
     ]
    }
   ],
   "source": [
    "print(new_deck.all_cards[-1])"
   ]
  },
  {
   "cell_type": "code",
   "execution_count": null,
   "id": "a1f2d522-e192-4713-b8a1-e61d9853297f",
   "metadata": {},
   "outputs": [],
   "source": []
  },
  {
   "cell_type": "code",
   "execution_count": 141,
   "id": "dbc962bd-ec78-4686-b5c5-7fb319e07458",
   "metadata": {},
   "outputs": [
    {
     "name": "stdout",
     "output_type": "stream",
     "text": [
      "Six of Spades\n",
      "Three of Spades\n",
      "Jack of Diamonds\n",
      "Two of Diamonds\n",
      "Queen of Spades\n",
      "Nine of Diamonds\n",
      "Queen of Hearts\n",
      "Two of Clubs\n",
      "King of Hearts\n",
      "Two of Spades\n",
      "Six of Hearts\n",
      "Ten of Diamonds\n",
      "Ten of Hearts\n",
      "Jack of Clubs\n",
      "Jack of Hearts\n",
      "Seven of Hearts\n",
      "Queen of Clubs\n",
      "Jack of Spades\n",
      "Three of Diamonds\n",
      "Four of Hearts\n",
      "Five of Hearts\n",
      "Five of Clubs\n",
      "Eight of Diamonds\n",
      "Ace of Spades\n",
      "Five of Diamonds\n",
      "King of Clubs\n",
      "Four of Spades\n",
      "Five of Spades\n",
      "King of Diamonds\n",
      "Queen of Diamonds\n",
      "Ten of Spades\n",
      "Ace of Diamonds\n",
      "Ace of Hearts\n",
      "Nine of Hearts\n",
      "Six of Clubs\n",
      "Three of Clubs\n",
      "Eight of Hearts\n",
      "Four of Diamonds\n",
      "Eight of Spades\n",
      "King of Spades\n",
      "Four of Clubs\n",
      "Seven of Diamonds\n",
      "Seven of Clubs\n",
      "Eight of Clubs\n",
      "Ace of Clubs\n",
      "Ten of Clubs\n",
      "Three of Hearts\n",
      "Six of Diamonds\n",
      "Two of Hearts\n",
      "Nine of Clubs\n",
      "Seven of Spades\n"
     ]
    }
   ],
   "source": [
    "for card_object in new_deck.all_cards:\n",
    "    print(card_object)\n",
    "    "
   ]
  },
  {
   "cell_type": "code",
   "execution_count": null,
   "id": "97e53f2a-66c7-4874-9cd9-600c0c1f48e8",
   "metadata": {},
   "outputs": [],
   "source": []
  },
  {
   "cell_type": "code",
   "execution_count": null,
   "id": "3549c69e-b06c-4adf-b664-2fca2546987f",
   "metadata": {},
   "outputs": [],
   "source": []
  },
  {
   "cell_type": "code",
   "execution_count": null,
   "id": "c7df807b-e6f9-40d1-8c1d-c85218ae98db",
   "metadata": {},
   "outputs": [],
   "source": []
  },
  {
   "cell_type": "code",
   "execution_count": null,
   "id": "fd9169ce-b64b-47e9-9b66-3b23bdba2a92",
   "metadata": {},
   "outputs": [],
   "source": []
  }
 ],
 "metadata": {
  "kernelspec": {
   "display_name": "Python 3 (ipykernel)",
   "language": "python",
   "name": "python3"
  },
  "language_info": {
   "codemirror_mode": {
    "name": "ipython",
    "version": 3
   },
   "file_extension": ".py",
   "mimetype": "text/x-python",
   "name": "python",
   "nbconvert_exporter": "python",
   "pygments_lexer": "ipython3",
   "version": "3.10.4"
  }
 },
 "nbformat": 4,
 "nbformat_minor": 5
}
