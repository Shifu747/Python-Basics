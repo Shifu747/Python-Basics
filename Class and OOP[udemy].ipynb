{
 "cells": [
  {
   "cell_type": "code",
   "execution_count": 1,
   "id": "cf0c159b-c633-4ef4-8ec7-7dd8fe81b03c",
   "metadata": {},
   "outputs": [],
   "source": [
    "class NameOfClass():\n",
    "    def __init__(self, param1, param2):\n",
    "        self.param1 = param1\n",
    "        self.param2 = param2\n",
    "        \n",
    "    def some_method(self):\n",
    "        #print some action\n",
    "        print(self.param1)"
   ]
  },
  {
   "cell_type": "code",
   "execution_count": 56,
   "id": "fab2b823-8e98-4c42-bdbc-f0956eeb8abd",
   "metadata": {},
   "outputs": [],
   "source": [
    "class Dog():\n",
    "    #CLASS OBJECT ATTRIBUTE\n",
    "    #SAME FOR ANY INSTANCE OF A CLASS\n",
    "    species = \"mammal\"\n",
    "    \n",
    "    \n",
    "    def __init__(self, breed, name, spots ):\n",
    "        self.breed = breed\n",
    "        self.name = name\n",
    "        \n",
    "        #expecting a boolean True/False\n",
    "        self.spots = spots\n",
    "        \n",
    "    #OPERATIONS/ACTION -----> Methods\n",
    "    def bark(self, number):\n",
    "        print(\"WOOF! My name is {} and thr number is {}\".format(self.name, number))\n"
   ]
  },
  {
   "cell_type": "code",
   "execution_count": 57,
   "id": "699c7763-c252-496a-95d0-0f6d10af1047",
   "metadata": {},
   "outputs": [],
   "source": [
    "my_dog = Dog(\"LAB\", \"Frankie\", True)"
   ]
  },
  {
   "cell_type": "code",
   "execution_count": null,
   "id": "14dc06a4-0d15-4431-b585-690754a23676",
   "metadata": {},
   "outputs": [],
   "source": []
  },
  {
   "cell_type": "code",
   "execution_count": 58,
   "id": "90ce06e2-fc48-4dcc-a005-cfe7469e5b0a",
   "metadata": {},
   "outputs": [
    {
     "data": {
      "text/plain": [
       "__main__.Dog"
      ]
     },
     "execution_count": 58,
     "metadata": {},
     "output_type": "execute_result"
    }
   ],
   "source": [
    "type(my_dog)"
   ]
  },
  {
   "cell_type": "code",
   "execution_count": 59,
   "id": "967852ce-7253-4fdf-a475-98cec788ed93",
   "metadata": {},
   "outputs": [
    {
     "data": {
      "text/plain": [
       "'LAB'"
      ]
     },
     "execution_count": 59,
     "metadata": {},
     "output_type": "execute_result"
    }
   ],
   "source": [
    "my_dog.breed"
   ]
  },
  {
   "cell_type": "code",
   "execution_count": 60,
   "id": "092ff67e-f2be-4bc9-b855-b89b0fbd99ed",
   "metadata": {},
   "outputs": [
    {
     "data": {
      "text/plain": [
       "'Frankie'"
      ]
     },
     "execution_count": 60,
     "metadata": {},
     "output_type": "execute_result"
    }
   ],
   "source": [
    "my_dog.name"
   ]
  },
  {
   "cell_type": "code",
   "execution_count": 61,
   "id": "f38b27f0-e2c0-428b-a988-17b28adfc26a",
   "metadata": {},
   "outputs": [
    {
     "data": {
      "text/plain": [
       "True"
      ]
     },
     "execution_count": 61,
     "metadata": {},
     "output_type": "execute_result"
    }
   ],
   "source": [
    "my_dog.spots"
   ]
  },
  {
   "cell_type": "code",
   "execution_count": 62,
   "id": "afcd5954-3e89-41b0-892b-dd5b6e384fe3",
   "metadata": {},
   "outputs": [
    {
     "data": {
      "text/plain": [
       "'mammal'"
      ]
     },
     "execution_count": 62,
     "metadata": {},
     "output_type": "execute_result"
    }
   ],
   "source": [
    "my_dog.species"
   ]
  },
  {
   "cell_type": "code",
   "execution_count": 63,
   "id": "813948bf-fa8a-4f17-8e89-c5269656651c",
   "metadata": {},
   "outputs": [
    {
     "name": "stdout",
     "output_type": "stream",
     "text": [
      "WOOF! My name is Frankie and thr number is 28\n"
     ]
    }
   ],
   "source": [
    "my_dog.bark(28)"
   ]
  },
  {
   "cell_type": "code",
   "execution_count": null,
   "id": "ecd0814f-38a2-41ee-bc40-bb77c0ab4e3a",
   "metadata": {},
   "outputs": [],
   "source": []
  },
  {
   "cell_type": "code",
   "execution_count": 77,
   "id": "a65e2b7a-360c-4f71-a91f-63507837e1eb",
   "metadata": {},
   "outputs": [],
   "source": [
    "class Circle():\n",
    "    #CLASS OBJECT ATTRIBUTE\n",
    "    pi = 3.14\n",
    "    \n",
    "    def __init__(self, radius = 1):\n",
    "        \n",
    "        self.radius = radius\n",
    "        self.area = radius * radius * self.pi \n",
    "        \n",
    "    #METHOD\n",
    "    def get_circum(self):\n",
    "        return self.radius * 2* self.pi"
   ]
  },
  {
   "cell_type": "code",
   "execution_count": 78,
   "id": "d5e464cb-464a-49e0-908f-83bb93f7a9f2",
   "metadata": {},
   "outputs": [],
   "source": [
    "my_circle = Circle(30)"
   ]
  },
  {
   "cell_type": "code",
   "execution_count": 79,
   "id": "0e9a9487-83e7-434c-a464-6f3a4d1a4017",
   "metadata": {},
   "outputs": [
    {
     "data": {
      "text/plain": [
       "3.14"
      ]
     },
     "execution_count": 79,
     "metadata": {},
     "output_type": "execute_result"
    }
   ],
   "source": [
    "my_circle.pi"
   ]
  },
  {
   "cell_type": "code",
   "execution_count": 75,
   "id": "c1100343-e789-4b34-a036-d8bcfcb4e317",
   "metadata": {},
   "outputs": [
    {
     "data": {
      "text/plain": [
       "30"
      ]
     },
     "execution_count": 75,
     "metadata": {},
     "output_type": "execute_result"
    }
   ],
   "source": [
    "my_circle.radius"
   ]
  },
  {
   "cell_type": "code",
   "execution_count": 80,
   "id": "2e544289-0806-4fb3-862b-75f071faf174",
   "metadata": {},
   "outputs": [
    {
     "data": {
      "text/plain": [
       "2826.0"
      ]
     },
     "execution_count": 80,
     "metadata": {},
     "output_type": "execute_result"
    }
   ],
   "source": [
    "my_circle.area"
   ]
  },
  {
   "cell_type": "code",
   "execution_count": 76,
   "id": "2390687f-4da1-4076-b57f-fd444d931c75",
   "metadata": {},
   "outputs": [
    {
     "data": {
      "text/plain": [
       "188.4"
      ]
     },
     "execution_count": 76,
     "metadata": {},
     "output_type": "execute_result"
    }
   ],
   "source": [
    "my_circle.get_circum()"
   ]
  },
  {
   "cell_type": "markdown",
   "id": "2cc2136e-430d-4f6b-ae40-4f7e81a2d564",
   "metadata": {},
   "source": [
    "#3\n",
    "inheritance and polymorphism"
   ]
  },
  {
   "cell_type": "code",
   "execution_count": 82,
   "id": "8def6748-a50a-47d0-a9c6-504d9eadce9f",
   "metadata": {},
   "outputs": [],
   "source": [
    "class Animal():\n",
    "    def __init__(self):\n",
    "        print(\"ANIMAL CREATED\")\n",
    "    def who_am_i(self):\n",
    "        print(\"I am an animal\")\n",
    "        \n",
    "    def eat(self):\n",
    "        print(\"I am eating\")"
   ]
  },
  {
   "cell_type": "code",
   "execution_count": 95,
   "id": "b26e3d92-cef7-4c45-9f0e-1978b0ebdd6c",
   "metadata": {},
   "outputs": [],
   "source": [
    "class Dog(Animal):\n",
    "    def __init__(self):\n",
    "        Animal.__init__(self)\n",
    "        print(\"Dog Created\")\n",
    "        \n",
    "    def who_am_i(self):\n",
    "        print(\"I am a Dog\")\n",
    "    def eat(self):\n",
    "        print(\"Dog is eating\")\n",
    "    \n",
    "    def bark(self):\n",
    "        print(\"WOOF!\")"
   ]
  },
  {
   "cell_type": "code",
   "execution_count": 96,
   "id": "592034f6-76f1-4e16-bab4-58eafb7b1036",
   "metadata": {},
   "outputs": [
    {
     "name": "stdout",
     "output_type": "stream",
     "text": [
      "ANIMAL CREATED\n",
      "Dog Created\n"
     ]
    }
   ],
   "source": [
    "mydog = Dog()"
   ]
  },
  {
   "cell_type": "code",
   "execution_count": 97,
   "id": "8292cb2e-3e0a-4671-8a0c-ccd61cf9f2a9",
   "metadata": {},
   "outputs": [
    {
     "name": "stdout",
     "output_type": "stream",
     "text": [
      "Dog is eating\n"
     ]
    }
   ],
   "source": [
    "mydog.eat()"
   ]
  },
  {
   "cell_type": "code",
   "execution_count": 98,
   "id": "64a63aca-944d-49f9-be52-829d779ea10e",
   "metadata": {},
   "outputs": [
    {
     "name": "stdout",
     "output_type": "stream",
     "text": [
      "I am a Dog\n"
     ]
    }
   ],
   "source": [
    "mydog.who_am_i()"
   ]
  },
  {
   "cell_type": "code",
   "execution_count": 99,
   "id": "26bc0b7e-3ed7-40b5-80e8-b10cb897b28d",
   "metadata": {},
   "outputs": [
    {
     "name": "stdout",
     "output_type": "stream",
     "text": [
      "ANIMAL CREATED\n"
     ]
    }
   ],
   "source": [
    "myanimal = Animal()"
   ]
  },
  {
   "cell_type": "code",
   "execution_count": 84,
   "id": "456028f7-30d3-4fe5-83fe-baf01a688ce8",
   "metadata": {},
   "outputs": [
    {
     "name": "stdout",
     "output_type": "stream",
     "text": [
      "I am an animal\n"
     ]
    }
   ],
   "source": [
    "myanimal.who_am_i()"
   ]
  },
  {
   "cell_type": "code",
   "execution_count": 100,
   "id": "684f7fd9-77d8-4dfd-b4e8-ceea2d54c70f",
   "metadata": {},
   "outputs": [
    {
     "name": "stdout",
     "output_type": "stream",
     "text": [
      "I am eating\n"
     ]
    }
   ],
   "source": [
    "myanimal.eat()"
   ]
  },
  {
   "cell_type": "code",
   "execution_count": null,
   "id": "dd8c6c6f-015a-41ed-8320-ab6712125410",
   "metadata": {},
   "outputs": [],
   "source": []
  },
  {
   "cell_type": "markdown",
   "id": "2aebcdd6-76e4-444c-af58-150fb01867c4",
   "metadata": {},
   "source": [
    "##Polymorphism"
   ]
  },
  {
   "cell_type": "code",
   "execution_count": 107,
   "id": "a1da41a7-a3d6-4d49-8621-3ff7a09d330c",
   "metadata": {},
   "outputs": [],
   "source": [
    "class Dog():\n",
    "    \n",
    "    def __init__(self, name):\n",
    "        self.name = name\n",
    "    def speak(self):\n",
    "        return self.name + \" says WOOF!\""
   ]
  },
  {
   "cell_type": "code",
   "execution_count": 108,
   "id": "00abfb53-e8dd-4bbb-9585-4d025f0265ce",
   "metadata": {},
   "outputs": [],
   "source": [
    "class Cat():\n",
    "    \n",
    "    def __init__(self, name):\n",
    "        self.name = name\n",
    "    def speak(self):\n",
    "        return self.name + \" says MEOW!\""
   ]
  },
  {
   "cell_type": "code",
   "execution_count": 112,
   "id": "56ffa6dd-23ec-403b-a9e2-471c8794e9d8",
   "metadata": {},
   "outputs": [],
   "source": [
    "inu = Dog(\"Sammy\")\n",
    "neko = Cat(\"Orgasm\")"
   ]
  },
  {
   "cell_type": "code",
   "execution_count": 113,
   "id": "4258d130-b6ac-4692-a857-3636784aac78",
   "metadata": {},
   "outputs": [
    {
     "name": "stdout",
     "output_type": "stream",
     "text": [
      "Sammy says WOOF!\n"
     ]
    }
   ],
   "source": [
    "print(inu.speak())"
   ]
  },
  {
   "cell_type": "code",
   "execution_count": 114,
   "id": "dc17a401-c13d-494a-a5a4-6ca93e1bd5c7",
   "metadata": {},
   "outputs": [
    {
     "name": "stdout",
     "output_type": "stream",
     "text": [
      "Orgasm says MEOW!\n"
     ]
    }
   ],
   "source": [
    "print(neko.speak())"
   ]
  },
  {
   "cell_type": "code",
   "execution_count": 117,
   "id": "6207a382-ed4b-4e79-98eb-fc6062f330dc",
   "metadata": {},
   "outputs": [
    {
     "name": "stdout",
     "output_type": "stream",
     "text": [
      "<class '__main__.Dog'>\n",
      "Sammy says WOOF!\n",
      "<class '__main__.Cat'>\n",
      "Orgasm says MEOW!\n"
     ]
    }
   ],
   "source": [
    "for pet in [inu, neko]:\n",
    "    print(type(pet))\n",
    "    print(pet.speak())"
   ]
  },
  {
   "cell_type": "code",
   "execution_count": 118,
   "id": "32b432c5-2f49-47e1-b431-fab60539e0b3",
   "metadata": {},
   "outputs": [],
   "source": [
    "def pet_speak(pet):\n",
    "    print(pet.speak())"
   ]
  },
  {
   "cell_type": "code",
   "execution_count": 119,
   "id": "dfa006dc-7879-404c-86db-7cc82096f785",
   "metadata": {},
   "outputs": [
    {
     "name": "stdout",
     "output_type": "stream",
     "text": [
      "Orgasm says MEOW!\n"
     ]
    }
   ],
   "source": [
    "pet_speak(neko)"
   ]
  },
  {
   "cell_type": "code",
   "execution_count": 124,
   "id": "f10e2b0b-299b-4acb-8301-f1133eda59c5",
   "metadata": {},
   "outputs": [],
   "source": [
    "class Animal():\n",
    "    \n",
    "    def __init__(self, name):\n",
    "        self.name = name\n",
    "        \n",
    "    def speak(self):\n",
    "        raise NotImplementedError(\"Subclass must implement this abstract method\")"
   ]
  },
  {
   "cell_type": "code",
   "execution_count": 125,
   "id": "27f5a53d-4afa-4659-a4c1-08fac9bdfa9b",
   "metadata": {},
   "outputs": [],
   "source": [
    "class Dog(Animal):\n",
    "    \n",
    "    def speak(self):\n",
    "        return self.name + \" sys WOOF!\""
   ]
  },
  {
   "cell_type": "code",
   "execution_count": 126,
   "id": "566cc323-d97f-403c-b9b7-1e56fefd5160",
   "metadata": {},
   "outputs": [],
   "source": [
    "class Cat(Animal):\n",
    "    \n",
    "    def speak(self):\n",
    "        return self.name + \" sys MEOW!\""
   ]
  },
  {
   "cell_type": "code",
   "execution_count": 128,
   "id": "ab137aa2-5a02-410e-886a-55b8c96b1072",
   "metadata": {},
   "outputs": [],
   "source": [
    "fido = Dog(\"Fido\")"
   ]
  },
  {
   "cell_type": "code",
   "execution_count": 130,
   "id": "54948ba4-77a5-4604-b206-5d4509a38d1e",
   "metadata": {},
   "outputs": [],
   "source": [
    "isis = Cat(\"Isis\")"
   ]
  },
  {
   "cell_type": "code",
   "execution_count": 131,
   "id": "79269797-f66e-48b2-a4fc-de8af69c9c4e",
   "metadata": {},
   "outputs": [
    {
     "name": "stdout",
     "output_type": "stream",
     "text": [
      "Fido says WOOF!\n"
     ]
    }
   ],
   "source": [
    "print(fido.speak())"
   ]
  },
  {
   "cell_type": "code",
   "execution_count": 132,
   "id": "aa7fb90c-ce89-4fb8-b122-dc10a3fd80c9",
   "metadata": {},
   "outputs": [
    {
     "name": "stdout",
     "output_type": "stream",
     "text": [
      "Isis sys MEOW!\n"
     ]
    }
   ],
   "source": [
    "print(isis.speak())"
   ]
  },
  {
   "cell_type": "markdown",
   "id": "8ad6fb08-f81b-4008-bb93-3d3f5a80807a",
   "metadata": {},
   "source": [
    "## Special Method"
   ]
  },
  {
   "cell_type": "code",
   "execution_count": 133,
   "id": "76789e76-451c-4199-bfa4-b41d23516d06",
   "metadata": {},
   "outputs": [],
   "source": [
    "mylist = [1,2,3]"
   ]
  },
  {
   "cell_type": "code",
   "execution_count": 134,
   "id": "b050c114-5415-4768-b071-438adb599847",
   "metadata": {},
   "outputs": [
    {
     "data": {
      "text/plain": [
       "3"
      ]
     },
     "execution_count": 134,
     "metadata": {},
     "output_type": "execute_result"
    }
   ],
   "source": [
    "len(mylist)"
   ]
  },
  {
   "cell_type": "code",
   "execution_count": 135,
   "id": "fd77a0b8-8914-4901-81f9-ddb4b9a8bebd",
   "metadata": {},
   "outputs": [],
   "source": [
    "class Sample():\n",
    "    pass"
   ]
  },
  {
   "cell_type": "code",
   "execution_count": 136,
   "id": "5e931686-208e-4bd6-9024-2ac4ac4e73e6",
   "metadata": {},
   "outputs": [],
   "source": [
    "mysample  = Sample()"
   ]
  },
  {
   "cell_type": "code",
   "execution_count": null,
   "id": "5a0be82a-66b6-484e-821a-f09edf0c44ae",
   "metadata": {},
   "outputs": [],
   "source": []
  },
  {
   "cell_type": "code",
   "execution_count": null,
   "id": "58d1458d-0839-4645-b885-940009b8a75b",
   "metadata": {},
   "outputs": [],
   "source": []
  },
  {
   "cell_type": "code",
   "execution_count": 157,
   "id": "007b987c-dbaf-4ab4-9b80-f9046e968fb6",
   "metadata": {},
   "outputs": [],
   "source": [
    "class Book():\n",
    "    def __init__(self, title, author, pages):\n",
    "        self.title = title\n",
    "        self.author = author\n",
    "        self.pages = pages\n",
    "        \n",
    "    def __str__(self):\n",
    "        return f'{self.title} by {self.author}'\n",
    "    \n",
    "    def __len__(self):\n",
    "        return self.pages\n",
    "    \n",
    "    def __del__(self):\n",
    "        print(\"A book object has been deleted\")"
   ]
  },
  {
   "cell_type": "code",
   "execution_count": 166,
   "id": "11dabc15-d3a8-42b7-b858-59e33d1d979e",
   "metadata": {},
   "outputs": [],
   "source": [
    "b = Book('PYTHON', \"Jose\", 200)"
   ]
  },
  {
   "cell_type": "code",
   "execution_count": 167,
   "id": "5f69f403-f3a9-43a3-873e-c446825044fa",
   "metadata": {},
   "outputs": [],
   "source": [
    "#del b"
   ]
  },
  {
   "cell_type": "code",
   "execution_count": 168,
   "id": "77541f17-d80b-4e8f-9ea4-9a9f3d4805b5",
   "metadata": {},
   "outputs": [
    {
     "name": "stdout",
     "output_type": "stream",
     "text": [
      "PYTHON by Jose\n"
     ]
    }
   ],
   "source": [
    "print(b)"
   ]
  },
  {
   "cell_type": "code",
   "execution_count": 155,
   "id": "9e700210-2fd9-40d8-be65-e65484474895",
   "metadata": {},
   "outputs": [
    {
     "data": {
      "text/plain": [
       "'PYTHON by Jose'"
      ]
     },
     "execution_count": 155,
     "metadata": {},
     "output_type": "execute_result"
    }
   ],
   "source": [
    "str(b)"
   ]
  },
  {
   "cell_type": "code",
   "execution_count": 156,
   "id": "ced9d398-7a6c-415f-b984-935de303b889",
   "metadata": {},
   "outputs": [
    {
     "data": {
      "text/plain": [
       "200"
      ]
     },
     "execution_count": 156,
     "metadata": {},
     "output_type": "execute_result"
    }
   ],
   "source": [
    "len(b)"
   ]
  },
  {
   "cell_type": "code",
   "execution_count": null,
   "id": "59a9688c-a395-4972-a341-5fe429c9cb1e",
   "metadata": {},
   "outputs": [],
   "source": []
  },
  {
   "cell_type": "code",
   "execution_count": null,
   "id": "ea815b83-ed59-4fe0-887a-9f19fbb683b1",
   "metadata": {},
   "outputs": [],
   "source": []
  },
  {
   "cell_type": "code",
   "execution_count": null,
   "id": "94b4f2bb-375b-418e-a71f-c5bfa82927b8",
   "metadata": {},
   "outputs": [],
   "source": []
  }
 ],
 "metadata": {
  "kernelspec": {
   "display_name": "Python 3 (ipykernel)",
   "language": "python",
   "name": "python3"
  },
  "language_info": {
   "codemirror_mode": {
    "name": "ipython",
    "version": 3
   },
   "file_extension": ".py",
   "mimetype": "text/x-python",
   "name": "python",
   "nbconvert_exporter": "python",
   "pygments_lexer": "ipython3",
   "version": "3.10.4"
  }
 },
 "nbformat": 4,
 "nbformat_minor": 5
}
