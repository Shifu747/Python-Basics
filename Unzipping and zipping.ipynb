{
 "cells": [
  {
   "cell_type": "code",
   "execution_count": 6,
   "id": "f1db3c9a-3ce1-433b-b979-4b059c4c4d68",
   "metadata": {},
   "outputs": [
    {
     "data": {
      "text/plain": [
       "<function TextIOWrapper.close()>"
      ]
     },
     "execution_count": 6,
     "metadata": {},
     "output_type": "execute_result"
    }
   ],
   "source": [
    "f = open('fileone.txt', 'w+')\n",
    "f.write(\"One file\")\n",
    "f.close"
   ]
  },
  {
   "cell_type": "code",
   "execution_count": 7,
   "id": "64713eb8-011b-43dd-9cf6-0298d5f32a18",
   "metadata": {},
   "outputs": [
    {
     "data": {
      "text/plain": [
       "<function TextIOWrapper.close()>"
      ]
     },
     "execution_count": 7,
     "metadata": {},
     "output_type": "execute_result"
    }
   ],
   "source": [
    "f = open('filetwo.txt', 'w+')\n",
    "f.write(\"two file\")\n",
    "f.close"
   ]
  },
  {
   "cell_type": "code",
   "execution_count": 3,
   "id": "a9e1b78d-8d5c-4d46-964d-0e38dc94d695",
   "metadata": {},
   "outputs": [],
   "source": [
    "import zipfile"
   ]
  },
  {
   "cell_type": "code",
   "execution_count": 4,
   "id": "05ad0615-ec50-4c29-8934-b80d0ccff7a5",
   "metadata": {},
   "outputs": [],
   "source": [
    "comp_file = zipfile.ZipFile('comp_file.zip', 'w')"
   ]
  },
  {
   "cell_type": "code",
   "execution_count": 8,
   "id": "a648a46b-e5eb-484e-a0a7-1033a770e538",
   "metadata": {},
   "outputs": [],
   "source": [
    "comp_file.write('fileone.txt', compress_type=zipfile.ZIP_DEFLATED)"
   ]
  },
  {
   "cell_type": "code",
   "execution_count": 9,
   "id": "a01ed378-094b-45bf-8576-7afb214903cf",
   "metadata": {},
   "outputs": [],
   "source": [
    "comp_file.write('filetwo.txt', compress_type=zipfile.ZIP_DEFLATED)"
   ]
  },
  {
   "cell_type": "code",
   "execution_count": 10,
   "id": "e15e4691-2863-4cd5-a8d9-894f98afdaac",
   "metadata": {},
   "outputs": [],
   "source": [
    "comp_file.close()"
   ]
  },
  {
   "cell_type": "code",
   "execution_count": 11,
   "id": "17e6c399-a893-46da-b632-6ca4316a0725",
   "metadata": {},
   "outputs": [],
   "source": [
    "zip_obj = zipfile.ZipFile('comp_file.zip', 'r')"
   ]
  },
  {
   "cell_type": "code",
   "execution_count": 12,
   "id": "2fd3c628-f93e-448c-8549-0fabf25afde6",
   "metadata": {},
   "outputs": [],
   "source": [
    "zip_obj.extractall('extracted_content')"
   ]
  },
  {
   "cell_type": "code",
   "execution_count": 13,
   "id": "04a877c9-26cb-4af4-a6fb-2d853bac8833",
   "metadata": {},
   "outputs": [
    {
     "data": {
      "text/plain": [
       "'C:\\\\Users\\\\chgra\\\\Desktop\\\\python\\\\Python_JupyterLAB\\\\Udemy'"
      ]
     },
     "execution_count": 13,
     "metadata": {},
     "output_type": "execute_result"
    }
   ],
   "source": [
    "pwd"
   ]
  },
  {
   "cell_type": "code",
   "execution_count": 14,
   "id": "5da654a9-9258-41bf-a84f-bd6c6387b3a0",
   "metadata": {},
   "outputs": [],
   "source": [
    "import shutil"
   ]
  },
  {
   "cell_type": "code",
   "execution_count": 15,
   "id": "a69d8bb0-be24-4e58-86a5-9bd9ca674b12",
   "metadata": {},
   "outputs": [],
   "source": [
    "dir_to_zip = \"C:\\\\Users\\\\chgra\\\\Desktop\\\\python\\\\Python_JupyterLAB\\\\Udemy\\\\extracted_content\""
   ]
  },
  {
   "cell_type": "code",
   "execution_count": 16,
   "id": "edea4380-e55a-4f9e-bd4b-d135941c2d85",
   "metadata": {},
   "outputs": [],
   "source": [
    "output_filename = 'example'"
   ]
  },
  {
   "cell_type": "code",
   "execution_count": 17,
   "id": "ed270cf0-f6de-4fe0-afb9-2c15ca57f1a4",
   "metadata": {},
   "outputs": [
    {
     "data": {
      "text/plain": [
       "'C:\\\\Users\\\\chgra\\\\Desktop\\\\python\\\\Python_JupyterLAB\\\\Udemy\\\\example.zip'"
      ]
     },
     "execution_count": 17,
     "metadata": {},
     "output_type": "execute_result"
    }
   ],
   "source": [
    "shutil.make_archive(output_filename,'zip', dir_to_zip)"
   ]
  },
  {
   "cell_type": "code",
   "execution_count": 18,
   "id": "5a369c42-74c5-4ec2-b450-a35f577e60e9",
   "metadata": {},
   "outputs": [],
   "source": [
    "shutil.unpack_archive('example.zip','final_unzip', \"zip\")"
   ]
  },
  {
   "cell_type": "code",
   "execution_count": null,
   "id": "1743bcb2-db58-4cf5-9bb6-ac8f3126b6ff",
   "metadata": {},
   "outputs": [],
   "source": []
  }
 ],
 "metadata": {
  "kernelspec": {
   "display_name": "Python 3 (ipykernel)",
   "language": "python",
   "name": "python3"
  },
  "language_info": {
   "codemirror_mode": {
    "name": "ipython",
    "version": 3
   },
   "file_extension": ".py",
   "mimetype": "text/x-python",
   "name": "python",
   "nbconvert_exporter": "python",
   "pygments_lexer": "ipython3",
   "version": "3.10.4"
  }
 },
 "nbformat": 4,
 "nbformat_minor": 5
}
