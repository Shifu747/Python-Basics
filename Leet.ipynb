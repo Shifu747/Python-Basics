{
 "cells": [
  {
   "cell_type": "code",
   "execution_count": 25,
   "id": "39de8fa9",
   "metadata": {},
   "outputs": [],
   "source": [
    "def romanToInt(s):\n",
    "        \n",
    "    list_of_roman = ['I', 'V', 'X', 'L', 'C', 'D', 'M']\n",
    "    list_of_value = [1, 5, 10, 50, 100, 500, 1000]\n",
    "    lst = []\n",
    "\n",
    "    for w in s:\n",
    "        lst.append(w)\n",
    "    \n",
    "    print(len(lst))\n",
    "    \n",
    "    answer = 0\n",
    "    \n",
    "    for i in range(len(lst)):\n",
    "        if lst[-1] == list_of_roman[0]:\n",
    "            answer = answer + list_of_value[0]\n",
    "            \n",
    "        elif lst[-1] == list_of_roman[1]:\n",
    "            answer = answer + list_of_value[1]\n",
    "            \n",
    "    return answer\n",
    "        \n",
    "\n",
    "        "
   ]
  },
  {
   "cell_type": "code",
   "execution_count": 26,
   "id": "fc7edf8e",
   "metadata": {},
   "outputs": [
    {
     "name": "stdout",
     "output_type": "stream",
     "text": [
      "2\n"
     ]
    },
    {
     "data": {
      "text/plain": [
       "10"
      ]
     },
     "execution_count": 26,
     "metadata": {},
     "output_type": "execute_result"
    }
   ],
   "source": [
    "romanToInt('IV')"
   ]
  },
  {
   "cell_type": "code",
   "execution_count": null,
   "id": "eb98ad41",
   "metadata": {},
   "outputs": [],
   "source": []
  }
 ],
 "metadata": {
  "kernelspec": {
   "display_name": "Python 3 (ipykernel)",
   "language": "python",
   "name": "python3"
  },
  "language_info": {
   "codemirror_mode": {
    "name": "ipython",
    "version": 3
   },
   "file_extension": ".py",
   "mimetype": "text/x-python",
   "name": "python",
   "nbconvert_exporter": "python",
   "pygments_lexer": "ipython3",
   "version": "3.10.4"
  }
 },
 "nbformat": 4,
 "nbformat_minor": 5
}
