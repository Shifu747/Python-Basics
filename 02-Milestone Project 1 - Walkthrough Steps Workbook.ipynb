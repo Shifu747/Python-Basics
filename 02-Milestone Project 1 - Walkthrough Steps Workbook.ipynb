{
 "cells": [
  {
   "cell_type": "code",
   "execution_count": 17,
   "metadata": {
    "tags": []
   },
   "outputs": [],
   "source": [
    "from IPython.display import clear_output\n",
    "\n",
    "def display_board(board):\n",
    "    clear_output()\n",
    "    \n",
    "    print(\"               /        /        \")\n",
    "    print(\"       \" +board[1] + '      /    ' + board[2] + '   /     ' + board[3])\n",
    "    print(\"             /        /        \")\n",
    "    print(\"-----------------------------------\")\n",
    "    print(\"            /        /        \")\n",
    "    print('     '+board[4] + '     /    ' + board[5] + '   /    ' + board[6])\n",
    "    print(\"          /        /        \")\n",
    "    print(\"-----------------------------------\")\n",
    "    print(\"         /        /        \")\n",
    "    print(\"   \"+board[7] + '    /    ' + board[8] + '   /   ' + board[9])\n",
    "    print(\"       /        /        \")"
   ]
  },
  {
   "cell_type": "code",
   "execution_count": 18,
   "metadata": {
    "tags": []
   },
   "outputs": [],
   "source": [
    "def player_input():\n",
    "    '''\n",
    "    Output  =(player 1 marker, player 2 marker)\n",
    "    '''\n",
    "    marker = \"abc\"\n",
    "    while not (marker == 'X' or marker == 'O'):\n",
    "        marker = input('Player 1: Do you want to be X or O? ').upper()\n",
    "\n",
    "    if marker == 'X':\n",
    "        return ('X', 'O')\n",
    "    else:\n",
    "        return ('O', 'X')\n"
   ]
  },
  {
   "cell_type": "code",
   "execution_count": 19,
   "metadata": {
    "tags": []
   },
   "outputs": [],
   "source": [
    "def place_marker(board, marker, position):\n",
    "    \n",
    "    board[position] = marker"
   ]
  },
  {
   "cell_type": "code",
   "execution_count": 20,
   "metadata": {
    "tags": []
   },
   "outputs": [],
   "source": [
    "def win_check(board, mark):\n",
    "    \n",
    "    return ( (board[1] == mark and board[2] == mark and board[3] == mark)\n",
    "           or(board[1] == mark and board[4] == mark and board[7] == mark)\n",
    "           or(board[1] == mark and board[5] == mark and board[9] == mark)\n",
    "           or(board[7] == mark and board[8] == mark and board[9] == mark)\n",
    "           or(board[7] == mark and board[5] == mark and board[3] == mark)\n",
    "           or(board[3] == mark and board[6] == mark and board[9] == mark)\n",
    "           or(board[2] == mark and board[5] == mark and board[8] == mark)\n",
    "           or(board[4] == mark and board[5] == mark and board[6] == mark))"
   ]
  },
  {
   "cell_type": "code",
   "execution_count": 21,
   "metadata": {
    "tags": []
   },
   "outputs": [],
   "source": [
    "import random\n",
    "\n",
    "def choose_first():\n",
    "    if random.randint(0,1)==0:\n",
    "        return \"player1\"\n",
    "    else:\n",
    "        return \"player2\"\n",
    "\n",
    "\n"
   ]
  },
  {
   "cell_type": "code",
   "execution_count": 22,
   "metadata": {
    "tags": []
   },
   "outputs": [],
   "source": [
    "def space_check(board, position):\n",
    "    \n",
    "    return board[position] == ' '"
   ]
  },
  {
   "cell_type": "code",
   "execution_count": 23,
   "metadata": {},
   "outputs": [],
   "source": [
    "def full_board_check(board):\n",
    "    for i in range(1,10):\n",
    "        if space_check(board, i):\n",
    "            return False\n",
    "    return True\n",
    "    \n",
    "    \n",
    "#return len(board) == 10"
   ]
  },
  {
   "cell_type": "code",
   "execution_count": 24,
   "metadata": {
    "tags": []
   },
   "outputs": [],
   "source": [
    "def player_choice(board):\n",
    "    \n",
    "    position = 0\n",
    "    \n",
    "    while position not in [1,2,3,4,5,6,7,8,9] and not space_check(board, position):\n",
    "        position = int(input(\"Enter your next position(1 to 9): \"))\n",
    "        \n",
    "    return position "
   ]
  },
  {
   "cell_type": "code",
   "execution_count": 25,
   "metadata": {
    "tags": []
   },
   "outputs": [],
   "source": [
    "def replay():\n",
    "        return input(\"Do you want to play again?(yes or no): \").lower().startswith(\"y\")\n",
    "        \n",
    "  "
   ]
  },
  {
   "cell_type": "code",
   "execution_count": 26,
   "metadata": {
    "tags": []
   },
   "outputs": [
    {
     "name": "stdout",
     "output_type": "stream",
     "text": [
      "               /        /        \n",
      "       X      /    O   /     O\n",
      "             /        /        \n",
      "-----------------------------------\n",
      "            /        /        \n",
      "     X     /    X   /    O\n",
      "          /        /        \n",
      "-----------------------------------\n",
      "         /        /        \n",
      "   X    /        /    \n",
      "       /        /        \n",
      "CONGRATULATIONS!!! PLAYER1 won..*atoshbaji intensifies*\n"
     ]
    },
    {
     "name": "stdin",
     "output_type": "stream",
     "text": [
      "Do you want to play again?(yes or no):  n\n"
     ]
    }
   ],
   "source": [
    "\n",
    "print('Welcome to Tic Tac Toe!')\n",
    "\n",
    "\n",
    "while True:\n",
    "    theBoard = [' '] *10\n",
    "    player1_marker, player2_marker = player_input()\n",
    "    turn = choose_first()\n",
    "    print(turn + \": will go first.\")\n",
    "    \n",
    "    play_game = input(\"Are you ready to play(yes or no): \")\n",
    "    \n",
    "    if play_game.lower()[0] == \"y\":\n",
    "        game_on = True\n",
    "    else:\n",
    "        game_on = False\n",
    "\n",
    "    \n",
    "    while game_on:\n",
    "        if turn == \"player1\":\n",
    "            \n",
    "            display_board(theBoard)\n",
    "            position = player_choice(theBoard)\n",
    "            place_marker(theBoard, player1_marker, position)\n",
    "            \n",
    "            if win_check(theBoard, player1_marker):\n",
    "                display_board(theBoard)\n",
    "                print(\"CONGRATULATIONS!!! PLAYER1 won..*atoshbaji intensifies*\")\n",
    "                game_on = False\n",
    "            else:\n",
    "                if full_board_check(theBoard):\n",
    "                    display_board(theBoard)\n",
    "                    print(\"Sorry, Dead-End!!\")\n",
    "                    break\n",
    "                else:\n",
    "                    turn = \"player2\"\n",
    "                    \n",
    "        if turn == \"player2\":\n",
    "            \n",
    "            \n",
    "            display_board(theBoard)\n",
    "            position = player_choice(theBoard)\n",
    "            place_marker(theBoard, player2_marker, position)\n",
    "            \n",
    "            if win_check(theBoard, player2_marker):\n",
    "                display_board(theBoard)\n",
    "                print(\"CONGRATULATIONS!!! PLAYER2 won..*atoshbaji intensifies*\")\n",
    "                game_on = False\n",
    "            else:\n",
    "                if full_board_check(theBoard):\n",
    "                    display_board(theBoard)\n",
    "                    print(\"Sorry, Dead-end\")\n",
    "                    break\n",
    "                else:\n",
    "                    turn = \"player1\"\n",
    "\n",
    "    if not replay():\n",
    "        break\n"
   ]
  },
  {
   "cell_type": "code",
   "execution_count": null,
   "metadata": {},
   "outputs": [],
   "source": []
  },
  {
   "cell_type": "code",
   "execution_count": null,
   "metadata": {},
   "outputs": [],
   "source": []
  },
  {
   "cell_type": "code",
   "execution_count": null,
   "metadata": {},
   "outputs": [],
   "source": []
  },
  {
   "cell_type": "code",
   "execution_count": null,
   "metadata": {},
   "outputs": [],
   "source": []
  },
  {
   "cell_type": "code",
   "execution_count": null,
   "metadata": {},
   "outputs": [],
   "source": []
  },
  {
   "cell_type": "code",
   "execution_count": null,
   "metadata": {},
   "outputs": [],
   "source": []
  },
  {
   "cell_type": "code",
   "execution_count": 27,
   "metadata": {},
   "outputs": [
    {
     "ename": "SyntaxError",
     "evalue": "invalid syntax (809994655.py, line 1)",
     "output_type": "error",
     "traceback": [
      "\u001b[1;36m  Input \u001b[1;32mIn [27]\u001b[1;36m\u001b[0m\n\u001b[1;33m    else:\u001b[0m\n\u001b[1;37m    ^\u001b[0m\n\u001b[1;31mSyntaxError\u001b[0m\u001b[1;31m:\u001b[0m invalid syntax\n"
     ]
    }
   ],
   "source": [
    "\n",
    "\n",
    "\n",
    "    \n",
    "    \n",
    "\n",
    "    \n",
    "        else:\n",
    "            # Player2's turn.\n",
    "            \n",
    "            display_board(theBoard)\n",
    "            position = player_choice(theBoard)\n",
    "            place_marker(theBoard, player2_marker, position)\n",
    "\n",
    "            if win_check(theBoard, player2_marker):\n",
    "                display_board(theBoard)\n",
    "                print('Player 2 has won!')\n",
    "                game_on = False\n",
    "            else:\n",
    "                if full_board_check(theBoard):\n",
    "                    display_board(theBoard)\n",
    "                    print('The game is a draw!')\n",
    "                    break\n",
    "                else:\n",
    "                    turn = 'Player 1'\n",
    "\n",
    "    if not replay():\n",
    "        break"
   ]
  },
  {
   "cell_type": "code",
   "execution_count": null,
   "metadata": {},
   "outputs": [],
   "source": []
  },
  {
   "cell_type": "code",
   "execution_count": null,
   "metadata": {},
   "outputs": [],
   "source": []
  },
  {
   "cell_type": "code",
   "execution_count": null,
   "metadata": {},
   "outputs": [],
   "source": []
  },
  {
   "cell_type": "code",
   "execution_count": null,
   "metadata": {},
   "outputs": [],
   "source": []
  },
  {
   "cell_type": "code",
   "execution_count": null,
   "metadata": {},
   "outputs": [],
   "source": []
  },
  {
   "cell_type": "code",
   "execution_count": null,
   "metadata": {},
   "outputs": [],
   "source": []
  }
 ],
 "metadata": {
  "kernelspec": {
   "display_name": "Python 3 (ipykernel)",
   "language": "python",
   "name": "python3"
  },
  "language_info": {
   "codemirror_mode": {
    "name": "ipython",
    "version": 3
   },
   "file_extension": ".py",
   "mimetype": "text/x-python",
   "name": "python",
   "nbconvert_exporter": "python",
   "pygments_lexer": "ipython3",
   "version": "3.10.4"
  }
 },
 "nbformat": 4,
 "nbformat_minor": 4
}
