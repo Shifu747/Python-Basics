{
 "cells": [
  {
   "cell_type": "code",
   "execution_count": 1,
   "id": "951386ab-7748-4a9a-b47e-65ba381ebca6",
   "metadata": {},
   "outputs": [],
   "source": [
    "text = 'Agent phone number is 408-555-1234. Call ASAP'"
   ]
  },
  {
   "cell_type": "code",
   "execution_count": 2,
   "id": "af9089a2-d222-4c32-8148-037c98b9f0d5",
   "metadata": {},
   "outputs": [
    {
     "data": {
      "text/plain": [
       "True"
      ]
     },
     "execution_count": 2,
     "metadata": {},
     "output_type": "execute_result"
    }
   ],
   "source": [
    "'phone' in text"
   ]
  },
  {
   "cell_type": "code",
   "execution_count": 3,
   "id": "620e7b07-103c-4f83-ae66-e5585ca18354",
   "metadata": {},
   "outputs": [],
   "source": [
    "import re"
   ]
  },
  {
   "cell_type": "code",
   "execution_count": 10,
   "id": "6f85c65b-0e47-4e5f-92b2-bb32e1585cb7",
   "metadata": {},
   "outputs": [],
   "source": [
    "pattern = 'phone'"
   ]
  },
  {
   "cell_type": "code",
   "execution_count": 11,
   "id": "141e1668-0ecc-4e59-8b14-d38a550ebdeb",
   "metadata": {},
   "outputs": [
    {
     "data": {
      "text/plain": [
       "<re.Match object; span=(6, 11), match='phone'>"
      ]
     },
     "execution_count": 11,
     "metadata": {},
     "output_type": "execute_result"
    }
   ],
   "source": [
    "re.search(pattern, text)"
   ]
  },
  {
   "cell_type": "code",
   "execution_count": 6,
   "id": "3a1b2cbb-f61b-43f1-a57c-14994ab8139d",
   "metadata": {},
   "outputs": [],
   "source": [
    "pattern = \"NOT IN TEXT\""
   ]
  },
  {
   "cell_type": "code",
   "execution_count": 7,
   "id": "b7341096-65b4-44a0-9deb-a2496f44a2ad",
   "metadata": {},
   "outputs": [],
   "source": [
    "re.search(pattern,text)"
   ]
  },
  {
   "cell_type": "code",
   "execution_count": 12,
   "id": "7ebdf1b9-1b1a-499b-8682-233eb707722a",
   "metadata": {},
   "outputs": [],
   "source": [
    "pattern = 'phone'"
   ]
  },
  {
   "cell_type": "code",
   "execution_count": 13,
   "id": "d2d7992a-941e-4eb9-9476-ea2735bc6147",
   "metadata": {},
   "outputs": [],
   "source": [
    "match = re.search(pattern, text)"
   ]
  },
  {
   "cell_type": "code",
   "execution_count": 14,
   "id": "999b438e-128e-43b8-8edb-005eb84bcb2e",
   "metadata": {},
   "outputs": [
    {
     "data": {
      "text/plain": [
       "(6, 11)"
      ]
     },
     "execution_count": 14,
     "metadata": {},
     "output_type": "execute_result"
    }
   ],
   "source": [
    "match.span()"
   ]
  },
  {
   "cell_type": "code",
   "execution_count": 15,
   "id": "f9a202b7-518b-446e-8a75-3e9304f0bf9c",
   "metadata": {},
   "outputs": [
    {
     "data": {
      "text/plain": [
       "6"
      ]
     },
     "execution_count": 15,
     "metadata": {},
     "output_type": "execute_result"
    }
   ],
   "source": [
    "match.start()"
   ]
  },
  {
   "cell_type": "code",
   "execution_count": 16,
   "id": "2db07f70-bb23-4fd7-96b7-0ec9e4169298",
   "metadata": {},
   "outputs": [],
   "source": [
    "text = \"my phone once, my phone twice\""
   ]
  },
  {
   "cell_type": "code",
   "execution_count": 18,
   "id": "2cf1240e-d13d-496c-a7da-e6fbdd77dff1",
   "metadata": {},
   "outputs": [],
   "source": [
    "match = re.search('phone', text)"
   ]
  },
  {
   "cell_type": "code",
   "execution_count": 19,
   "id": "1bc6e0cc-90b0-4a8b-a339-f809d0faebb5",
   "metadata": {},
   "outputs": [
    {
     "data": {
      "text/plain": [
       "<re.Match object; span=(3, 8), match='phone'>"
      ]
     },
     "execution_count": 19,
     "metadata": {},
     "output_type": "execute_result"
    }
   ],
   "source": [
    "match"
   ]
  },
  {
   "cell_type": "code",
   "execution_count": 20,
   "id": "1fc467ff-c972-4018-b744-a7cb4b494ddd",
   "metadata": {},
   "outputs": [],
   "source": [
    "matches = re.findall('phone', text)"
   ]
  },
  {
   "cell_type": "code",
   "execution_count": 21,
   "id": "d78e00ec-3a98-418d-a048-265defca9a9f",
   "metadata": {},
   "outputs": [
    {
     "data": {
      "text/plain": [
       "['phone', 'phone']"
      ]
     },
     "execution_count": 21,
     "metadata": {},
     "output_type": "execute_result"
    }
   ],
   "source": [
    "matches"
   ]
  },
  {
   "cell_type": "code",
   "execution_count": 22,
   "id": "1f5f9d55-448c-4ec5-bf94-94c50e90ce3a",
   "metadata": {},
   "outputs": [
    {
     "data": {
      "text/plain": [
       "2"
      ]
     },
     "execution_count": 22,
     "metadata": {},
     "output_type": "execute_result"
    }
   ],
   "source": [
    "len(matches)"
   ]
  },
  {
   "cell_type": "code",
   "execution_count": 25,
   "id": "5b7b7c6f-bedb-4063-8bd7-7a96fae88828",
   "metadata": {},
   "outputs": [
    {
     "name": "stdout",
     "output_type": "stream",
     "text": [
      "phone\n",
      "<re.Match object; span=(3, 8), match='phone'>\n",
      "phone\n",
      "<re.Match object; span=(18, 23), match='phone'>\n"
     ]
    }
   ],
   "source": [
    "for match in re.finditer('phone', text):\n",
    "    print(match.group())\n",
    "    print(match)"
   ]
  },
  {
   "cell_type": "markdown",
   "id": "081f9899-c816-41a1-8877-54ea263a9dd3",
   "metadata": {},
   "source": [
    "# Regular Expression part two"
   ]
  },
  {
   "cell_type": "raw",
   "id": "41b1f013-f476-4634-8b84-815c849efac0",
   "metadata": {},
   "source": [
    "Character      Description       Example Pattern Code        Example Match\n",
    "\n",
    "    \\d          A digit              file_\\d\\d                  file_25\n",
    "    \\w         Alphanumeric          \\w-\\w\\w\\w                   A-b_1 \n",
    "    \\s         White space            a\\sb\\sc                    a b c\n",
    "    \\D        A non digit             \\D\\D\\D                      ABC\n",
    "    \\W      Non-Alphanumeric        \\W\\W\\W\\W\\W                   *-+=)\n",
    "    \\S       Non-Whitesapce          \\S\\S\\S\\S                     Yoyo"
   ]
  },
  {
   "cell_type": "code",
   "execution_count": 26,
   "id": "3b179875-cc77-4d70-8d6d-c55c8fc205fe",
   "metadata": {},
   "outputs": [],
   "source": [
    "text = 'My phone number is 408-555-1234'"
   ]
  },
  {
   "cell_type": "code",
   "execution_count": 27,
   "id": "7283c754-b2b1-4706-950d-64c6bbb50e94",
   "metadata": {},
   "outputs": [],
   "source": [
    "phone = re.search('408-555-1234', text)"
   ]
  },
  {
   "cell_type": "code",
   "execution_count": 28,
   "id": "8a3fe05d-f94f-4443-bdef-0442d9e80e47",
   "metadata": {},
   "outputs": [
    {
     "data": {
      "text/plain": [
       "<re.Match object; span=(19, 31), match='408-555-1234'>"
      ]
     },
     "execution_count": 28,
     "metadata": {},
     "output_type": "execute_result"
    }
   ],
   "source": [
    "phone"
   ]
  },
  {
   "cell_type": "code",
   "execution_count": 29,
   "id": "6aa12611-f27f-487a-8e92-ff23a712c62d",
   "metadata": {},
   "outputs": [],
   "source": [
    "phone = re.search(r'\\d\\d\\d-\\d\\d\\d-\\d\\d\\d\\d', text)"
   ]
  },
  {
   "cell_type": "code",
   "execution_count": 30,
   "id": "4f5e1d5c-a455-4658-a0a6-44094d281477",
   "metadata": {},
   "outputs": [
    {
     "data": {
      "text/plain": [
       "<re.Match object; span=(19, 31), match='408-555-1234'>"
      ]
     },
     "execution_count": 30,
     "metadata": {},
     "output_type": "execute_result"
    }
   ],
   "source": [
    "phone"
   ]
  },
  {
   "cell_type": "code",
   "execution_count": 33,
   "id": "6419cf6b-eb55-4680-846d-eecc748de892",
   "metadata": {},
   "outputs": [],
   "source": [
    "phone1 = re.search(r'\\d{3}-\\d{3}-\\d{4}', text)"
   ]
  },
  {
   "cell_type": "code",
   "execution_count": 35,
   "id": "cf66e8ef-12f1-4c2b-9118-d3f93ab9903e",
   "metadata": {},
   "outputs": [
    {
     "data": {
      "text/plain": [
       "<re.Match object; span=(19, 31), match='408-555-1234'>"
      ]
     },
     "execution_count": 35,
     "metadata": {},
     "output_type": "execute_result"
    }
   ],
   "source": [
    "phone1"
   ]
  },
  {
   "cell_type": "markdown",
   "id": "c196462a-5eaf-49ba-bb6b-490879c82df6",
   "metadata": {},
   "source": [
    "## Quantifiers"
   ]
  },
  {
   "cell_type": "raw",
   "id": "931bbae0-426a-4751-88ee-83977cf49a25",
   "metadata": {},
   "source": [
    "  Character      Description            Example Pattern Code        Example Match\n",
    "\n",
    "      +       Occurs one or more time      Version \\w-\\w+          Version A-b1_1\n",
    "     {3}      Occurs exactly 3 times          \\D{3}                   abc\n",
    "    {2,4}       Occurs 2 to 4 times           \\d{2,4}                 123\n",
    "     {3,}       Occurs 3 or more              \\w{3,}                anychracters\n",
    "      *      Occurs zero or more times         ABC*                  AAACC\n",
    "      ?           Once or none                plurals?               plural"
   ]
  },
  {
   "cell_type": "code",
   "execution_count": 36,
   "id": "538925d1-3cfe-438c-a456-05257817a216",
   "metadata": {},
   "outputs": [],
   "source": [
    "text = 'this is version 1_2_2'"
   ]
  },
  {
   "cell_type": "code",
   "execution_count": 37,
   "id": "1dd6031f-7008-490c-98d5-5aa880a359cd",
   "metadata": {},
   "outputs": [],
   "source": [
    "match = re.search('version \\w+', text)"
   ]
  },
  {
   "cell_type": "code",
   "execution_count": 38,
   "id": "8203b843-46fc-482e-9716-a07611dfe051",
   "metadata": {},
   "outputs": [
    {
     "data": {
      "text/plain": [
       "<re.Match object; span=(8, 21), match='version 1_2_2'>"
      ]
     },
     "execution_count": 38,
     "metadata": {},
     "output_type": "execute_result"
    }
   ],
   "source": [
    "match"
   ]
  },
  {
   "cell_type": "code",
   "execution_count": 41,
   "id": "6ba70d94-0aa9-431c-8866-093277005a6f",
   "metadata": {},
   "outputs": [],
   "source": [
    "text = 'My phone number is 408-555-1234'"
   ]
  },
  {
   "cell_type": "code",
   "execution_count": 42,
   "id": "b83cd64e-3407-496b-b7b0-0f9f2cceef49",
   "metadata": {},
   "outputs": [],
   "source": [
    "phone = re.search(r'\\d{3}-\\d{3}-\\d{4}', text)"
   ]
  },
  {
   "cell_type": "code",
   "execution_count": 43,
   "id": "1b7bb0c1-1dc4-4c2d-933b-d682ef04baae",
   "metadata": {},
   "outputs": [
    {
     "data": {
      "text/plain": [
       "<re.Match object; span=(19, 31), match='408-555-1234'>"
      ]
     },
     "execution_count": 43,
     "metadata": {},
     "output_type": "execute_result"
    }
   ],
   "source": [
    "phone"
   ]
  },
  {
   "cell_type": "code",
   "execution_count": 44,
   "id": "22b3ab2e-006a-4b6f-ac37-5eac764ee213",
   "metadata": {},
   "outputs": [],
   "source": [
    "phone_pattern = re.compile(r'(\\d{3})-(\\d{3})-(\\d{4})')"
   ]
  },
  {
   "cell_type": "code",
   "execution_count": 45,
   "id": "cb985c9a-3763-45f8-86c6-1c519138974e",
   "metadata": {},
   "outputs": [],
   "source": [
    "results = re.search(phone_pattern, text)"
   ]
  },
  {
   "cell_type": "code",
   "execution_count": 46,
   "id": "64f99e91-9674-4484-887f-d2173562c9ad",
   "metadata": {},
   "outputs": [
    {
     "data": {
      "text/plain": [
       "'408-555-1234'"
      ]
     },
     "execution_count": 46,
     "metadata": {},
     "output_type": "execute_result"
    }
   ],
   "source": [
    "results.group()"
   ]
  },
  {
   "cell_type": "code",
   "execution_count": 47,
   "id": "c6103743-11f2-4960-8f6a-4ccb7f6d3726",
   "metadata": {},
   "outputs": [
    {
     "data": {
      "text/plain": [
       "'408'"
      ]
     },
     "execution_count": 47,
     "metadata": {},
     "output_type": "execute_result"
    }
   ],
   "source": [
    "results.group(1)"
   ]
  },
  {
   "cell_type": "markdown",
   "id": "3c9b04b2-401d-47a5-a84c-3530891f0327",
   "metadata": {},
   "source": [
    "## Regular Expression Part Three"
   ]
  },
  {
   "cell_type": "code",
   "execution_count": 49,
   "id": "8c91a2c6-a497-40a6-9519-65c8798017ff",
   "metadata": {},
   "outputs": [
    {
     "data": {
      "text/plain": [
       "<re.Match object; span=(4, 7), match='cat'>"
      ]
     },
     "execution_count": 49,
     "metadata": {},
     "output_type": "execute_result"
    }
   ],
   "source": [
    "re.search(r'cat|dog', 'The cat is here')"
   ]
  },
  {
   "cell_type": "code",
   "execution_count": 52,
   "id": "03f21b43-0781-4cd4-b879-902ccb9f05e8",
   "metadata": {},
   "outputs": [
    {
     "data": {
      "text/plain": [
       "['e cat', 'e hat', 'splat']"
      ]
     },
     "execution_count": 52,
     "metadata": {},
     "output_type": "execute_result"
    }
   ],
   "source": [
    "re.findall(r'...at', 'The cat in the hat went splat')"
   ]
  },
  {
   "cell_type": "code",
   "execution_count": 53,
   "id": "7b5cd2fa-b443-4900-8a9e-2d03ca1b78d9",
   "metadata": {},
   "outputs": [
    {
     "data": {
      "text/plain": [
       "['at in', 'at we']"
      ]
     },
     "execution_count": 53,
     "metadata": {},
     "output_type": "execute_result"
    }
   ],
   "source": [
    "re.findall(r'at...','The cat in the hat went splat')"
   ]
  },
  {
   "cell_type": "code",
   "execution_count": 55,
   "id": "e7c59ca2-9855-49ea-9852-6583f142cf8a",
   "metadata": {},
   "outputs": [
    {
     "data": {
      "text/plain": [
       "['1']"
      ]
     },
     "execution_count": 55,
     "metadata": {},
     "output_type": "execute_result"
    }
   ],
   "source": [
    "re.findall(r'^\\d', '1 in a number ')"
   ]
  },
  {
   "cell_type": "code",
   "execution_count": 56,
   "id": "2299bc5b-17ea-4924-a360-0f1b6f95a3b0",
   "metadata": {},
   "outputs": [
    {
     "data": {
      "text/plain": [
       "['2']"
      ]
     },
     "execution_count": 56,
     "metadata": {},
     "output_type": "execute_result"
    }
   ],
   "source": [
    "re.findall(r'\\d$', 'the number is 2')"
   ]
  },
  {
   "cell_type": "code",
   "execution_count": null,
   "id": "205be17b-f585-4439-9da1-08ab59a143d1",
   "metadata": {},
   "outputs": [],
   "source": []
  },
  {
   "cell_type": "code",
   "execution_count": null,
   "id": "ff1786ae-097d-4f35-a739-8071e13d7509",
   "metadata": {},
   "outputs": [],
   "source": []
  },
  {
   "cell_type": "code",
   "execution_count": null,
   "id": "7abe6197-e7b1-4d1c-a996-e33693eff67b",
   "metadata": {},
   "outputs": [],
   "source": []
  },
  {
   "cell_type": "code",
   "execution_count": 57,
   "id": "ebb74782-ea37-4b75-b6ff-d6d050d065c3",
   "metadata": {},
   "outputs": [],
   "source": [
    "phrase = 'there are 3 numbers 34 inside 5 this sentence'"
   ]
  },
  {
   "cell_type": "code",
   "execution_count": 60,
   "id": "fbf7a902-f97b-4349-b37f-f369cd7767f0",
   "metadata": {},
   "outputs": [],
   "source": [
    "pattern = r'[^\\d]+'"
   ]
  },
  {
   "cell_type": "code",
   "execution_count": 61,
   "id": "11691969-42ec-4abe-9320-45af0bd540a9",
   "metadata": {},
   "outputs": [
    {
     "data": {
      "text/plain": [
       "['there are ', ' numbers ', ' inside ', ' this sentence']"
      ]
     },
     "execution_count": 61,
     "metadata": {},
     "output_type": "execute_result"
    }
   ],
   "source": [
    "re.findall(pattern, phrase)"
   ]
  },
  {
   "cell_type": "code",
   "execution_count": 62,
   "id": "d12f5086-4961-4c51-9f03-5c9dbe23c34d",
   "metadata": {},
   "outputs": [],
   "source": [
    "test_phrase = 'This is a string! but remove punctuation.??'"
   ]
  },
  {
   "cell_type": "code",
   "execution_count": 66,
   "id": "191fc34b-35ea-4aee-ace6-24f489cc576a",
   "metadata": {},
   "outputs": [],
   "source": [
    "clean = re.findall(r'[^!.? ]+', test_phrase)"
   ]
  },
  {
   "cell_type": "code",
   "execution_count": 67,
   "id": "ed992c55-e2f8-4001-8f32-dea0e4741ddc",
   "metadata": {},
   "outputs": [
    {
     "data": {
      "text/plain": [
       "['This', 'is', 'a', 'string', 'but', 'remove', 'punctuation']"
      ]
     },
     "execution_count": 67,
     "metadata": {},
     "output_type": "execute_result"
    }
   ],
   "source": [
    "clean"
   ]
  },
  {
   "cell_type": "code",
   "execution_count": 68,
   "id": "22e1c45c-a709-40ee-ac7b-44a5d4fc667d",
   "metadata": {},
   "outputs": [
    {
     "data": {
      "text/plain": [
       "'This is a string but remove punctuation'"
      ]
     },
     "execution_count": 68,
     "metadata": {},
     "output_type": "execute_result"
    }
   ],
   "source": [
    "\" \".join(clean)"
   ]
  },
  {
   "cell_type": "code",
   "execution_count": null,
   "id": "f094ed1c-f6dc-4c0b-862b-92b26facd500",
   "metadata": {},
   "outputs": [],
   "source": []
  },
  {
   "cell_type": "code",
   "execution_count": null,
   "id": "70b8df8d-40d3-41d1-a0d2-be278f8fe3a6",
   "metadata": {},
   "outputs": [],
   "source": []
  },
  {
   "cell_type": "code",
   "execution_count": null,
   "id": "d7316f0d-303d-49b2-9cec-7bbbc2c029a9",
   "metadata": {},
   "outputs": [],
   "source": []
  },
  {
   "cell_type": "code",
   "execution_count": null,
   "id": "d24c6ebf-890c-4705-b799-e6dd53ad09e2",
   "metadata": {},
   "outputs": [],
   "source": []
  },
  {
   "cell_type": "code",
   "execution_count": null,
   "id": "6ad97e10-fc41-4609-b6ab-7fbc5597db62",
   "metadata": {},
   "outputs": [],
   "source": []
  },
  {
   "cell_type": "code",
   "execution_count": 69,
   "id": "7ef197ec-2efe-4948-8e5d-5ef76464617d",
   "metadata": {},
   "outputs": [],
   "source": [
    "text = 'Only find the hypen-words in this sentence. but you do not know how long-ish they are'"
   ]
  },
  {
   "cell_type": "code",
   "execution_count": 72,
   "id": "33843135-9a33-49e4-a421-3f7ab4fa74d2",
   "metadata": {},
   "outputs": [],
   "source": [
    "pattern = r'[\\w]+-[\\w]+'\n"
   ]
  },
  {
   "cell_type": "code",
   "execution_count": 73,
   "id": "b3c96423-7f15-4b2e-86db-d30e18251b96",
   "metadata": {},
   "outputs": [
    {
     "data": {
      "text/plain": [
       "['hypen-words', 'long-ish']"
      ]
     },
     "execution_count": 73,
     "metadata": {},
     "output_type": "execute_result"
    }
   ],
   "source": [
    "re.findall(pattern, text)"
   ]
  },
  {
   "cell_type": "code",
   "execution_count": 74,
   "id": "795f6542-4ed4-416b-8075-4c80fe8e7914",
   "metadata": {},
   "outputs": [],
   "source": [
    "text = \"Hello, Would you like some catfish?\"\n",
    "texttwo = \"Hello, Would you like some catnip?\"\n",
    "textthree = \"Hello, Would you like some caterpilar?\""
   ]
  },
  {
   "cell_type": "code",
   "execution_count": 76,
   "id": "cc2b7e67-56e4-47fa-9fd8-41f5eb5f5859",
   "metadata": {},
   "outputs": [
    {
     "data": {
      "text/plain": [
       "<re.Match object; span=(27, 33), match='catnip'>"
      ]
     },
     "execution_count": 76,
     "metadata": {},
     "output_type": "execute_result"
    }
   ],
   "source": [
    "re.search(r\"cat(fish|nip|pilar)\", texttwo)"
   ]
  },
  {
   "cell_type": "code",
   "execution_count": null,
   "id": "8bcfb7dc-1541-4756-b5e2-41256b432a50",
   "metadata": {},
   "outputs": [],
   "source": []
  }
 ],
 "metadata": {
  "kernelspec": {
   "display_name": "Python 3 (ipykernel)",
   "language": "python",
   "name": "python3"
  },
  "language_info": {
   "codemirror_mode": {
    "name": "ipython",
    "version": 3
   },
   "file_extension": ".py",
   "mimetype": "text/x-python",
   "name": "python",
   "nbconvert_exporter": "python",
   "pygments_lexer": "ipython3",
   "version": "3.10.4"
  }
 },
 "nbformat": 4,
 "nbformat_minor": 5
}
