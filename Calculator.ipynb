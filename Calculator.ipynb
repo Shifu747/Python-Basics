{
 "cells": [
  {
   "cell_type": "code",
   "execution_count": 14,
   "id": "5b6ea232-8adb-43a3-8580-26668f31ae0c",
   "metadata": {},
   "outputs": [
    {
     "name": "stdout",
     "output_type": "stream",
     "text": [
      "Welcome to the Calculator\n",
      "\n"
     ]
    },
    {
     "name": "stdin",
     "output_type": "stream",
     "text": [
      "Enter your Equation:  quit\n"
     ]
    },
    {
     "name": "stdout",
     "output_type": "stream",
     "text": [
      "Thank you for Using this!! See YA!!\n"
     ]
    }
   ],
   "source": [
    "import re\n",
    "\n",
    "print(\"Welcome to the Calculator\\n\")\n",
    "\n",
    "run = True\n",
    "previous = 0\n",
    "\n",
    "def perform_math():\n",
    "    global run\n",
    "    global previous\n",
    "    \n",
    "    if previous == 0:\n",
    "        equation = input(\"Enter your Equation: \")\n",
    "    else:\n",
    "        equation = (input(previous))\n",
    "        \n",
    "    if equation == 'quit':\n",
    "        print(\"Thank you for Using this!! See YA!!\")\n",
    "        run = False     \n",
    "    else:\n",
    "        equation = re.sub('[A-Za-z,.() \" \"]', \" \", equation)\n",
    "        \n",
    "        if previous ==0:\n",
    "            previous = eval(equation)\n",
    "        else:\n",
    "            previous = eval(str(previous) + equation)\n",
    "\n",
    "#every input here is a string..... eval() is a baaal            \n",
    "        \n",
    "while run: \n",
    "    perform_math()"
   ]
  },
  {
   "cell_type": "code",
   "execution_count": 15,
   "id": "9d7cc64f-bd30-43d1-8d94-fab10d10628e",
   "metadata": {},
   "outputs": [
    {
     "ename": "SyntaxError",
     "evalue": "invalid syntax (1732029280.py, line 16)",
     "output_type": "error",
     "traceback": [
      "\u001b[1;36m  Input \u001b[1;32mIn [15]\u001b[1;36m\u001b[0m\n\u001b[1;33m    'MI' : 'Detroit'\u001b[0m\n\u001b[1;37m         ^\u001b[0m\n\u001b[1;31mSyntaxError\u001b[0m\u001b[1;31m:\u001b[0m invalid syntax\n"
     ]
    }
   ],
   "source": []
  },
  {
   "cell_type": "code",
   "execution_count": null,
   "id": "9bf395a5-7daa-4127-9fed-6c106e2e1ed6",
   "metadata": {},
   "outputs": [],
   "source": []
  },
  {
   "cell_type": "code",
   "execution_count": null,
   "id": "3a3bb9fe-84cc-48f7-ad17-60504d86004d",
   "metadata": {},
   "outputs": [],
   "source": []
  },
  {
   "cell_type": "code",
   "execution_count": null,
   "id": "eff6bbdd-b308-4c2d-930c-9c6bcd24bbab",
   "metadata": {},
   "outputs": [],
   "source": []
  }
 ],
 "metadata": {
  "kernelspec": {
   "display_name": "Python 3 (ipykernel)",
   "language": "python",
   "name": "python3"
  },
  "language_info": {
   "codemirror_mode": {
    "name": "ipython",
    "version": 3
   },
   "file_extension": ".py",
   "mimetype": "text/x-python",
   "name": "python",
   "nbconvert_exporter": "python",
   "pygments_lexer": "ipython3",
   "version": "3.10.4"
  }
 },
 "nbformat": 4,
 "nbformat_minor": 5
}
