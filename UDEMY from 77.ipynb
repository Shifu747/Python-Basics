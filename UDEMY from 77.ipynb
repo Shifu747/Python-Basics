{
 "cells": [
  {
   "cell_type": "code",
   "execution_count": null,
   "id": "c1efda7e-db2e-4fda-a9c2-7edf0ab0d031",
   "metadata": {},
   "outputs": [],
   "source": [
    "!py myprogram.py"
   ]
  },
  {
   "cell_type": "code",
   "execution_count": null,
   "id": "35db11e8-08fa-444f-b3af-d9459f624a49",
   "metadata": {},
   "outputs": [],
   "source": [
    "# if __name__ == \"__main__\""
   ]
  },
  {
   "cell_type": "code",
   "execution_count": null,
   "id": "053b71b7-1213-4ec7-9bd8-43074a038d3f",
   "metadata": {},
   "outputs": [],
   "source": [
    "!py one.py"
   ]
  },
  {
   "cell_type": "code",
   "execution_count": null,
   "id": "8ae9c214-6b18-403a-af60-3bf4760a6092",
   "metadata": {},
   "outputs": [],
   "source": [
    "!py two.py"
   ]
  },
  {
   "cell_type": "code",
   "execution_count": null,
   "id": "6890729d-4796-4604-8a67-ca7155ed8995",
   "metadata": {},
   "outputs": [],
   "source": [
    "def add(n1,n2):\n",
    "    print(n1+n2)"
   ]
  },
  {
   "cell_type": "code",
   "execution_count": null,
   "id": "e8d762d0-6e22-4eb9-ac6e-34520f1553be",
   "metadata": {},
   "outputs": [],
   "source": [
    "add(10,10)"
   ]
  },
  {
   "cell_type": "code",
   "execution_count": null,
   "id": "a58da33d-327f-4a33-99e6-8a74321c6f0f",
   "metadata": {},
   "outputs": [],
   "source": [
    "number1 = 10"
   ]
  },
  {
   "cell_type": "code",
   "execution_count": null,
   "id": "eff198b8-dd67-4393-b4ae-7ade7fcda1ec",
   "metadata": {},
   "outputs": [],
   "source": [
    "number2 = input()"
   ]
  },
  {
   "cell_type": "code",
   "execution_count": null,
   "id": "a18360be-aa1c-4596-a3ef-5f0caaa27e2f",
   "metadata": {},
   "outputs": [],
   "source": [
    "try:\n",
    "    add(number1, number2)\n",
    "except TypeError:\n",
    "    add(number1, int(number2))\n",
    "finally:\n",
    "    print(\"fyou string input\")"
   ]
  },
  {
   "cell_type": "code",
   "execution_count": null,
   "id": "ba317a60-d842-4059-b72e-f51015a9f4c1",
   "metadata": {},
   "outputs": [],
   "source": [
    "from IPython.display import clear_output\n",
    "\n",
    "\n",
    "def ask_for_int():\n",
    "    \n",
    "    while True:\n",
    "        try:\n",
    "            result = int(input(\"Provide a number: \"))\n",
    "        except:\n",
    "            print(\"please try again... and enter number ffs\")\n",
    "            continue\n",
    "            clear_output()\n",
    "        else:\n",
    "            print(\"thank af\")\n",
    "            break\n",
    "        finally:\n",
    "            print(\"___THANK YOU, ASSHOLE___\")\n",
    "    \n",
    "\n",
    "ask_for_int()\n",
    "        \n",
    "        "
   ]
  },
  {
   "cell_type": "code",
   "execution_count": null,
   "id": "8f3fa734-e0d6-455b-ad02-1e556bf1bbb5",
   "metadata": {},
   "outputs": [],
   "source": [
    "def demo():\n",
    "    print(\"ANYTHING\")\n",
    "    demo()\n",
    "    \n",
    "demo()"
   ]
  },
  {
   "cell_type": "code",
   "execution_count": 1,
   "id": "159f15a8-442c-46f6-971c-33cfb1b33707",
   "metadata": {},
   "outputs": [
    {
     "name": "stdout",
     "output_type": "stream",
     "text": [
      "************* Module sample.py\n",
      "sample.py:1:0: F0001: No module named sample.py (fatal)\n"
     ]
    }
   ],
   "source": [
    "!pylint sample.py"
   ]
  },
  {
   "cell_type": "code",
   "execution_count": null,
   "id": "f94c3c56-6c90-4961-a5c5-13853b9a5b33",
   "metadata": {},
   "outputs": [],
   "source": []
  },
  {
   "cell_type": "code",
   "execution_count": null,
   "id": "75803b79-9711-47b9-8d9a-a851026a7f94",
   "metadata": {},
   "outputs": [],
   "source": []
  },
  {
   "cell_type": "code",
   "execution_count": null,
   "id": "54229392-9d18-486b-ad04-27378db4dc18",
   "metadata": {},
   "outputs": [],
   "source": []
  },
  {
   "cell_type": "code",
   "execution_count": null,
   "id": "c81cf5d3-8dca-428d-8ea9-6bc5fb852b72",
   "metadata": {},
   "outputs": [],
   "source": []
  },
  {
   "cell_type": "markdown",
   "id": "c4a2ce5e-345d-4804-b32e-5988f48cd3e8",
   "metadata": {},
   "source": [
    "## decorators"
   ]
  },
  {
   "cell_type": "code",
   "execution_count": 3,
   "id": "470cee4c-2933-4ad1-8d54-144bff3af901",
   "metadata": {},
   "outputs": [],
   "source": [
    "def func():\n",
    "    return 1"
   ]
  },
  {
   "cell_type": "code",
   "execution_count": 4,
   "id": "fb532b34-c041-45ca-b87a-21b0e11988bf",
   "metadata": {},
   "outputs": [
    {
     "data": {
      "text/plain": [
       "1"
      ]
     },
     "execution_count": 4,
     "metadata": {},
     "output_type": "execute_result"
    }
   ],
   "source": [
    "func()"
   ]
  },
  {
   "cell_type": "code",
   "execution_count": 7,
   "id": "09058aed-fad4-4285-87a6-06049229c00c",
   "metadata": {},
   "outputs": [
    {
     "data": {
      "text/plain": [
       "<function __main__.func()>"
      ]
     },
     "execution_count": 7,
     "metadata": {},
     "output_type": "execute_result"
    }
   ],
   "source": [
    "func"
   ]
  },
  {
   "cell_type": "code",
   "execution_count": 8,
   "id": "c1ff0006-16e8-4f3e-904d-f24523c7cd6b",
   "metadata": {},
   "outputs": [],
   "source": [
    "def hello():\n",
    "    return \"HELLO!\""
   ]
  },
  {
   "cell_type": "code",
   "execution_count": 9,
   "id": "4702c557-a754-4bde-bba2-74fd80f59f1f",
   "metadata": {},
   "outputs": [
    {
     "data": {
      "text/plain": [
       "<function __main__.hello()>"
      ]
     },
     "execution_count": 9,
     "metadata": {},
     "output_type": "execute_result"
    }
   ],
   "source": [
    "hello"
   ]
  },
  {
   "cell_type": "code",
   "execution_count": 10,
   "id": "80c1db03-cd41-42ec-88f1-4e15c8911485",
   "metadata": {},
   "outputs": [],
   "source": [
    "greet = hello"
   ]
  },
  {
   "cell_type": "code",
   "execution_count": 12,
   "id": "7cb98264-89e6-42d0-9bc8-0daa518ae219",
   "metadata": {},
   "outputs": [
    {
     "data": {
      "text/plain": [
       "'HELLO!'"
      ]
     },
     "execution_count": 12,
     "metadata": {},
     "output_type": "execute_result"
    }
   ],
   "source": [
    "greet()"
   ]
  },
  {
   "cell_type": "code",
   "execution_count": 13,
   "id": "3687354f-124b-47df-97b4-350a765a230b",
   "metadata": {},
   "outputs": [
    {
     "data": {
      "text/plain": [
       "'HELLO!'"
      ]
     },
     "execution_count": 13,
     "metadata": {},
     "output_type": "execute_result"
    }
   ],
   "source": [
    "hello()"
   ]
  },
  {
   "cell_type": "code",
   "execution_count": 15,
   "id": "2fecef9d-c27b-4338-99b8-4212aba4faf9",
   "metadata": {},
   "outputs": [],
   "source": [
    "del hello"
   ]
  },
  {
   "cell_type": "code",
   "execution_count": 16,
   "id": "9cacaa62-bba3-4771-bed7-c77c06c3e51e",
   "metadata": {},
   "outputs": [
    {
     "ename": "NameError",
     "evalue": "name 'hello' is not defined",
     "output_type": "error",
     "traceback": [
      "\u001b[1;31m---------------------------------------------------------------------------\u001b[0m",
      "\u001b[1;31mNameError\u001b[0m                                 Traceback (most recent call last)",
      "Input \u001b[1;32mIn [16]\u001b[0m, in \u001b[0;36m<cell line: 1>\u001b[1;34m()\u001b[0m\n\u001b[1;32m----> 1\u001b[0m \u001b[43mhello\u001b[49m()\n",
      "\u001b[1;31mNameError\u001b[0m: name 'hello' is not defined"
     ]
    }
   ],
   "source": [
    "hello()"
   ]
  },
  {
   "cell_type": "code",
   "execution_count": 17,
   "id": "51823133-9ade-4e16-86a3-14dc7224a9c1",
   "metadata": {},
   "outputs": [
    {
     "data": {
      "text/plain": [
       "'HELLO!'"
      ]
     },
     "execution_count": 17,
     "metadata": {},
     "output_type": "execute_result"
    }
   ],
   "source": [
    "greet()"
   ]
  },
  {
   "cell_type": "code",
   "execution_count": null,
   "id": "848fa5c0-659c-49ae-940b-7e697d26833a",
   "metadata": {},
   "outputs": [],
   "source": []
  },
  {
   "cell_type": "code",
   "execution_count": null,
   "id": "909713a8-aa43-4771-bb61-7e7a953184ac",
   "metadata": {},
   "outputs": [],
   "source": []
  },
  {
   "cell_type": "code",
   "execution_count": null,
   "id": "3ce930bd-213d-47f4-87d6-36303cb5bb7a",
   "metadata": {},
   "outputs": [],
   "source": []
  },
  {
   "cell_type": "code",
   "execution_count": null,
   "id": "e233a8bd-cc45-4ffb-bf42-dddfa47f1dca",
   "metadata": {},
   "outputs": [],
   "source": []
  },
  {
   "cell_type": "code",
   "execution_count": null,
   "id": "7fecf404-466f-4e5e-ac00-ed648461675b",
   "metadata": {},
   "outputs": [],
   "source": []
  },
  {
   "cell_type": "code",
   "execution_count": null,
   "id": "42ad9ff1-7f72-4e75-a98b-ba6c8d40c887",
   "metadata": {},
   "outputs": [],
   "source": []
  },
  {
   "cell_type": "code",
   "execution_count": null,
   "id": "339c7243-d28f-4fc9-8941-e8a7f4e9c2a8",
   "metadata": {},
   "outputs": [],
   "source": []
  },
  {
   "cell_type": "code",
   "execution_count": null,
   "id": "3185e542-2194-4250-94be-db54bd118933",
   "metadata": {},
   "outputs": [],
   "source": []
  },
  {
   "cell_type": "code",
   "execution_count": 25,
   "id": "34c581b4-8ba0-46a9-8468-e35bc58ddd00",
   "metadata": {},
   "outputs": [],
   "source": [
    "def hello(name =\"jose\"):\n",
    "    print(\"The hello() is executed\")\n",
    "    \n",
    "    def greet():\n",
    "        return '\\t This is the greet() func inside hello'\n",
    "    def welcome():\n",
    "        return \"\\t This is Welcome() inside hello\"\n",
    "    \n",
    "    \n",
    "    print(greet())\n",
    "    print(greet())\n",
    "    print(\"This is the end of hello() function!\")"
   ]
  },
  {
   "cell_type": "code",
   "execution_count": 26,
   "id": "0d7b18cf-462a-435b-834b-03751547b65a",
   "metadata": {},
   "outputs": [
    {
     "name": "stdout",
     "output_type": "stream",
     "text": [
      "The hello() is executed\n",
      "\t This is the greet() func inside hello\n",
      "\t This is the greet() func inside hello\n",
      "This is the end of hello() function!\n"
     ]
    }
   ],
   "source": [
    "hello()"
   ]
  },
  {
   "cell_type": "code",
   "execution_count": 35,
   "id": "7ab91532-1b35-4b4b-8841-7c5c6c63f87c",
   "metadata": {},
   "outputs": [],
   "source": [
    "def hello(name =\"jose\"):\n",
    "    print(\"The hello() is executed\")\n",
    "    \n",
    "    def greet():\n",
    "        return '\\t This is the greet() func inside hello'\n",
    "    def welcome():\n",
    "        return \"\\t This is Welcome() inside hello\"\n",
    "    \n",
    "    print('I am going to return a function')\n",
    "    \n",
    "    if name == 'jose':\n",
    "        return greet\n",
    "    else:\n",
    "        return welcome"
   ]
  },
  {
   "cell_type": "code",
   "execution_count": 36,
   "id": "e5323c18-f16f-4938-b855-43e0fcb4ca21",
   "metadata": {},
   "outputs": [
    {
     "name": "stdout",
     "output_type": "stream",
     "text": [
      "The hello() is executed\n",
      "I am going to return a function\n"
     ]
    }
   ],
   "source": [
    "my_new_func = hello('jose')"
   ]
  },
  {
   "cell_type": "code",
   "execution_count": 39,
   "id": "ed57e7d8-eef1-49a3-a439-1c8167890afd",
   "metadata": {},
   "outputs": [
    {
     "name": "stdout",
     "output_type": "stream",
     "text": [
      "\t This is the greet() func inside hello\n"
     ]
    }
   ],
   "source": [
    "print(my_new_func())"
   ]
  },
  {
   "cell_type": "code",
   "execution_count": 40,
   "id": "154b87a6-d9a7-46f7-81c5-9a60409680b5",
   "metadata": {},
   "outputs": [],
   "source": [
    "def cool():\n",
    "    \n",
    "    def super_cool():\n",
    "        return \"I am very cool!\"\n",
    "    return super_cool"
   ]
  },
  {
   "cell_type": "code",
   "execution_count": 41,
   "id": "f57dcc94-ce41-4403-980d-ccf204bf71ba",
   "metadata": {},
   "outputs": [],
   "source": [
    "some_func = cool()"
   ]
  },
  {
   "cell_type": "code",
   "execution_count": 42,
   "id": "3b121042-d9f6-45e8-b8a4-a3e9f0b08531",
   "metadata": {},
   "outputs": [
    {
     "data": {
      "text/plain": [
       "<function __main__.cool.<locals>.super_cool()>"
      ]
     },
     "execution_count": 42,
     "metadata": {},
     "output_type": "execute_result"
    }
   ],
   "source": [
    "some_func"
   ]
  },
  {
   "cell_type": "code",
   "execution_count": 43,
   "id": "e4edeb9e-bb79-4eab-91b0-fe801ff65661",
   "metadata": {},
   "outputs": [
    {
     "name": "stdout",
     "output_type": "stream",
     "text": [
      "I am very cool!\n"
     ]
    }
   ],
   "source": [
    "print(some_func())"
   ]
  },
  {
   "cell_type": "code",
   "execution_count": null,
   "id": "6847cfa8-d0be-4662-97f7-fd522f5770bb",
   "metadata": {},
   "outputs": [],
   "source": []
  },
  {
   "cell_type": "code",
   "execution_count": null,
   "id": "cb30c5c2-7378-414a-8808-0d47d7fad467",
   "metadata": {},
   "outputs": [],
   "source": []
  },
  {
   "cell_type": "code",
   "execution_count": null,
   "id": "7c0fd423-1886-4aa9-9c43-59018dfcb3ff",
   "metadata": {},
   "outputs": [],
   "source": []
  },
  {
   "cell_type": "code",
   "execution_count": null,
   "id": "329fac32-c642-469e-a4d8-1af6b09ce3e5",
   "metadata": {},
   "outputs": [],
   "source": []
  },
  {
   "cell_type": "code",
   "execution_count": null,
   "id": "92851072-f727-400b-83f7-fed4cd143677",
   "metadata": {},
   "outputs": [],
   "source": []
  },
  {
   "cell_type": "code",
   "execution_count": 44,
   "id": "4c5aa604-18a1-48f2-a15e-9fb607dbd523",
   "metadata": {},
   "outputs": [],
   "source": [
    "def hello():\n",
    "    \n",
    "    return 'Hi Jose!'"
   ]
  },
  {
   "cell_type": "code",
   "execution_count": 47,
   "id": "84cf3ba1-e879-4897-a918-3ef085520f7d",
   "metadata": {},
   "outputs": [],
   "source": [
    "def other(some_def_func):\n",
    "    print('Other code runs here')\n",
    "    print(some_def_func())"
   ]
  },
  {
   "cell_type": "code",
   "execution_count": 48,
   "id": "6db663bd-57f0-49a3-b8ec-5d88a4bd8607",
   "metadata": {},
   "outputs": [
    {
     "name": "stdout",
     "output_type": "stream",
     "text": [
      "Other code runs here\n",
      "Hi Jose!\n"
     ]
    }
   ],
   "source": [
    "other(hello)"
   ]
  },
  {
   "cell_type": "code",
   "execution_count": null,
   "id": "fe22db21-819b-42aa-93a4-6f61af0d0250",
   "metadata": {},
   "outputs": [],
   "source": []
  },
  {
   "cell_type": "code",
   "execution_count": null,
   "id": "8899135a-7c49-482a-9c0c-0e815eae9360",
   "metadata": {},
   "outputs": [],
   "source": []
  },
  {
   "cell_type": "code",
   "execution_count": null,
   "id": "0b927b03-6553-42e5-9826-3ddde7ecbc24",
   "metadata": {},
   "outputs": [],
   "source": []
  },
  {
   "cell_type": "code",
   "execution_count": 2,
   "id": "2d7529f8-6094-4b32-aa79-1bebe01db1f1",
   "metadata": {},
   "outputs": [],
   "source": [
    "def new_decorator(original_func):\n",
    "    \n",
    "    def wrap_func():\n",
    "        \n",
    "        print(\"Some extra code before original function\")\n",
    "        \n",
    "        original_func()\n",
    "        \n",
    "        print(\"Some extra code after original function\")\n",
    "        \n",
    "    return wrap_func"
   ]
  },
  {
   "cell_type": "code",
   "execution_count": 3,
   "id": "8b09cd56-ba81-48b9-805b-db6ef7556093",
   "metadata": {},
   "outputs": [],
   "source": [
    "def func_needs_decorator():\n",
    "    \n",
    "    print(\"I want to be decorated!!!\")"
   ]
  },
  {
   "cell_type": "code",
   "execution_count": 5,
   "id": "4d269c8f-45d1-451a-9619-6ff342120059",
   "metadata": {},
   "outputs": [],
   "source": [
    "decorated_func = new_decorator(func_needs_decorator)"
   ]
  },
  {
   "cell_type": "code",
   "execution_count": 6,
   "id": "e781cb41-a030-493e-b006-7d5cf1b662f9",
   "metadata": {},
   "outputs": [
    {
     "name": "stdout",
     "output_type": "stream",
     "text": [
      "Some extra code before original function\n",
      "I want to be decorated!!!\n",
      "Some extra code after original function\n"
     ]
    }
   ],
   "source": [
    "decorated_func()"
   ]
  },
  {
   "cell_type": "code",
   "execution_count": null,
   "id": "674d4ffa-9121-4c74-902a-e19825abfe20",
   "metadata": {},
   "outputs": [],
   "source": []
  },
  {
   "cell_type": "code",
   "execution_count": 7,
   "id": "bfdf11e9-3823-433e-a055-eb1c32afa317",
   "metadata": {},
   "outputs": [],
   "source": [
    "@new_decorator\n",
    "def func_needs_decorator():\n",
    "    \n",
    "    print(\"I want to be decorated!!!\")"
   ]
  },
  {
   "cell_type": "code",
   "execution_count": 8,
   "id": "9c4b17ee-568e-416a-af36-dd96f64c4cb9",
   "metadata": {},
   "outputs": [
    {
     "name": "stdout",
     "output_type": "stream",
     "text": [
      "Some extra code before original function\n",
      "I want to be decorated!!!\n",
      "Some extra code after original function\n"
     ]
    }
   ],
   "source": [
    "func_needs_decorator()"
   ]
  },
  {
   "cell_type": "code",
   "execution_count": 9,
   "id": "2a3a4741-d93a-4c65-b734-782cdf15a5cd",
   "metadata": {},
   "outputs": [
    {
     "data": {
      "text/plain": [
       "[0, 1, 2, 3, 4, 5, 6, 7, 8, 9]"
      ]
     },
     "execution_count": 9,
     "metadata": {},
     "output_type": "execute_result"
    }
   ],
   "source": [
    "a = list(range(10))\n",
    "\n",
    "a"
   ]
  },
  {
   "cell_type": "code",
   "execution_count": 14,
   "id": "7947c68b-a93b-4e2a-841a-41876983c18d",
   "metadata": {},
   "outputs": [
    {
     "data": {
      "text/plain": [
       "[0,\n",
       " 1,\n",
       " 2,\n",
       " 3,\n",
       " 4,\n",
       " 5,\n",
       " 6,\n",
       " 7,\n",
       " 8,\n",
       " 9,\n",
       " 10,\n",
       " 11,\n",
       " 12,\n",
       " 13,\n",
       " 14,\n",
       " 15,\n",
       " 16,\n",
       " 17,\n",
       " 18,\n",
       " 19,\n",
       " 20,\n",
       " 21,\n",
       " 22,\n",
       " 23,\n",
       " 24,\n",
       " 25,\n",
       " 26,\n",
       " 27,\n",
       " 28,\n",
       " 29,\n",
       " 30,\n",
       " 31,\n",
       " 32,\n",
       " 33,\n",
       " 34,\n",
       " 35,\n",
       " 36,\n",
       " 37,\n",
       " 38,\n",
       " 39,\n",
       " 40,\n",
       " 41,\n",
       " 42,\n",
       " 43,\n",
       " 44,\n",
       " 45,\n",
       " 46,\n",
       " 47,\n",
       " 48,\n",
       " 49]"
      ]
     },
     "execution_count": 14,
     "metadata": {},
     "output_type": "execute_result"
    }
   ],
   "source": [
    "[x for x in range(50)]"
   ]
  },
  {
   "cell_type": "code",
   "execution_count": 15,
   "id": "046eab16-8355-45d9-bd15-ba2ae9dc0940",
   "metadata": {},
   "outputs": [],
   "source": [
    "def create_cubes(n):\n",
    "    return [n**3 for n in range(n)]"
   ]
  },
  {
   "cell_type": "code",
   "execution_count": 17,
   "id": "66555fd2-ee25-4781-bcf0-41434f6b3c93",
   "metadata": {},
   "outputs": [],
   "source": [
    "def creeeate_c(n):\n",
    "    res =[]\n",
    "    for x in range(n):\n",
    "        res.append(x**3)\n",
    "    return res"
   ]
  },
  {
   "cell_type": "code",
   "execution_count": 16,
   "id": "14e2d04b-e904-4845-b22d-fc5fd01dd0b8",
   "metadata": {},
   "outputs": [
    {
     "data": {
      "text/plain": [
       "[0, 1, 8, 27, 64, 125, 216, 343, 512, 729]"
      ]
     },
     "execution_count": 16,
     "metadata": {},
     "output_type": "execute_result"
    }
   ],
   "source": [
    "create_cubes(10)"
   ]
  },
  {
   "cell_type": "code",
   "execution_count": 18,
   "id": "ba4d2fc4-9722-4229-9fe2-8ebf8ea4de17",
   "metadata": {},
   "outputs": [
    {
     "name": "stdout",
     "output_type": "stream",
     "text": [
      "0\n",
      "1\n",
      "8\n",
      "27\n",
      "64\n",
      "125\n",
      "216\n",
      "343\n",
      "512\n",
      "729\n"
     ]
    }
   ],
   "source": [
    "for x in create_cubes(10):\n",
    "    print(x)"
   ]
  },
  {
   "cell_type": "code",
   "execution_count": 19,
   "id": "875eefcb-419a-459a-99ac-67ac20b64117",
   "metadata": {},
   "outputs": [],
   "source": [
    "def c_cg(n):\n",
    "    for x in range(n):\n",
    "        yield x**3\n",
    "    "
   ]
  },
  {
   "cell_type": "code",
   "execution_count": 21,
   "id": "993b547b-62fd-4e29-bb19-9454dff13cee",
   "metadata": {},
   "outputs": [
    {
     "name": "stdout",
     "output_type": "stream",
     "text": [
      "0\n",
      "1\n",
      "8\n",
      "27\n",
      "64\n",
      "125\n",
      "216\n",
      "343\n",
      "512\n",
      "729\n"
     ]
    }
   ],
   "source": [
    "for x in c_cg(10):\n",
    "    print(x)"
   ]
  },
  {
   "cell_type": "code",
   "execution_count": 22,
   "id": "33e03f00-cb87-4677-97c9-d29240d573aa",
   "metadata": {},
   "outputs": [],
   "source": [
    "def gfib(n):\n",
    "    \n",
    "    a = 1\n",
    "    b = 1\n",
    "    for i in range(n):\n",
    "        yield a\n",
    "        a,b = b, a+b"
   ]
  },
  {
   "cell_type": "code",
   "execution_count": 25,
   "id": "d79d80f5-3df2-40a0-8d28-c52d9ffbcce1",
   "metadata": {},
   "outputs": [
    {
     "data": {
      "text/plain": [
       "[1, 1, 2, 3, 5, 8, 13, 21, 34, 55]"
      ]
     },
     "execution_count": 25,
     "metadata": {},
     "output_type": "execute_result"
    }
   ],
   "source": [
    "[x for x in gfib(10)]"
   ]
  },
  {
   "cell_type": "code",
   "execution_count": null,
   "id": "a8a6832b-de96-41eb-8c0c-c0d8df851a7e",
   "metadata": {},
   "outputs": [],
   "source": []
  },
  {
   "cell_type": "code",
   "execution_count": 26,
   "id": "d5204731-375b-4d25-9314-9e184acbebcf",
   "metadata": {},
   "outputs": [],
   "source": [
    "def simple_gen():\n",
    "    for x in range(3):\n",
    "        yield x"
   ]
  },
  {
   "cell_type": "code",
   "execution_count": 28,
   "id": "92c5e952-acdc-483c-84d7-65f5c13e41dd",
   "metadata": {},
   "outputs": [
    {
     "name": "stdout",
     "output_type": "stream",
     "text": [
      "0\n",
      "1\n",
      "2\n"
     ]
    }
   ],
   "source": [
    "for x in simple_gen():\n",
    "    print(x)"
   ]
  },
  {
   "cell_type": "code",
   "execution_count": 29,
   "id": "834f164d-29d0-41f8-afa3-a8d792552d49",
   "metadata": {},
   "outputs": [],
   "source": [
    "g = simple_gen()"
   ]
  },
  {
   "cell_type": "code",
   "execution_count": 30,
   "id": "972d2884-0c2b-45bb-9015-1fab824d9341",
   "metadata": {},
   "outputs": [
    {
     "data": {
      "text/plain": [
       "<generator object simple_gen at 0x000001CF04475FC0>"
      ]
     },
     "execution_count": 30,
     "metadata": {},
     "output_type": "execute_result"
    }
   ],
   "source": [
    "g"
   ]
  },
  {
   "cell_type": "code",
   "execution_count": 37,
   "id": "a77d4352-298e-40d4-9f57-d0f53fbd6204",
   "metadata": {},
   "outputs": [
    {
     "ename": "StopIteration",
     "evalue": "",
     "output_type": "error",
     "traceback": [
      "\u001b[1;31m---------------------------------------------------------------------------\u001b[0m",
      "\u001b[1;31mStopIteration\u001b[0m                             Traceback (most recent call last)",
      "Input \u001b[1;32mIn [37]\u001b[0m, in \u001b[0;36m<cell line: 1>\u001b[1;34m()\u001b[0m\n\u001b[1;32m----> 1\u001b[0m \u001b[38;5;28mprint\u001b[39m(\u001b[38;5;28;43mnext\u001b[39;49m\u001b[43m(\u001b[49m\u001b[43mg\u001b[49m\u001b[43m)\u001b[49m)\n",
      "\u001b[1;31mStopIteration\u001b[0m: "
     ]
    }
   ],
   "source": [
    "print(next(g))"
   ]
  },
  {
   "cell_type": "code",
   "execution_count": 38,
   "id": "15087bd1-e48b-466e-a8fa-f969b5045466",
   "metadata": {},
   "outputs": [],
   "source": [
    "s = 'hello'"
   ]
  },
  {
   "cell_type": "code",
   "execution_count": 39,
   "id": "1d6aa36d-6548-4c41-b911-2452ba8c2527",
   "metadata": {},
   "outputs": [
    {
     "name": "stdout",
     "output_type": "stream",
     "text": [
      "h\n",
      "e\n",
      "l\n",
      "l\n",
      "o\n"
     ]
    }
   ],
   "source": [
    "for letter in s:\n",
    "    print(letter)"
   ]
  },
  {
   "cell_type": "code",
   "execution_count": 47,
   "id": "a058f85a-8cbd-4a49-88d0-7177bfffa278",
   "metadata": {},
   "outputs": [],
   "source": [
    "s_iter = iter(s)"
   ]
  },
  {
   "cell_type": "code",
   "execution_count": 49,
   "id": "635564e0-a77f-4046-a9bf-3ab61577491e",
   "metadata": {},
   "outputs": [
    {
     "data": {
      "text/plain": [
       "'e'"
      ]
     },
     "execution_count": 49,
     "metadata": {},
     "output_type": "execute_result"
    }
   ],
   "source": [
    "next(s_iter)"
   ]
  },
  {
   "cell_type": "code",
   "execution_count": null,
   "id": "f696eeea-305e-4ccb-b79f-0dbe1ed97bb4",
   "metadata": {},
   "outputs": [],
   "source": []
  },
  {
   "cell_type": "code",
   "execution_count": null,
   "id": "2664e0d2-a32c-449d-8476-146d4bc978aa",
   "metadata": {},
   "outputs": [],
   "source": []
  }
 ],
 "metadata": {
  "kernelspec": {
   "display_name": "Python 3 (ipykernel)",
   "language": "python",
   "name": "python3"
  },
  "language_info": {
   "codemirror_mode": {
    "name": "ipython",
    "version": 3
   },
   "file_extension": ".py",
   "mimetype": "text/x-python",
   "name": "python",
   "nbconvert_exporter": "python",
   "pygments_lexer": "ipython3",
   "version": "3.10.4"
  }
 },
 "nbformat": 4,
 "nbformat_minor": 5
}
