{
 "cells": [
  {
   "cell_type": "markdown",
   "id": "d1ccc14f-abc7-4d64-adbc-bcf1093a6885",
   "metadata": {},
   "source": [
    "# Collection Module"
   ]
  },
  {
   "cell_type": "code",
   "execution_count": 2,
   "id": "a30621c0-33aa-4b24-b624-b26258d76fac",
   "metadata": {},
   "outputs": [],
   "source": [
    "from collections import Counter"
   ]
  },
  {
   "cell_type": "code",
   "execution_count": 3,
   "id": "3d35a069-b9b1-4090-8fdb-6ec8ebba5cff",
   "metadata": {},
   "outputs": [],
   "source": [
    "mylist = [1,2,3,1,2,34,2,3,45,6,7,7,9]"
   ]
  },
  {
   "cell_type": "code",
   "execution_count": 4,
   "id": "98dd5246-4dde-4b24-bf73-5a6768947df8",
   "metadata": {},
   "outputs": [],
   "source": [
    "x = Counter(mylist)"
   ]
  },
  {
   "cell_type": "code",
   "execution_count": 5,
   "id": "a498b53c-b859-4888-bf26-9de48a732132",
   "metadata": {},
   "outputs": [
    {
     "data": {
      "text/plain": [
       "Counter({1: 2, 2: 3, 3: 2, 34: 1, 45: 1, 6: 1, 7: 2, 9: 1})"
      ]
     },
     "execution_count": 5,
     "metadata": {},
     "output_type": "execute_result"
    }
   ],
   "source": [
    "x"
   ]
  },
  {
   "cell_type": "code",
   "execution_count": 6,
   "id": "f604b757-9fed-4c53-89fb-8f06799b76fb",
   "metadata": {},
   "outputs": [
    {
     "data": {
      "text/plain": [
       "Counter({'a': 5,\n",
       "         'm': 5,\n",
       "         'f': 4,\n",
       "         'k': 4,\n",
       "         'o': 1,\n",
       "         'j': 2,\n",
       "         'n': 2,\n",
       "         'l': 4,\n",
       "         'e': 1,\n",
       "         's': 2,\n",
       "         'h': 2})"
      ]
     },
     "execution_count": 6,
     "metadata": {},
     "output_type": "execute_result"
    }
   ],
   "source": [
    "Counter(\"amamamammfkfokajfnlenljklfshskhl\")"
   ]
  },
  {
   "cell_type": "code",
   "execution_count": 7,
   "id": "9d1a986b-8da5-408b-852b-536c94986c9b",
   "metadata": {},
   "outputs": [],
   "source": [
    "sen = \"How many times does each word show up in this line with a word\""
   ]
  },
  {
   "cell_type": "code",
   "execution_count": 8,
   "id": "11a9950e-194d-47dd-9d8d-eb9aa49caf72",
   "metadata": {},
   "outputs": [
    {
     "data": {
      "text/plain": [
       "Counter({'how': 1,\n",
       "         'many': 1,\n",
       "         'times': 1,\n",
       "         'does': 1,\n",
       "         'each': 1,\n",
       "         'word': 2,\n",
       "         'show': 1,\n",
       "         'up': 1,\n",
       "         'in': 1,\n",
       "         'this': 1,\n",
       "         'line': 1,\n",
       "         'with': 1,\n",
       "         'a': 1})"
      ]
     },
     "execution_count": 8,
     "metadata": {},
     "output_type": "execute_result"
    }
   ],
   "source": [
    "Counter(sen.lower().split())"
   ]
  },
  {
   "cell_type": "code",
   "execution_count": 9,
   "id": "020d4a03-b1e4-4c5a-b4c8-28e91f29591f",
   "metadata": {},
   "outputs": [],
   "source": [
    "letter = 'aaabbbccccdddddd'"
   ]
  },
  {
   "cell_type": "code",
   "execution_count": 10,
   "id": "4bf047d7-fb70-4e59-aee3-b21bc4615d7b",
   "metadata": {},
   "outputs": [],
   "source": [
    "c = Counter(letter)"
   ]
  },
  {
   "cell_type": "code",
   "execution_count": 11,
   "id": "c7d09a48-cdda-41f2-ad04-10c4c60f1bf2",
   "metadata": {},
   "outputs": [
    {
     "data": {
      "text/plain": [
       "Counter({'a': 3, 'b': 3, 'c': 4, 'd': 6})"
      ]
     },
     "execution_count": 11,
     "metadata": {},
     "output_type": "execute_result"
    }
   ],
   "source": [
    "c"
   ]
  },
  {
   "cell_type": "code",
   "execution_count": 12,
   "id": "48f5b2a8-d30c-4087-a84d-7967c41eccf1",
   "metadata": {},
   "outputs": [
    {
     "data": {
      "text/plain": [
       "[('d', 6), ('c', 4), ('a', 3)]"
      ]
     },
     "execution_count": 12,
     "metadata": {},
     "output_type": "execute_result"
    }
   ],
   "source": [
    "c.most_common(3)"
   ]
  },
  {
   "cell_type": "code",
   "execution_count": 13,
   "id": "efe2fcc0-f6de-496e-8fe5-77955df5c8f4",
   "metadata": {},
   "outputs": [
    {
     "data": {
      "text/plain": [
       "Counter({'a': 3, 'b': 3, 'c': 4, 'd': 6})"
      ]
     },
     "execution_count": 13,
     "metadata": {},
     "output_type": "execute_result"
    }
   ],
   "source": [
    "c"
   ]
  },
  {
   "cell_type": "code",
   "execution_count": 14,
   "id": "8c62dc2a-68d0-4246-acd5-8adb31e0dff5",
   "metadata": {},
   "outputs": [
    {
     "data": {
      "text/plain": [
       "['a', 'b', 'c', 'd']"
      ]
     },
     "execution_count": 14,
     "metadata": {},
     "output_type": "execute_result"
    }
   ],
   "source": [
    "list(c)"
   ]
  },
  {
   "cell_type": "code",
   "execution_count": 15,
   "id": "ebee67d7-7621-45ee-9de7-c9044da002a5",
   "metadata": {},
   "outputs": [
    {
     "data": {
      "text/plain": [
       "{'a': 3, 'b': 3, 'c': 4, 'd': 6}"
      ]
     },
     "execution_count": 15,
     "metadata": {},
     "output_type": "execute_result"
    }
   ],
   "source": [
    "dict(c)"
   ]
  },
  {
   "cell_type": "code",
   "execution_count": 16,
   "id": "0f6c1422-fa3d-4a79-a6fc-0dfadd3c40e0",
   "metadata": {},
   "outputs": [],
   "source": [
    "from collections import defaultdict"
   ]
  },
  {
   "cell_type": "code",
   "execution_count": 17,
   "id": "670c14bb-8ea7-40ad-ae51-e9e8de320314",
   "metadata": {},
   "outputs": [],
   "source": [
    "d = {'a': 10}"
   ]
  },
  {
   "cell_type": "code",
   "execution_count": 18,
   "id": "fd39114d-899f-4aba-bfe9-bfc95898a3ce",
   "metadata": {},
   "outputs": [
    {
     "data": {
      "text/plain": [
       "{'a': 10}"
      ]
     },
     "execution_count": 18,
     "metadata": {},
     "output_type": "execute_result"
    }
   ],
   "source": [
    "d"
   ]
  },
  {
   "cell_type": "code",
   "execution_count": 19,
   "id": "914d8a1c-8925-490e-ab81-9d3dadbed265",
   "metadata": {},
   "outputs": [
    {
     "data": {
      "text/plain": [
       "10"
      ]
     },
     "execution_count": 19,
     "metadata": {},
     "output_type": "execute_result"
    }
   ],
   "source": [
    "d['a']"
   ]
  },
  {
   "cell_type": "code",
   "execution_count": 20,
   "id": "60fba559-eeff-424f-9745-1ad5fa33d94d",
   "metadata": {},
   "outputs": [
    {
     "ename": "KeyError",
     "evalue": "'WRONG'",
     "output_type": "error",
     "traceback": [
      "\u001b[1;31m---------------------------------------------------------------------------\u001b[0m",
      "\u001b[1;31mKeyError\u001b[0m                                  Traceback (most recent call last)",
      "Input \u001b[1;32mIn [20]\u001b[0m, in \u001b[0;36m<cell line: 1>\u001b[1;34m()\u001b[0m\n\u001b[1;32m----> 1\u001b[0m \u001b[43md\u001b[49m\u001b[43m[\u001b[49m\u001b[38;5;124;43m'\u001b[39;49m\u001b[38;5;124;43mWRONG\u001b[39;49m\u001b[38;5;124;43m'\u001b[39;49m\u001b[43m]\u001b[49m\n",
      "\u001b[1;31mKeyError\u001b[0m: 'WRONG'"
     ]
    }
   ],
   "source": [
    "d['WRONG']"
   ]
  },
  {
   "cell_type": "code",
   "execution_count": 21,
   "id": "a1333c67-4b27-4667-b262-36fdee6334df",
   "metadata": {},
   "outputs": [],
   "source": [
    "d = defaultdict(lambda:0)"
   ]
  },
  {
   "cell_type": "code",
   "execution_count": 22,
   "id": "0978f66f-9ed1-4f40-839e-3e0e8dd9c4bb",
   "metadata": {},
   "outputs": [],
   "source": [
    "d['correct'] = 100"
   ]
  },
  {
   "cell_type": "code",
   "execution_count": 23,
   "id": "8f024c24-070c-49d8-9607-3d592d260907",
   "metadata": {},
   "outputs": [
    {
     "data": {
      "text/plain": [
       "defaultdict(<function __main__.<lambda>()>, {'correct': 100})"
      ]
     },
     "execution_count": 23,
     "metadata": {},
     "output_type": "execute_result"
    }
   ],
   "source": [
    "d"
   ]
  },
  {
   "cell_type": "code",
   "execution_count": 24,
   "id": "a812689b-61b3-4b48-ac33-dede6735fb94",
   "metadata": {},
   "outputs": [
    {
     "data": {
      "text/plain": [
       "0"
      ]
     },
     "execution_count": 24,
     "metadata": {},
     "output_type": "execute_result"
    }
   ],
   "source": [
    "d['lala']"
   ]
  },
  {
   "cell_type": "code",
   "execution_count": 25,
   "id": "a7c737b2-5e59-4a67-91c6-826728a2d475",
   "metadata": {},
   "outputs": [],
   "source": [
    "mytuple = (10,20,30)"
   ]
  },
  {
   "cell_type": "code",
   "execution_count": 26,
   "id": "519c4ee4-dd75-484e-9644-72502beb5a24",
   "metadata": {},
   "outputs": [
    {
     "data": {
      "text/plain": [
       "10"
      ]
     },
     "execution_count": 26,
     "metadata": {},
     "output_type": "execute_result"
    }
   ],
   "source": [
    "mytuple[0]"
   ]
  },
  {
   "cell_type": "code",
   "execution_count": 27,
   "id": "585dc7bc-f504-4b47-aca7-7ffd117c3762",
   "metadata": {},
   "outputs": [],
   "source": [
    "from collections import namedtuple"
   ]
  },
  {
   "cell_type": "code",
   "execution_count": 28,
   "id": "96705cba-daf9-432f-8495-64f307edb1f9",
   "metadata": {},
   "outputs": [],
   "source": [
    "Dog = namedtuple('Dog',['age','breed','name'])"
   ]
  },
  {
   "cell_type": "code",
   "execution_count": 29,
   "id": "d229261a-d1f2-4067-925f-aa026b012003",
   "metadata": {},
   "outputs": [],
   "source": [
    "sammy = Dog(age = 5, breed = 'Husky', name = \"Sammy\")"
   ]
  },
  {
   "cell_type": "code",
   "execution_count": 30,
   "id": "4894e6d5-a831-42e4-b0a7-e2be76266784",
   "metadata": {},
   "outputs": [
    {
     "data": {
      "text/plain": [
       "__main__.Dog"
      ]
     },
     "execution_count": 30,
     "metadata": {},
     "output_type": "execute_result"
    }
   ],
   "source": [
    "type(sammy)"
   ]
  },
  {
   "cell_type": "code",
   "execution_count": 31,
   "id": "02fddd66-6d03-4d12-a649-43eed69af0bc",
   "metadata": {},
   "outputs": [
    {
     "data": {
      "text/plain": [
       "'Sammy'"
      ]
     },
     "execution_count": 31,
     "metadata": {},
     "output_type": "execute_result"
    }
   ],
   "source": [
    "sammy.name"
   ]
  },
  {
   "cell_type": "code",
   "execution_count": 32,
   "id": "70ae0462-4501-4ac6-8265-37f8b42942b5",
   "metadata": {},
   "outputs": [
    {
     "data": {
      "text/plain": [
       "5"
      ]
     },
     "execution_count": 32,
     "metadata": {},
     "output_type": "execute_result"
    }
   ],
   "source": [
    "sammy[0]"
   ]
  },
  {
   "cell_type": "markdown",
   "id": "d0ce328c-cbf5-4cb6-93bd-0d5597c1e54f",
   "metadata": {},
   "source": [
    "# OS module"
   ]
  },
  {
   "cell_type": "code",
   "execution_count": 33,
   "id": "f3b13666-2bfe-42de-8416-3bbf2d206a28",
   "metadata": {},
   "outputs": [
    {
     "data": {
      "text/plain": [
       "'C:\\\\Users\\\\chgra\\\\Desktop\\\\python\\\\Python_JupyterLAB\\\\Udemy'"
      ]
     },
     "execution_count": 33,
     "metadata": {},
     "output_type": "execute_result"
    }
   ],
   "source": [
    "pwd"
   ]
  },
  {
   "cell_type": "code",
   "execution_count": 34,
   "id": "a6303e14-842f-4204-b73f-c077a9ae12fd",
   "metadata": {},
   "outputs": [],
   "source": [
    "f = open('Practice.txt', 'w+')\n",
    "f.write(\"THIS IS A TESTING\")\n",
    "f.close()"
   ]
  },
  {
   "cell_type": "code",
   "execution_count": 35,
   "id": "8f388159-f4b6-480d-be84-7ede029ce856",
   "metadata": {},
   "outputs": [],
   "source": [
    "import os "
   ]
  },
  {
   "cell_type": "code",
   "execution_count": 36,
   "id": "d3b7f220-cd29-4248-96c2-56c196785ac8",
   "metadata": {},
   "outputs": [
    {
     "data": {
      "text/plain": [
       "'C:\\\\Users\\\\chgra\\\\Desktop\\\\python\\\\Python_JupyterLAB\\\\Udemy'"
      ]
     },
     "execution_count": 36,
     "metadata": {},
     "output_type": "execute_result"
    }
   ],
   "source": [
    "os.getcwd()"
   ]
  },
  {
   "cell_type": "code",
   "execution_count": 37,
   "id": "3e215459-fc79-499c-9f07-e9cddb18575e",
   "metadata": {},
   "outputs": [
    {
     "data": {
      "text/plain": [
       "['asdas.JPG',\n",
       " 'CV stuff',\n",
       " 'desktop.ini',\n",
       " 'Extreme Injector v3 - Shortcut.lnk',\n",
       " 'FrostyModManager - Shortcut.lnk',\n",
       " 'new 1.html',\n",
       " 'OLD DSKTP',\n",
       " 'Practice.txt',\n",
       " 'python',\n",
       " '~$esis pre final after referencing.docx',\n",
       " '~$esis pre final without ref.docx',\n",
       " '~$esis pre final.docx',\n",
       " '~$Part A excel.xlsx',\n",
       " '~$trition_Vol_7_No3_p_624-637-converted.docx',\n",
       " '~$w Microsoft Word Document.docx']"
      ]
     },
     "execution_count": 37,
     "metadata": {},
     "output_type": "execute_result"
    }
   ],
   "source": [
    "os.listdir('C:\\\\Users\\\\chgra\\\\Desktop')"
   ]
  },
  {
   "cell_type": "code",
   "execution_count": 38,
   "id": "945bc31c-f48d-4268-b630-1e145a034272",
   "metadata": {},
   "outputs": [],
   "source": [
    "import shutil"
   ]
  },
  {
   "cell_type": "code",
   "execution_count": 39,
   "id": "3063ec87-b032-4ff4-89e2-9c7da9a2cebd",
   "metadata": {},
   "outputs": [
    {
     "ename": "Error",
     "evalue": "Destination path 'C:\\Users\\chgra\\Desktop\\Practice.txt' already exists",
     "output_type": "error",
     "traceback": [
      "\u001b[1;31m---------------------------------------------------------------------------\u001b[0m",
      "\u001b[1;31mError\u001b[0m                                     Traceback (most recent call last)",
      "Input \u001b[1;32mIn [39]\u001b[0m, in \u001b[0;36m<cell line: 1>\u001b[1;34m()\u001b[0m\n\u001b[1;32m----> 1\u001b[0m \u001b[43mshutil\u001b[49m\u001b[38;5;241;43m.\u001b[39;49m\u001b[43mmove\u001b[49m\u001b[43m(\u001b[49m\u001b[38;5;124;43m'\u001b[39;49m\u001b[38;5;124;43mPractice.txt\u001b[39;49m\u001b[38;5;124;43m'\u001b[39;49m\u001b[43m,\u001b[49m\u001b[43m \u001b[49m\u001b[38;5;124;43m'\u001b[39;49m\u001b[38;5;124;43mC:\u001b[39;49m\u001b[38;5;130;43;01m\\\\\u001b[39;49;00m\u001b[38;5;124;43mUsers\u001b[39;49m\u001b[38;5;130;43;01m\\\\\u001b[39;49;00m\u001b[38;5;124;43mchgra\u001b[39;49m\u001b[38;5;130;43;01m\\\\\u001b[39;49;00m\u001b[38;5;124;43mDesktop\u001b[39;49m\u001b[38;5;124;43m'\u001b[39;49m\u001b[43m)\u001b[49m\n",
      "File \u001b[1;32m~\\AppData\\Local\\Programs\\Python\\Python310\\lib\\shutil.py:811\u001b[0m, in \u001b[0;36mmove\u001b[1;34m(src, dst, copy_function)\u001b[0m\n\u001b[0;32m    808\u001b[0m     real_dst \u001b[38;5;241m=\u001b[39m os\u001b[38;5;241m.\u001b[39mpath\u001b[38;5;241m.\u001b[39mjoin(dst, _basename(src))\n\u001b[0;32m    810\u001b[0m     \u001b[38;5;28;01mif\u001b[39;00m os\u001b[38;5;241m.\u001b[39mpath\u001b[38;5;241m.\u001b[39mexists(real_dst):\n\u001b[1;32m--> 811\u001b[0m         \u001b[38;5;28;01mraise\u001b[39;00m Error(\u001b[38;5;124m\"\u001b[39m\u001b[38;5;124mDestination path \u001b[39m\u001b[38;5;124m'\u001b[39m\u001b[38;5;132;01m%s\u001b[39;00m\u001b[38;5;124m'\u001b[39m\u001b[38;5;124m already exists\u001b[39m\u001b[38;5;124m\"\u001b[39m \u001b[38;5;241m%\u001b[39m real_dst)\n\u001b[0;32m    812\u001b[0m \u001b[38;5;28;01mtry\u001b[39;00m:\n\u001b[0;32m    813\u001b[0m     os\u001b[38;5;241m.\u001b[39mrename(src, real_dst)\n",
      "\u001b[1;31mError\u001b[0m: Destination path 'C:\\Users\\chgra\\Desktop\\Practice.txt' already exists"
     ]
    }
   ],
   "source": [
    "shutil.move('Practice.txt', 'C:\\\\Users\\\\chgra\\\\Desktop')"
   ]
  },
  {
   "cell_type": "code",
   "execution_count": 40,
   "id": "2c0cf4a5-4052-4b54-bc84-ca039478fced",
   "metadata": {},
   "outputs": [
    {
     "data": {
      "text/plain": [
       "['.ipynb_checkpoints',\n",
       " '02-Decorators Homework.ipynb',\n",
       " '02-Errors and Exceptions Homework.ipynb',\n",
       " '02-Iterators and Generators Homework.ipynb',\n",
       " '02-Milestone Project 1 - Walkthrough Steps Workbook.ipynb',\n",
       " '07-Advanced-Modules-Exercise-Puzzle.ipynb',\n",
       " '08-Functions and Methods Homework.ipynb',\n",
       " '09-Guessing Game Challenge.ipynb',\n",
       " 'Advanced Module Python.ipynb',\n",
       " 'Calculator.ipynb',\n",
       " 'Cards.ipynb',\n",
       " 'Class and OOP[udemy].ipynb',\n",
       " 'comp_file.zip',\n",
       " 'example.zip',\n",
       " 'extracted_content',\n",
       " 'fileone.tex',\n",
       " 'fileone.txt',\n",
       " 'filetwo.tex',\n",
       " 'filetwo.txt',\n",
       " 'final_unzip',\n",
       " 'Instruction for Puzzle',\n",
       " 'Practice.txt',\n",
       " 'Regular Expression.ipynb',\n",
       " 'Timing Your Code.ipynb',\n",
       " 'Udemy Bootcamp roughkhata.ipynb',\n",
       " 'UDEMY from 77.ipynb',\n",
       " 'Unzipping and zipping.ipynb',\n",
       " 'unzip_me_for_instructions.zip',\n",
       " '[F]02-Milestone Project 2 - Walkthrough Steps Workbook.ipynb',\n",
       " '[F]02-Object Oriented Programming Homework.ipynb',\n",
       " '[F]03-Function Practice Exercises.ipynb',\n",
       " '[F]04-OOP Challenge.ipynb',\n",
       " '[F]07-Statements Assessment Test.ipynb',\n",
       " '[F]09-Objects and Data Structures Assessment Test.ipynb']"
      ]
     },
     "execution_count": 40,
     "metadata": {},
     "output_type": "execute_result"
    }
   ],
   "source": [
    "os.listdir()"
   ]
  },
  {
   "cell_type": "code",
   "execution_count": 41,
   "id": "963d691e-db49-4b49-a593-7178efc1c502",
   "metadata": {},
   "outputs": [],
   "source": [
    "import send2trash"
   ]
  },
  {
   "cell_type": "code",
   "execution_count": 42,
   "id": "5516fc11-0672-401d-8076-d26dc049e069",
   "metadata": {},
   "outputs": [
    {
     "data": {
      "text/plain": [
       "['.ipynb_checkpoints',\n",
       " '02-Decorators Homework.ipynb',\n",
       " '02-Errors and Exceptions Homework.ipynb',\n",
       " '02-Iterators and Generators Homework.ipynb',\n",
       " '02-Milestone Project 1 - Walkthrough Steps Workbook.ipynb',\n",
       " '07-Advanced-Modules-Exercise-Puzzle.ipynb',\n",
       " '08-Functions and Methods Homework.ipynb',\n",
       " '09-Guessing Game Challenge.ipynb',\n",
       " 'Advanced Module Python.ipynb',\n",
       " 'Calculator.ipynb',\n",
       " 'Cards.ipynb',\n",
       " 'Class and OOP[udemy].ipynb',\n",
       " 'comp_file.zip',\n",
       " 'example.zip',\n",
       " 'extracted_content',\n",
       " 'fileone.tex',\n",
       " 'fileone.txt',\n",
       " 'filetwo.tex',\n",
       " 'filetwo.txt',\n",
       " 'final_unzip',\n",
       " 'Instruction for Puzzle',\n",
       " 'Practice.txt',\n",
       " 'Regular Expression.ipynb',\n",
       " 'Timing Your Code.ipynb',\n",
       " 'Udemy Bootcamp roughkhata.ipynb',\n",
       " 'UDEMY from 77.ipynb',\n",
       " 'Unzipping and zipping.ipynb',\n",
       " 'unzip_me_for_instructions.zip',\n",
       " '[F]02-Milestone Project 2 - Walkthrough Steps Workbook.ipynb',\n",
       " '[F]02-Object Oriented Programming Homework.ipynb',\n",
       " '[F]03-Function Practice Exercises.ipynb',\n",
       " '[F]04-OOP Challenge.ipynb',\n",
       " '[F]07-Statements Assessment Test.ipynb',\n",
       " '[F]09-Objects and Data Structures Assessment Test.ipynb']"
      ]
     },
     "execution_count": 42,
     "metadata": {},
     "output_type": "execute_result"
    }
   ],
   "source": [
    "os.listdir()"
   ]
  },
  {
   "cell_type": "code",
   "execution_count": 43,
   "id": "59a2ed43-1939-4365-8198-e7b872085b41",
   "metadata": {},
   "outputs": [],
   "source": [
    "send2trash.send2trash('Practice.txt')"
   ]
  },
  {
   "cell_type": "code",
   "execution_count": 44,
   "id": "5ce3dfdb-76b3-4662-a973-fe1384c17faa",
   "metadata": {},
   "outputs": [
    {
     "data": {
      "text/plain": [
       "['.ipynb_checkpoints',\n",
       " '02-Decorators Homework.ipynb',\n",
       " '02-Errors and Exceptions Homework.ipynb',\n",
       " '02-Iterators and Generators Homework.ipynb',\n",
       " '02-Milestone Project 1 - Walkthrough Steps Workbook.ipynb',\n",
       " '07-Advanced-Modules-Exercise-Puzzle.ipynb',\n",
       " '08-Functions and Methods Homework.ipynb',\n",
       " '09-Guessing Game Challenge.ipynb',\n",
       " 'Advanced Module Python.ipynb',\n",
       " 'Calculator.ipynb',\n",
       " 'Cards.ipynb',\n",
       " 'Class and OOP[udemy].ipynb',\n",
       " 'comp_file.zip',\n",
       " 'example.zip',\n",
       " 'extracted_content',\n",
       " 'fileone.tex',\n",
       " 'fileone.txt',\n",
       " 'filetwo.tex',\n",
       " 'filetwo.txt',\n",
       " 'final_unzip',\n",
       " 'Instruction for Puzzle',\n",
       " 'Regular Expression.ipynb',\n",
       " 'Timing Your Code.ipynb',\n",
       " 'Udemy Bootcamp roughkhata.ipynb',\n",
       " 'UDEMY from 77.ipynb',\n",
       " 'Unzipping and zipping.ipynb',\n",
       " 'unzip_me_for_instructions.zip',\n",
       " '[F]02-Milestone Project 2 - Walkthrough Steps Workbook.ipynb',\n",
       " '[F]02-Object Oriented Programming Homework.ipynb',\n",
       " '[F]03-Function Practice Exercises.ipynb',\n",
       " '[F]04-OOP Challenge.ipynb',\n",
       " '[F]07-Statements Assessment Test.ipynb',\n",
       " '[F]09-Objects and Data Structures Assessment Test.ipynb']"
      ]
     },
     "execution_count": 44,
     "metadata": {},
     "output_type": "execute_result"
    }
   ],
   "source": [
    "os.listdir()"
   ]
  },
  {
   "cell_type": "code",
   "execution_count": 45,
   "id": "d5464273-06c6-4189-a01b-01b7c6ee9c15",
   "metadata": {},
   "outputs": [
    {
     "name": "stdout",
     "output_type": "stream",
     "text": [
      "Currently looking at C:\\Users\\chgra\\Desktop\\python\\Python_JupyterLAB\\Udemy\n",
      "\n",
      "The subfolders are: \n",
      "Subfolder: .ipynb_checkpoints\n",
      "Subfolder: extracted_content\n",
      "Subfolder: final_unzip\n",
      "Subfolder: Instruction for Puzzle\n",
      "\n",
      " The files are: \n",
      "\t File: 02-Decorators Homework.ipynb\n",
      "\t File: 02-Errors and Exceptions Homework.ipynb\n",
      "\t File: 02-Iterators and Generators Homework.ipynb\n",
      "\t File: 02-Milestone Project 1 - Walkthrough Steps Workbook.ipynb\n",
      "\t File: 07-Advanced-Modules-Exercise-Puzzle.ipynb\n",
      "\t File: 08-Functions and Methods Homework.ipynb\n",
      "\t File: 09-Guessing Game Challenge.ipynb\n",
      "\t File: Advanced Module Python.ipynb\n",
      "\t File: Calculator.ipynb\n",
      "\t File: Cards.ipynb\n",
      "\t File: Class and OOP[udemy].ipynb\n",
      "\t File: comp_file.zip\n",
      "\t File: example.zip\n",
      "\t File: fileone.tex\n",
      "\t File: fileone.txt\n",
      "\t File: filetwo.tex\n",
      "\t File: filetwo.txt\n",
      "\t File: Regular Expression.ipynb\n",
      "\t File: Timing Your Code.ipynb\n",
      "\t File: Udemy Bootcamp roughkhata.ipynb\n",
      "\t File: UDEMY from 77.ipynb\n",
      "\t File: Unzipping and zipping.ipynb\n",
      "\t File: unzip_me_for_instructions.zip\n",
      "\t File: [F]02-Milestone Project 2 - Walkthrough Steps Workbook.ipynb\n",
      "\t File: [F]02-Object Oriented Programming Homework.ipynb\n",
      "\t File: [F]03-Function Practice Exercises.ipynb\n",
      "\t File: [F]04-OOP Challenge.ipynb\n",
      "\t File: [F]07-Statements Assessment Test.ipynb\n",
      "\t File: [F]09-Objects and Data Structures Assessment Test.ipynb\n",
      "Currently looking at C:\\Users\\chgra\\Desktop\\python\\Python_JupyterLAB\\Udemy\\.ipynb_checkpoints\n",
      "\n",
      "The subfolders are: \n",
      "\n",
      " The files are: \n",
      "\t File: 02-Decorators Homework-checkpoint.ipynb\n",
      "\t File: 02-Errors and Exceptions Homework-checkpoint.ipynb\n",
      "\t File: 02-Iterators and Generators Homework-checkpoint.ipynb\n",
      "\t File: 02-Milestone Project 1 - Walkthrough Steps Workbook-checkpoint.ipynb\n",
      "\t File: 07-Advanced-Modules-Exercise-Puzzle-checkpoint.ipynb\n",
      "\t File: 08-Functions and Methods Homework-checkpoint.ipynb\n",
      "\t File: 09-Guessing Game Challenge-checkpoint.ipynb\n",
      "\t File: Advanced Module Python-checkpoint.ipynb\n",
      "\t File: Calculator-checkpoint.ipynb\n",
      "\t File: Cards-checkpoint.ipynb\n",
      "\t File: Class and OOP[udemy]-checkpoint.ipynb\n",
      "\t File: Regular Expression-checkpoint.ipynb\n",
      "\t File: Timing Your Code-checkpoint.ipynb\n",
      "\t File: Udemy Bootcamp roughkhata-checkpoint.ipynb\n",
      "\t File: UDEMY from 77-checkpoint.ipynb\n",
      "\t File: Unzipping and zipping-checkpoint.ipynb\n",
      "\t File: [F]02-Milestone Project 2 - Walkthrough Steps Workbook-checkpoint.ipynb\n",
      "\t File: [F]02-Object Oriented Programming Homework-checkpoint.ipynb\n",
      "\t File: [F]03-Function Practice Exercises-checkpoint.ipynb\n",
      "\t File: [F]04-OOP Challenge-checkpoint.ipynb\n",
      "\t File: [F]07-Statements Assessment Test-checkpoint.ipynb\n",
      "\t File: [F]09-Objects and Data Structures Assessment Test-checkpoint.ipynb\n",
      "Currently looking at C:\\Users\\chgra\\Desktop\\python\\Python_JupyterLAB\\Udemy\\extracted_content\n",
      "\n",
      "The subfolders are: \n",
      "\n",
      " The files are: \n",
      "\t File: fileone.txt\n",
      "\t File: filetwo.txt\n",
      "Currently looking at C:\\Users\\chgra\\Desktop\\python\\Python_JupyterLAB\\Udemy\\final_unzip\n",
      "\n",
      "The subfolders are: \n",
      "\n",
      " The files are: \n",
      "\t File: fileone.txt\n",
      "\t File: filetwo.txt\n",
      "Currently looking at C:\\Users\\chgra\\Desktop\\python\\Python_JupyterLAB\\Udemy\\Instruction for Puzzle\n",
      "\n",
      "The subfolders are: \n",
      "Subfolder: extracted_content\n",
      "\n",
      " The files are: \n",
      "Currently looking at C:\\Users\\chgra\\Desktop\\python\\Python_JupyterLAB\\Udemy\\Instruction for Puzzle\\extracted_content\n",
      "\n",
      "The subfolders are: \n",
      "Subfolder: .ipynb_checkpoints\n",
      "Subfolder: Five\n",
      "Subfolder: Four\n",
      "Subfolder: One\n",
      "Subfolder: Three\n",
      "Subfolder: Two\n",
      "\n",
      " The files are: \n",
      "\t File: Instructions.txt\n",
      "Currently looking at C:\\Users\\chgra\\Desktop\\python\\Python_JupyterLAB\\Udemy\\Instruction for Puzzle\\extracted_content\\.ipynb_checkpoints\n",
      "\n",
      "The subfolders are: \n",
      "\n",
      " The files are: \n",
      "\t File: Instructions-checkpoint.txt\n",
      "Currently looking at C:\\Users\\chgra\\Desktop\\python\\Python_JupyterLAB\\Udemy\\Instruction for Puzzle\\extracted_content\\Five\n",
      "\n",
      "The subfolders are: \n",
      "\n",
      " The files are: \n",
      "\t File: AEITMYIRQLP.txt\n",
      "\t File: APJKSRITGGX.txt\n",
      "\t File: AQKATDFGXTS.txt\n",
      "\t File: ARLKFCWIAJE.txt\n",
      "\t File: AXJGVPVEFAS.txt\n",
      "\t File: BNUQEHCFRTG.txt\n",
      "\t File: BSKJDRNEZQM.txt\n",
      "\t File: BTYWAHLHKBM.txt\n",
      "\t File: BUGKBZWRRVI.txt\n",
      "\t File: BVBURZZCAPR.txt\n",
      "\t File: CAHBEVSVDDN.txt\n",
      "\t File: COMGMZBJAYE.txt\n",
      "\t File: CRFSDGYFSHA.txt\n",
      "\t File: CSCLFZCDYYC.txt\n",
      "\t File: CXBVCTRBBIE.txt\n",
      "\t File: DDLASODUVPX.txt\n",
      "\t File: DHZBAAYEADM.txt\n",
      "\t File: DQPZQLBCJYP.txt\n",
      "\t File: DYOPIIVMZOO.txt\n",
      "\t File: DZUWWXYIAEL.txt\n",
      "\t File: EAAOEPSAWMQ.txt\n",
      "\t File: EIPWXMQZJKU.txt\n",
      "\t File: ESIZWBHMGDP.txt\n",
      "\t File: ETCUEXWNBCF.txt\n",
      "\t File: EYTCGIOYWIW.txt\n",
      "Currently looking at C:\\Users\\chgra\\Desktop\\python\\Python_JupyterLAB\\Udemy\\Instruction for Puzzle\\extracted_content\\Four\n",
      "\n",
      "The subfolders are: \n",
      "\n",
      " The files are: \n",
      "\t File: ECIOBYCDVFI.txt\n",
      "\t File: EMTGPSXQEJX.txt\n",
      "\t File: EPRNUHRSESC.txt\n",
      "\t File: ESDIZXHYCVY.txt\n",
      "\t File: EXVQSVBQQQH.txt\n",
      "\t File: QCTCKDIBBVG.txt\n",
      "\t File: QCWCFLKNZMN.txt\n",
      "\t File: QDDETWBHJYC.txt\n",
      "\t File: QTDYYIFPHAU.txt\n",
      "\t File: QVNJULGXNUM.txt\n",
      "\t File: REAXWSOIQDY.txt\n",
      "\t File: ROICPTWKXDX.txt\n",
      "\t File: RSXOTNGKBML.txt\n",
      "\t File: RXDARIDGKBF.txt\n",
      "\t File: RYNXFYXMKHG.txt\n",
      "\t File: TAKNAVDMZKV.txt\n",
      "\t File: THPNEGKTJWI.txt\n",
      "\t File: TJFMLJODVAD.txt\n",
      "\t File: TKCZSFQNJTX.txt\n",
      "\t File: TWUOYFCCYBQ.txt\n",
      "\t File: WFSKPTXPFCH.txt\n",
      "\t File: WHTOHQUWXIN.txt\n",
      "\t File: WNJISWPEBRS.txt\n",
      "\t File: WXDJDOGZEHN.txt\n",
      "\t File: WYDLGSGGXKV.txt\n",
      "Currently looking at C:\\Users\\chgra\\Desktop\\python\\Python_JupyterLAB\\Udemy\\Instruction for Puzzle\\extracted_content\\One\n",
      "\n",
      "The subfolders are: \n",
      "\n",
      " The files are: \n",
      "\t File: HDOHZHFSTTK.txt\n",
      "\t File: HFUTPPAXDIS.txt\n",
      "\t File: HMNZTLIFGPD.txt\n",
      "\t File: HRQFTHKVJTL.txt\n",
      "\t File: HVUTZEVMSBW.txt\n",
      "\t File: JDLRVFCXYLU.txt\n",
      "\t File: JEHBLZPUPSP.txt\n",
      "\t File: JLTXKIGCWDL.txt\n",
      "\t File: JQUOBKFUACN.txt\n",
      "\t File: JTHSNBNPQSE.txt\n",
      "\t File: KCXGNQCZBLO.txt\n",
      "\t File: KFIUZFERLET.txt\n",
      "\t File: KMMLGJOWLGI.txt\n",
      "\t File: KNBSKDREHQU.txt\n",
      "\t File: KTXDHIOKAUI.txt\n",
      "\t File: LDGOCUQJNNS.txt\n",
      "\t File: LFEATJAAYDC.txt\n",
      "\t File: LHODFIKVTQA.txt\n",
      "\t File: LIFDHOFKWOI.txt\n",
      "\t File: LPNDVDXPZIG.txt\n",
      "\t File: PDJMSMNKIRM.txt\n",
      "\t File: PHWAVPEKAER.txt\n",
      "\t File: PLYCGPVEAWO.txt\n",
      "\t File: PQNVCVJINAR.txt\n",
      "\t File: PTOBBCJYURJ.txt\n",
      "Currently looking at C:\\Users\\chgra\\Desktop\\python\\Python_JupyterLAB\\Udemy\\Instruction for Puzzle\\extracted_content\\Three\n",
      "\n",
      "The subfolders are: \n",
      "\n",
      " The files are: \n",
      "\t File: VAQIJTDOFUJ.txt\n",
      "\t File: VCFJCGJFBIH.txt\n",
      "\t File: VSXFSTABZDY.txt\n",
      "\t File: VVHFVZUNLOO.txt\n",
      "\t File: VVKGWLRMHLU.txt\n",
      "\t File: XAJMCPEWFNI.txt\n",
      "\t File: XFHJOTNPEJG.txt\n",
      "\t File: XHZPVUQTXIO.txt\n",
      "\t File: XJCWENFFGHB.txt\n",
      "\t File: XVMPVSVYKFR.txt\n",
      "\t File: YCESZHJDBXH.txt\n",
      "\t File: YDQFMWXOUMW.txt\n",
      "\t File: YQBIUHSUEVW.txt\n",
      "\t File: YQRNCMNFFHW.txt\n",
      "\t File: YYIZGBTQHZP.txt\n",
      "\t File: ZEZKKRBIZEB.txt\n",
      "\t File: ZKQJXAYKPVD.txt\n",
      "\t File: ZOWVXWPOGWP.txt\n",
      "\t File: ZXEZRQXZNPG.txt\n",
      "\t File: ZXIBJMPROKW.txt\n",
      "Currently looking at C:\\Users\\chgra\\Desktop\\python\\Python_JupyterLAB\\Udemy\\Instruction for Puzzle\\extracted_content\\Two\n",
      "\n",
      "The subfolders are: \n",
      "\n",
      " The files are: \n",
      "\t File: GKQBQRCTNNK.txt\n",
      "\t File: GMMQQUBMJNR.txt\n",
      "\t File: GQTJJORZBXY.txt\n",
      "\t File: GTOTCIWMDBY.txt\n",
      "\t File: GXYSEPAFRTP.txt\n",
      "\t File: HARDNJGDRBC.txt\n",
      "\t File: HEORIXOTANT.txt\n",
      "\t File: HMUTDOVNYTV.txt\n",
      "\t File: HMZXPBOPRAE.txt\n",
      "\t File: HTOHSTYXTCO.txt\n",
      "\t File: LCJZYDHBFRM.txt\n",
      "\t File: LSQSTGPIGIY.txt\n",
      "\t File: LULTNYAQEJG.txt\n",
      "\t File: LVMBINRBJXL.txt\n",
      "\t File: LYZEQCVYNEZ.txt\n",
      "\t File: OHZOUOSFJQC.txt\n",
      "\t File: OIHMLGMWTHL.txt\n",
      "\t File: OKWFOOYTXFU.txt\n",
      "\t File: OMWIMVRCMYM.txt\n",
      "\t File: OYMAGXAGWHJ.txt\n",
      "\t File: SIKFPPLCJDN.txt\n",
      "\t File: SJMJLDGPBSJ.txt\n",
      "\t File: SOFUJYXTIMK.txt\n",
      "\t File: SPDZYGDHEWO.txt\n",
      "\t File: SWOFXREEHWA.txt\n"
     ]
    }
   ],
   "source": [
    "for folder,sub_folders,files in os.walk(os.getcwd()):\n",
    "    \n",
    "    print(f\"Currently looking at {folder}\")\n",
    "    print(\"\\nThe subfolders are: \")\n",
    "    for sub_folder in sub_folders:\n",
    "        print(f\"Subfolder: {sub_folder}\")\n",
    "        \n",
    "        \n",
    "    print(\"\\n The files are: \")\n",
    "    for f in files:\n",
    "        print(f\"\\t File: {f}\")"
   ]
  },
  {
   "cell_type": "code",
   "execution_count": 46,
   "id": "8be9cbe6-05a7-4936-aa1e-31bb7ac1f596",
   "metadata": {},
   "outputs": [
    {
     "name": "stdout",
     "output_type": "stream",
     "text": [
      "\n",
      " C:\\Users\\chgra\\Desktop\\python\\Python_JupyterLAB\\Udemy \n",
      " ['.ipynb_checkpoints', 'extracted_content', 'final_unzip', 'Instruction for Puzzle'] \n",
      " ['02-Decorators Homework.ipynb', '02-Errors and Exceptions Homework.ipynb', '02-Iterators and Generators Homework.ipynb', '02-Milestone Project 1 - Walkthrough Steps Workbook.ipynb', '07-Advanced-Modules-Exercise-Puzzle.ipynb', '08-Functions and Methods Homework.ipynb', '09-Guessing Game Challenge.ipynb', 'Advanced Module Python.ipynb', 'Calculator.ipynb', 'Cards.ipynb', 'Class and OOP[udemy].ipynb', 'comp_file.zip', 'example.zip', 'fileone.tex', 'fileone.txt', 'filetwo.tex', 'filetwo.txt', 'Regular Expression.ipynb', 'Timing Your Code.ipynb', 'Udemy Bootcamp roughkhata.ipynb', 'UDEMY from 77.ipynb', 'Unzipping and zipping.ipynb', 'unzip_me_for_instructions.zip', '[F]02-Milestone Project 2 - Walkthrough Steps Workbook.ipynb', '[F]02-Object Oriented Programming Homework.ipynb', '[F]03-Function Practice Exercises.ipynb', '[F]04-OOP Challenge.ipynb', '[F]07-Statements Assessment Test.ipynb', '[F]09-Objects and Data Structures Assessment Test.ipynb']\n",
      "\n",
      " C:\\Users\\chgra\\Desktop\\python\\Python_JupyterLAB\\Udemy\\.ipynb_checkpoints \n",
      " [] \n",
      " ['02-Decorators Homework-checkpoint.ipynb', '02-Errors and Exceptions Homework-checkpoint.ipynb', '02-Iterators and Generators Homework-checkpoint.ipynb', '02-Milestone Project 1 - Walkthrough Steps Workbook-checkpoint.ipynb', '07-Advanced-Modules-Exercise-Puzzle-checkpoint.ipynb', '08-Functions and Methods Homework-checkpoint.ipynb', '09-Guessing Game Challenge-checkpoint.ipynb', 'Advanced Module Python-checkpoint.ipynb', 'Calculator-checkpoint.ipynb', 'Cards-checkpoint.ipynb', 'Class and OOP[udemy]-checkpoint.ipynb', 'Regular Expression-checkpoint.ipynb', 'Timing Your Code-checkpoint.ipynb', 'Udemy Bootcamp roughkhata-checkpoint.ipynb', 'UDEMY from 77-checkpoint.ipynb', 'Unzipping and zipping-checkpoint.ipynb', '[F]02-Milestone Project 2 - Walkthrough Steps Workbook-checkpoint.ipynb', '[F]02-Object Oriented Programming Homework-checkpoint.ipynb', '[F]03-Function Practice Exercises-checkpoint.ipynb', '[F]04-OOP Challenge-checkpoint.ipynb', '[F]07-Statements Assessment Test-checkpoint.ipynb', '[F]09-Objects and Data Structures Assessment Test-checkpoint.ipynb']\n",
      "\n",
      " C:\\Users\\chgra\\Desktop\\python\\Python_JupyterLAB\\Udemy\\extracted_content \n",
      " [] \n",
      " ['fileone.txt', 'filetwo.txt']\n",
      "\n",
      " C:\\Users\\chgra\\Desktop\\python\\Python_JupyterLAB\\Udemy\\final_unzip \n",
      " [] \n",
      " ['fileone.txt', 'filetwo.txt']\n",
      "\n",
      " C:\\Users\\chgra\\Desktop\\python\\Python_JupyterLAB\\Udemy\\Instruction for Puzzle \n",
      " ['extracted_content'] \n",
      " []\n",
      "\n",
      " C:\\Users\\chgra\\Desktop\\python\\Python_JupyterLAB\\Udemy\\Instruction for Puzzle\\extracted_content \n",
      " ['.ipynb_checkpoints', 'Five', 'Four', 'One', 'Three', 'Two'] \n",
      " ['Instructions.txt']\n",
      "\n",
      " C:\\Users\\chgra\\Desktop\\python\\Python_JupyterLAB\\Udemy\\Instruction for Puzzle\\extracted_content\\.ipynb_checkpoints \n",
      " [] \n",
      " ['Instructions-checkpoint.txt']\n",
      "\n",
      " C:\\Users\\chgra\\Desktop\\python\\Python_JupyterLAB\\Udemy\\Instruction for Puzzle\\extracted_content\\Five \n",
      " [] \n",
      " ['AEITMYIRQLP.txt', 'APJKSRITGGX.txt', 'AQKATDFGXTS.txt', 'ARLKFCWIAJE.txt', 'AXJGVPVEFAS.txt', 'BNUQEHCFRTG.txt', 'BSKJDRNEZQM.txt', 'BTYWAHLHKBM.txt', 'BUGKBZWRRVI.txt', 'BVBURZZCAPR.txt', 'CAHBEVSVDDN.txt', 'COMGMZBJAYE.txt', 'CRFSDGYFSHA.txt', 'CSCLFZCDYYC.txt', 'CXBVCTRBBIE.txt', 'DDLASODUVPX.txt', 'DHZBAAYEADM.txt', 'DQPZQLBCJYP.txt', 'DYOPIIVMZOO.txt', 'DZUWWXYIAEL.txt', 'EAAOEPSAWMQ.txt', 'EIPWXMQZJKU.txt', 'ESIZWBHMGDP.txt', 'ETCUEXWNBCF.txt', 'EYTCGIOYWIW.txt']\n",
      "\n",
      " C:\\Users\\chgra\\Desktop\\python\\Python_JupyterLAB\\Udemy\\Instruction for Puzzle\\extracted_content\\Four \n",
      " [] \n",
      " ['ECIOBYCDVFI.txt', 'EMTGPSXQEJX.txt', 'EPRNUHRSESC.txt', 'ESDIZXHYCVY.txt', 'EXVQSVBQQQH.txt', 'QCTCKDIBBVG.txt', 'QCWCFLKNZMN.txt', 'QDDETWBHJYC.txt', 'QTDYYIFPHAU.txt', 'QVNJULGXNUM.txt', 'REAXWSOIQDY.txt', 'ROICPTWKXDX.txt', 'RSXOTNGKBML.txt', 'RXDARIDGKBF.txt', 'RYNXFYXMKHG.txt', 'TAKNAVDMZKV.txt', 'THPNEGKTJWI.txt', 'TJFMLJODVAD.txt', 'TKCZSFQNJTX.txt', 'TWUOYFCCYBQ.txt', 'WFSKPTXPFCH.txt', 'WHTOHQUWXIN.txt', 'WNJISWPEBRS.txt', 'WXDJDOGZEHN.txt', 'WYDLGSGGXKV.txt']\n",
      "\n",
      " C:\\Users\\chgra\\Desktop\\python\\Python_JupyterLAB\\Udemy\\Instruction for Puzzle\\extracted_content\\One \n",
      " [] \n",
      " ['HDOHZHFSTTK.txt', 'HFUTPPAXDIS.txt', 'HMNZTLIFGPD.txt', 'HRQFTHKVJTL.txt', 'HVUTZEVMSBW.txt', 'JDLRVFCXYLU.txt', 'JEHBLZPUPSP.txt', 'JLTXKIGCWDL.txt', 'JQUOBKFUACN.txt', 'JTHSNBNPQSE.txt', 'KCXGNQCZBLO.txt', 'KFIUZFERLET.txt', 'KMMLGJOWLGI.txt', 'KNBSKDREHQU.txt', 'KTXDHIOKAUI.txt', 'LDGOCUQJNNS.txt', 'LFEATJAAYDC.txt', 'LHODFIKVTQA.txt', 'LIFDHOFKWOI.txt', 'LPNDVDXPZIG.txt', 'PDJMSMNKIRM.txt', 'PHWAVPEKAER.txt', 'PLYCGPVEAWO.txt', 'PQNVCVJINAR.txt', 'PTOBBCJYURJ.txt']\n",
      "\n",
      " C:\\Users\\chgra\\Desktop\\python\\Python_JupyterLAB\\Udemy\\Instruction for Puzzle\\extracted_content\\Three \n",
      " [] \n",
      " ['VAQIJTDOFUJ.txt', 'VCFJCGJFBIH.txt', 'VSXFSTABZDY.txt', 'VVHFVZUNLOO.txt', 'VVKGWLRMHLU.txt', 'XAJMCPEWFNI.txt', 'XFHJOTNPEJG.txt', 'XHZPVUQTXIO.txt', 'XJCWENFFGHB.txt', 'XVMPVSVYKFR.txt', 'YCESZHJDBXH.txt', 'YDQFMWXOUMW.txt', 'YQBIUHSUEVW.txt', 'YQRNCMNFFHW.txt', 'YYIZGBTQHZP.txt', 'ZEZKKRBIZEB.txt', 'ZKQJXAYKPVD.txt', 'ZOWVXWPOGWP.txt', 'ZXEZRQXZNPG.txt', 'ZXIBJMPROKW.txt']\n",
      "\n",
      " C:\\Users\\chgra\\Desktop\\python\\Python_JupyterLAB\\Udemy\\Instruction for Puzzle\\extracted_content\\Two \n",
      " [] \n",
      " ['GKQBQRCTNNK.txt', 'GMMQQUBMJNR.txt', 'GQTJJORZBXY.txt', 'GTOTCIWMDBY.txt', 'GXYSEPAFRTP.txt', 'HARDNJGDRBC.txt', 'HEORIXOTANT.txt', 'HMUTDOVNYTV.txt', 'HMZXPBOPRAE.txt', 'HTOHSTYXTCO.txt', 'LCJZYDHBFRM.txt', 'LSQSTGPIGIY.txt', 'LULTNYAQEJG.txt', 'LVMBINRBJXL.txt', 'LYZEQCVYNEZ.txt', 'OHZOUOSFJQC.txt', 'OIHMLGMWTHL.txt', 'OKWFOOYTXFU.txt', 'OMWIMVRCMYM.txt', 'OYMAGXAGWHJ.txt', 'SIKFPPLCJDN.txt', 'SJMJLDGPBSJ.txt', 'SOFUJYXTIMK.txt', 'SPDZYGDHEWO.txt', 'SWOFXREEHWA.txt']\n"
     ]
    }
   ],
   "source": [
    "for a,b,c in os.walk(os.getcwd()):\n",
    "    print(\"\\n\",a,\"\\n\",b,\"\\n\",c)"
   ]
  },
  {
   "cell_type": "markdown",
   "id": "4bd8abc1-1182-481c-b139-7e07e6a42675",
   "metadata": {},
   "source": [
    "# Datetime Module"
   ]
  },
  {
   "cell_type": "code",
   "execution_count": null,
   "id": "b171ffd4-3a49-4894-89f4-eeba77a1ea7a",
   "metadata": {},
   "outputs": [],
   "source": [
    "import datetime"
   ]
  },
  {
   "cell_type": "code",
   "execution_count": null,
   "id": "9fde9960-bc04-4967-bdf0-d77ca1d4775f",
   "metadata": {},
   "outputs": [],
   "source": [
    "mytime = datetime.time(15,10,1,20)"
   ]
  },
  {
   "cell_type": "code",
   "execution_count": null,
   "id": "91e4024c-a08f-48ee-8906-fdb4a8388a2c",
   "metadata": {},
   "outputs": [],
   "source": [
    "mytime.minute"
   ]
  },
  {
   "cell_type": "code",
   "execution_count": null,
   "id": "1c646d51-39a7-4fb5-9f8e-31f39aead20d",
   "metadata": {},
   "outputs": [],
   "source": [
    "print(mytime)"
   ]
  },
  {
   "cell_type": "code",
   "execution_count": null,
   "id": "0479822a-0fcb-46ea-aa3c-e44b71f22a2e",
   "metadata": {},
   "outputs": [],
   "source": [
    "today = datetime.date.today()"
   ]
  },
  {
   "cell_type": "code",
   "execution_count": null,
   "id": "70d74227-ccb6-4688-80e0-83715ef6214d",
   "metadata": {},
   "outputs": [],
   "source": [
    "print(today)"
   ]
  },
  {
   "cell_type": "code",
   "execution_count": null,
   "id": "87ad3b60-cce6-4330-b193-dae6ed1ef3fa",
   "metadata": {},
   "outputs": [],
   "source": [
    "today.day"
   ]
  },
  {
   "cell_type": "code",
   "execution_count": null,
   "id": "17d21aed-73f5-404c-8e33-abb158d8a719",
   "metadata": {},
   "outputs": [],
   "source": [
    "today.ctime()"
   ]
  },
  {
   "cell_type": "code",
   "execution_count": null,
   "id": "41260b1b-4fe2-43bf-a140-9a73f1fac62a",
   "metadata": {},
   "outputs": [],
   "source": [
    "from datetime import datetime"
   ]
  },
  {
   "cell_type": "code",
   "execution_count": null,
   "id": "2aa2a117-39e0-4db0-a192-8d12a276d121",
   "metadata": {},
   "outputs": [],
   "source": [
    "mydt = datetime(2022,10,3,14,20,1)"
   ]
  },
  {
   "cell_type": "code",
   "execution_count": null,
   "id": "e0f416b4-6779-4cda-b2f3-0babbc924d19",
   "metadata": {},
   "outputs": [],
   "source": [
    "print(mydt)"
   ]
  },
  {
   "cell_type": "code",
   "execution_count": null,
   "id": "d49b25c4-0623-4683-8339-2a83a7028271",
   "metadata": {},
   "outputs": [],
   "source": [
    "mydt=mydt.replace(year = 2023)"
   ]
  },
  {
   "cell_type": "code",
   "execution_count": null,
   "id": "c8e10450-44bf-4b95-9c6c-501d3018fae9",
   "metadata": {},
   "outputs": [],
   "source": [
    "print(mydt)"
   ]
  },
  {
   "cell_type": "code",
   "execution_count": null,
   "id": "9bb8ea0a-29b5-4949-a983-92296fb9529e",
   "metadata": {},
   "outputs": [],
   "source": [
    "#date"
   ]
  },
  {
   "cell_type": "code",
   "execution_count": null,
   "id": "c15722d1-a927-4413-84d4-39e820d507bc",
   "metadata": {},
   "outputs": [],
   "source": [
    "from datetime import date"
   ]
  },
  {
   "cell_type": "code",
   "execution_count": null,
   "id": "6f39174b-a1f1-4ed5-a463-464c96f96980",
   "metadata": {},
   "outputs": [],
   "source": [
    "date1 = date(2023,11,3)\n",
    "date2 = date(2024,11,9)"
   ]
  },
  {
   "cell_type": "code",
   "execution_count": null,
   "id": "e8d650f9-b9ed-4277-9df9-d4288b0366df",
   "metadata": {},
   "outputs": [],
   "source": [
    "result = date1 - date2"
   ]
  },
  {
   "cell_type": "code",
   "execution_count": null,
   "id": "b2a290a2-a08d-4c05-82ab-9cba1255531b",
   "metadata": {},
   "outputs": [],
   "source": [
    "type(result)"
   ]
  },
  {
   "cell_type": "code",
   "execution_count": null,
   "id": "eae1f53e-5d65-41a1-a82f-80567a2e5172",
   "metadata": {},
   "outputs": [],
   "source": [
    "result.days"
   ]
  },
  {
   "cell_type": "markdown",
   "id": "164f45d3-34bc-4a7e-b03e-3b493e541dba",
   "metadata": {},
   "source": [
    "# MATH & RANDOM"
   ]
  },
  {
   "cell_type": "code",
   "execution_count": null,
   "id": "05bb25ba-cd64-4393-9034-8fa25785a691",
   "metadata": {},
   "outputs": [],
   "source": [
    "import math"
   ]
  },
  {
   "cell_type": "code",
   "execution_count": null,
   "id": "f027e948-3912-4cf6-aac7-1aa1d5025805",
   "metadata": {},
   "outputs": [],
   "source": [
    "math.pi"
   ]
  },
  {
   "cell_type": "code",
   "execution_count": null,
   "id": "e1feba79-bf58-4437-a2d8-6a94375680ed",
   "metadata": {},
   "outputs": [],
   "source": [
    "math.e"
   ]
  },
  {
   "cell_type": "code",
   "execution_count": null,
   "id": "66ab68dd-5587-487f-816c-944b7fd5c670",
   "metadata": {},
   "outputs": [],
   "source": [
    "math.log(math.e)"
   ]
  },
  {
   "cell_type": "code",
   "execution_count": null,
   "id": "f5def22b-a125-40a7-ac43-382788add050",
   "metadata": {},
   "outputs": [],
   "source": [
    "math.log(100,8)"
   ]
  },
  {
   "cell_type": "code",
   "execution_count": null,
   "id": "71aa76ec-415e-4886-90ae-8ec53676c340",
   "metadata": {},
   "outputs": [],
   "source": [
    "math.sin(10)"
   ]
  },
  {
   "cell_type": "code",
   "execution_count": null,
   "id": "9e5d3336-71ac-4e4d-92d0-6d272b2dd67e",
   "metadata": {},
   "outputs": [],
   "source": [
    "math.degrees(math.pi/2)"
   ]
  },
  {
   "cell_type": "code",
   "execution_count": null,
   "id": "1c1790dc-b3d6-45af-9d42-a32437a69a35",
   "metadata": {},
   "outputs": [],
   "source": [
    "import random"
   ]
  },
  {
   "cell_type": "code",
   "execution_count": null,
   "id": "5b855c02-f2aa-4008-a3b8-36b93c02a55a",
   "metadata": {},
   "outputs": [],
   "source": [
    "random.randint(0,1000)"
   ]
  },
  {
   "cell_type": "code",
   "execution_count": null,
   "id": "c918e5d8-0310-4190-81a5-a17c8d7c1c9d",
   "metadata": {},
   "outputs": [],
   "source": [
    "random.seed(101)\n",
    "\n",
    "random.randint(0,100)"
   ]
  },
  {
   "cell_type": "code",
   "execution_count": null,
   "id": "cdb4ceb8-fc07-415c-b0fa-ab9d957460b7",
   "metadata": {},
   "outputs": [],
   "source": [
    "print(random.randint(0,100))\n",
    "print(random.randint(0,100))\n",
    "print(random.randint(0,100))\n",
    "print(random.randint(0,100))\n",
    "print(random.randint(0,100))"
   ]
  },
  {
   "cell_type": "code",
   "execution_count": null,
   "id": "2b7ab134-3b57-4129-81be-c38781be30f5",
   "metadata": {},
   "outputs": [],
   "source": [
    "mylist = list(range(0,20))"
   ]
  },
  {
   "cell_type": "code",
   "execution_count": null,
   "id": "c9c5687c-5a42-4c4c-abe3-ead6dda11a0f",
   "metadata": {},
   "outputs": [],
   "source": [
    "mylist"
   ]
  },
  {
   "cell_type": "code",
   "execution_count": null,
   "id": "e18e9374-9cd0-4e7c-a645-6f4a9a605668",
   "metadata": {},
   "outputs": [],
   "source": [
    "random.choice(mylist)"
   ]
  },
  {
   "cell_type": "code",
   "execution_count": null,
   "id": "0a946e28-7e0e-4aa1-9d7e-06fe85eecbe3",
   "metadata": {},
   "outputs": [],
   "source": [
    "#sample with replacement"
   ]
  },
  {
   "cell_type": "code",
   "execution_count": null,
   "id": "8fbb3c11-3498-4952-a1eb-f441e3415ea9",
   "metadata": {},
   "outputs": [],
   "source": [
    "random.choices(population=mylist, k=10)"
   ]
  },
  {
   "cell_type": "code",
   "execution_count": null,
   "id": "55dbf0c5-368d-4159-a929-96f59bf4c821",
   "metadata": {},
   "outputs": [],
   "source": [
    "#sample without replacement"
   ]
  },
  {
   "cell_type": "code",
   "execution_count": null,
   "id": "2666ec1c-8f0f-49c0-a1fe-350ba5a7639f",
   "metadata": {},
   "outputs": [],
   "source": [
    "random.sample(population=mylist,k=10)"
   ]
  },
  {
   "cell_type": "code",
   "execution_count": null,
   "id": "7bd5966a-aae1-45ca-8a7c-40e0d3c2c48e",
   "metadata": {},
   "outputs": [],
   "source": [
    "mylist"
   ]
  },
  {
   "cell_type": "code",
   "execution_count": null,
   "id": "e12be6af-f2fa-49eb-b8ac-4e2ad54a56e5",
   "metadata": {},
   "outputs": [],
   "source": [
    "random.shuffle(mylist)"
   ]
  },
  {
   "cell_type": "code",
   "execution_count": null,
   "id": "37727b95-b6b2-4a9d-b1d3-ae759ed8b357",
   "metadata": {},
   "outputs": [],
   "source": [
    "mylist"
   ]
  },
  {
   "cell_type": "code",
   "execution_count": null,
   "id": "dd5b0c5a-81d2-43e0-965d-902cddefb3b4",
   "metadata": {},
   "outputs": [],
   "source": [
    "random.uniform(a=0,b=100)"
   ]
  },
  {
   "cell_type": "code",
   "execution_count": null,
   "id": "3d4208ca-efac-464b-ad17-2580ed6687a9",
   "metadata": {},
   "outputs": [],
   "source": [
    "random.gauss(mu=0,sigma=1)"
   ]
  },
  {
   "cell_type": "code",
   "execution_count": null,
   "id": "327c27d1-653d-4725-9d1c-8794f17e41b5",
   "metadata": {},
   "outputs": [],
   "source": [
    "#NUMPY"
   ]
  },
  {
   "cell_type": "markdown",
   "id": "ca26c03c-980b-4cee-bdff-6df660aae65b",
   "metadata": {},
   "source": [
    "### Debugger"
   ]
  },
  {
   "cell_type": "code",
   "execution_count": null,
   "id": "0a7470db-6643-4085-a373-538824a2df73",
   "metadata": {},
   "outputs": [],
   "source": [
    "x = [x for x in range(1,4)]\n",
    "y = 2\n",
    "z = 3"
   ]
  },
  {
   "cell_type": "code",
   "execution_count": null,
   "id": "376cce9c-4934-4837-ae6e-1baf97b814b4",
   "metadata": {},
   "outputs": [],
   "source": [
    "x"
   ]
  },
  {
   "cell_type": "code",
   "execution_count": null,
   "id": "8cd4242b-7484-40b3-b8e8-a478bf6a7b82",
   "metadata": {},
   "outputs": [],
   "source": [
    "result = y + z\n",
    "result2 = x + y"
   ]
  },
  {
   "cell_type": "code",
   "execution_count": null,
   "id": "43b66064-829d-42f9-81bf-43da4fd6237a",
   "metadata": {},
   "outputs": [],
   "source": [
    "import pdb"
   ]
  },
  {
   "cell_type": "code",
   "execution_count": null,
   "id": "acf7c66a-a667-4963-86b0-52833fadb552",
   "metadata": {},
   "outputs": [],
   "source": [
    "x = [x for x in range(1,4)]\n",
    "y = 2\n",
    "z = 3\n",
    "\n",
    "result = y + z\n",
    "\n",
    "pdb.set_trace()\n",
    "\n",
    "result2 = x + y"
   ]
  },
  {
   "cell_type": "code",
   "execution_count": null,
   "id": "38c132c4-4d88-42f5-9403-35992f55fad1",
   "metadata": {},
   "outputs": [],
   "source": []
  },
  {
   "cell_type": "code",
   "execution_count": null,
   "id": "33524517-4f70-460d-8259-9ea1e4146e99",
   "metadata": {},
   "outputs": [],
   "source": []
  }
 ],
 "metadata": {
  "kernelspec": {
   "display_name": "Python 3 (ipykernel)",
   "language": "python",
   "name": "python3"
  },
  "language_info": {
   "codemirror_mode": {
    "name": "ipython",
    "version": 3
   },
   "file_extension": ".py",
   "mimetype": "text/x-python",
   "name": "python",
   "nbconvert_exporter": "python",
   "pygments_lexer": "ipython3",
   "version": "3.10.4"
  }
 },
 "nbformat": 4,
 "nbformat_minor": 5
}
